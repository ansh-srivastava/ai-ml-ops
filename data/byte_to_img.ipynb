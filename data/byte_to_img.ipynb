{
 "cells": [
  {
   "cell_type": "markdown",
   "metadata": {},
   "source": [
    "# Byte to Img"
   ]
  },
  {
   "cell_type": "code",
   "execution_count": 1,
   "metadata": {
    "ExecuteTime": {
     "end_time": "2020-03-17T14:16:42.024881Z",
     "start_time": "2020-03-17T14:16:41.073096Z"
    }
   },
   "outputs": [
    {
     "name": "stderr",
     "output_type": "stream",
     "text": [
      "Using TensorFlow backend.\n"
     ]
    }
   ],
   "source": [
    "from keras.datasets import cifar100, fashion_mnist"
   ]
  },
  {
   "cell_type": "code",
   "execution_count": 185,
   "metadata": {
    "ExecuteTime": {
     "end_time": "2020-03-17T17:49:37.349312Z",
     "start_time": "2020-03-17T17:49:36.047287Z"
    }
   },
   "outputs": [
    {
     "name": "stdout",
     "output_type": "stream",
     "text": [
      "Requirement already satisfied: pypng in /home/pydemia/apps/anaconda3/envs/tf2-py37/lib/python3.7/site-packages (0.0.20)\n",
      "Note: you may need to restart the kernel to use updated packages.\n"
     ]
    }
   ],
   "source": [
    "import os\n",
    "import numpy as np\n",
    "import pandas as pd\n",
    "import matplotlib.pyplot as plt\n",
    "\n",
    "%pip install pypng\n",
    "import png"
   ]
  },
  {
   "cell_type": "markdown",
   "metadata": {},
   "source": [
    "## Fashion MNIST"
   ]
  },
  {
   "cell_type": "code",
   "execution_count": 149,
   "metadata": {
    "ExecuteTime": {
     "end_time": "2020-03-17T17:28:03.096731Z",
     "start_time": "2020-03-17T17:28:02.743433Z"
    }
   },
   "outputs": [],
   "source": [
    "## Fashion MNIST\n",
    "\n",
    "\"\"\"\n",
    "\n",
    "| Label | Description |\n",
    "| :---: | :---------: |\n",
    "| 0 | T-shirt/top |\n",
    "| 1 | Trouser |\n",
    "| 2 | Pullover |\n",
    "| 3 | Dress |\n",
    "| 4 | Coat |\n",
    "| 5 | Sandal |\n",
    "| 6 | Shirt |\n",
    "| 7 | Sneaker |\n",
    "| 8 | Bag |\n",
    "| 9 | Ankle boot |\n",
    "\n",
    "\"\"\"\n",
    "\n",
    "from keras.datasets import fashion_mnist\n",
    "\n",
    "\n",
    "(x_train, y_train), (x_test, y_test) = fashion_mnist.load_data()\n",
    "#x_train = x_train.reshape(*x_train.shape, 1)"
   ]
  },
  {
   "cell_type": "code",
   "execution_count": 150,
   "metadata": {
    "ExecuteTime": {
     "end_time": "2020-03-17T17:28:06.234371Z",
     "start_time": "2020-03-17T17:28:06.231709Z"
    }
   },
   "outputs": [],
   "source": [
    "base_dir = os.path.join(\n",
    "    os.getcwd(),\n",
    "    \"fashion-mnist\",\n",
    "    \"raw-images\",\n",
    ")"
   ]
  },
  {
   "cell_type": "code",
   "execution_count": 29,
   "metadata": {
    "ExecuteTime": {
     "end_time": "2020-03-17T16:15:58.365784Z",
     "start_time": "2020-03-17T16:15:52.172362Z"
    }
   },
   "outputs": [],
   "source": [
    "_, rows, cols = x_train.shape\n",
    "\n",
    "\n",
    "filepath = os.path.join(base_dir, \"train-images\")\n",
    "for i, img in enumerate(x_train):\n",
    "    filename = os.path.join(\n",
    "        filepath,\n",
    "        str(i).zfill(8) + \".png\",\n",
    "    )\n",
    "    with open(filename, \"wb\") as file:\n",
    "        w = png.Writer(cols, rows, greyscale=True)\n",
    "        w.write(file, img)"
   ]
  },
  {
   "cell_type": "code",
   "execution_count": 85,
   "metadata": {
    "ExecuteTime": {
     "end_time": "2020-03-17T16:42:42.415558Z",
     "start_time": "2020-03-17T16:42:41.377238Z"
    }
   },
   "outputs": [],
   "source": [
    "_, rows, cols = x_test.shape\n",
    "\n",
    "\n",
    "filepath = os.path.join(base_dir, \"test-images\")\n",
    "for i, img in enumerate(x_test):\n",
    "    filename = os.path.join(\n",
    "        filepath,\n",
    "        str(i).zfill(8) + \".png\",\n",
    "    )\n",
    "    with open(filename, \"wb\") as file:\n",
    "        w = png.Writer(cols, rows, greyscale=True)\n",
    "        w.write(file, img)"
   ]
  },
  {
   "cell_type": "code",
   "execution_count": 152,
   "metadata": {
    "ExecuteTime": {
     "end_time": "2020-03-17T17:28:30.495086Z",
     "start_time": "2020-03-17T17:28:30.487094Z"
    }
   },
   "outputs": [],
   "source": [
    "label_str = \"\"\"label,desc\n",
    "0,T-shirt/top\n",
    "1,Trouser\n",
    "2,Pullover\n",
    "3,Dress\n",
    "4,Coat\n",
    "5,Sandal\n",
    "6,Shirt\n",
    "7,Sneaker\n",
    "8,Bag\n",
    "9,Ankle boot\"\"\"\n",
    "\n",
    "y_dict_df = (\n",
    "    pd.read_csv(StringIO(label_str), sep=\",\", index_col=0)\n",
    "    .reset_index()\n",
    ")\n",
    "y_dict = y_dict_df[\"desc\"].to_dict()"
   ]
  },
  {
   "cell_type": "code",
   "execution_count": 153,
   "metadata": {
    "ExecuteTime": {
     "end_time": "2020-03-17T17:28:34.696600Z",
     "start_time": "2020-03-17T17:28:34.455534Z"
    },
    "scrolled": true
   },
   "outputs": [],
   "source": [
    "y_data_list = [y_train, y_test]\n",
    "y_train_path = os.path.join(base_dir, \"train-labels\")\n",
    "y_test_path = os.path.join(base_dir, \"test-labels\")\n",
    "y_path_list = [y_train_path, y_test_path]\n",
    "\n",
    "for y_data, filepath in zip(y_data_list, y_path_list):\n",
    "    y_df = pd.DataFrame(y_data, columns=[\"label\"])\n",
    "    y_df.index.rename(\"img_num\", inplace=True)\n",
    "    y_df.reset_index(inplace=True)\n",
    "    # y_df_described = pd.merge(y_df, y_dict_df, on=\"label\", how=\"left\")\n",
    "    y_df[\"desc\"] = y_df[\"label\"].map(y_dict)\n",
    "    y_df_described = y_df\n",
    "    \n",
    "    filename = os.path.join(\n",
    "        filepath,\n",
    "        os.path.basename(filepath) + \".csv\",\n",
    "    )\n",
    "    y_df_described.to_csv(filename, index=False, header=True)"
   ]
  },
  {
   "cell_type": "markdown",
   "metadata": {},
   "source": [
    "## CIFAR100"
   ]
  },
  {
   "cell_type": "code",
   "execution_count": 154,
   "metadata": {
    "ExecuteTime": {
     "end_time": "2020-03-17T17:28:50.182077Z",
     "start_time": "2020-03-17T17:28:49.856449Z"
    }
   },
   "outputs": [],
   "source": [
    "from keras.datasets import cifar100\n",
    "\n",
    "\n",
    "(x_train, y_train), (x_test, y_test) = cifar100.load_data(\n",
    "    label_mode=\"fine\",  # {\"fine\", \"coarse\"} == \"the class\", \"the superclass\"\n",
    "    #image_data_format=\"channels_last\",  # {\"channels_first\", \"channels_last\"}\n",
    ")\n",
    "(_, y_train_superclass), (_, y_test_superclass) = cifar100.load_data(\n",
    "    label_mode=\"coarse\",\n",
    ")"
   ]
  },
  {
   "cell_type": "code",
   "execution_count": 155,
   "metadata": {
    "ExecuteTime": {
     "end_time": "2020-03-17T17:28:50.465909Z",
     "start_time": "2020-03-17T17:28:50.451789Z"
    }
   },
   "outputs": [],
   "source": [
    "fine_labels = [\n",
    "'apple', # id 0\n",
    "'aquarium_fish',\n",
    "'baby',\n",
    "'bear',\n",
    "'beaver',\n",
    "'bed',\n",
    "'bee',\n",
    "'beetle',\n",
    "'bicycle',\n",
    "'bottle',\n",
    "'bowl',\n",
    "'boy',\n",
    "'bridge',\n",
    "'bus',\n",
    "'butterfly',\n",
    "'camel',\n",
    "'can',\n",
    "'castle',\n",
    "'caterpillar',\n",
    "'cattle',\n",
    "'chair',\n",
    "'chimpanzee',\n",
    "'clock',\n",
    "'cloud',\n",
    "'cockroach',\n",
    "'couch',\n",
    "'crab',\n",
    "'crocodile',\n",
    "'cup',\n",
    "'dinosaur',\n",
    "'dolphin',\n",
    "'elephant',\n",
    "'flatfish',\n",
    "'forest',\n",
    "'fox',\n",
    "'girl',\n",
    "'hamster',\n",
    "'house',\n",
    "'kangaroo',\n",
    "'computer_keyboard',\n",
    "'lamp',\n",
    "'lawn_mower',\n",
    "'leopard',\n",
    "'lion',\n",
    "'lizard',\n",
    "'lobster',\n",
    "'man',\n",
    "'maple_tree',\n",
    "'motorcycle',\n",
    "'mountain',\n",
    "'mouse',\n",
    "'mushroom',\n",
    "'oak_tree',\n",
    "'orange',\n",
    "'orchid',\n",
    "'otter',\n",
    "'palm_tree',\n",
    "'pear',\n",
    "'pickup_truck',\n",
    "'pine_tree',\n",
    "'plain',\n",
    "'plate',\n",
    "'poppy',\n",
    "'porcupine',\n",
    "'possum',\n",
    "'rabbit',\n",
    "'raccoon',\n",
    "'ray',\n",
    "'road',\n",
    "'rocket',\n",
    "'rose',\n",
    "'sea',\n",
    "'seal',\n",
    "'shark',\n",
    "'shrew',\n",
    "'skunk',\n",
    "'skyscraper',\n",
    "'snail',\n",
    "'snake',\n",
    "'spider',\n",
    "'squirrel',\n",
    "'streetcar',\n",
    "'sunflower',\n",
    "'sweet_pepper',\n",
    "'table',\n",
    "'tank',\n",
    "'telephone',\n",
    "'television',\n",
    "'tiger',\n",
    "'tractor',\n",
    "'train',\n",
    "'trout',\n",
    "'tulip',\n",
    "'turtle',\n",
    "'wardrobe',\n",
    "'whale',\n",
    "'willow_tree',\n",
    "'wolf',\n",
    "'woman',\n",
    "'worm',\n",
    "]\n",
    "\n",
    "coarse_labels = {\n",
    "'aquatic mammals': ['beaver', 'dolphin', 'otter', 'seal', 'whale'],\n",
    "'fish': ['aquarium_fish', 'flatfish', 'ray', 'shark', 'trout'],\n",
    "'flowers': ['orchid', 'poppy', 'rose', 'sunflower', 'tulip'],\n",
    "'food containers': ['bottle', 'bowl', 'can', 'cup', 'plate'],\n",
    "'fruit and vegetables': ['apple', 'mushroom', 'orange', 'pear', 'sweet_pepper'],\n",
    "'household electrical device': ['clock', 'computer_keyboard', 'lamp', 'telephone', 'television'],\n",
    "'household furniture': ['bed', 'chair', 'couch', 'table', 'wardrobe'],\n",
    "'insects': ['bee', 'beetle', 'butterfly', 'caterpillar', 'cockroach'],\n",
    "'large carnivores': ['bear', 'leopard', 'lion', 'tiger', 'wolf'],\n",
    "'large man-made outdoor things': ['bridge', 'castle', 'house', 'road', 'skyscraper'],\n",
    "'large natural outdoor scenes': ['cloud', 'forest', 'mountain', 'plain', 'sea'],\n",
    "'large omnivores and herbivores': ['camel', 'cattle', 'chimpanzee', 'elephant', 'kangaroo'],\n",
    "'medium-sized mammals': ['fox', 'porcupine', 'possum', 'raccoon', 'skunk'],\n",
    "'non-insect invertebrates': ['crab', 'lobster', 'snail', 'spider', 'worm'],\n",
    "'people': ['baby', 'boy', 'girl', 'man', 'woman'],\n",
    "'reptiles': ['crocodile', 'dinosaur', 'lizard', 'snake', 'turtle'],\n",
    "'small mammals': ['hamster', 'mouse', 'rabbit', 'shrew', 'squirrel'],\n",
    "'trees': ['maple_tree', 'oak_tree', 'palm_tree', 'pine_tree', 'willow_tree'],\n",
    "'vehicles 1': ['bicycle', 'bus', 'motorcycle', 'pickup_truck', 'train'],\n",
    "'vehicles 2': ['lawn_mower', 'rocket', 'streetcar', 'tank', 'tractor'],\n",
    "}"
   ]
  },
  {
   "cell_type": "code",
   "execution_count": 156,
   "metadata": {
    "ExecuteTime": {
     "end_time": "2020-03-17T17:28:51.659439Z",
     "start_time": "2020-03-17T17:28:51.655473Z"
    }
   },
   "outputs": [],
   "source": [
    "fine_labels_dict = {i: label for i, label in enumerate(fine_labels)}\n",
    "\n",
    "superclass_dict = {\n",
    "    value: key for key, value_list in coarse_labels.items()\n",
    "     for value in value_list\n",
    "}\n",
    "superclass_int_dict = {key: i for i, key in enumerate(sorted(coarse_labels))}"
   ]
  },
  {
   "cell_type": "code",
   "execution_count": 157,
   "metadata": {
    "ExecuteTime": {
     "end_time": "2020-03-17T17:28:52.293746Z",
     "start_time": "2020-03-17T17:28:52.289759Z"
    }
   },
   "outputs": [],
   "source": [
    "y_df = pd.DataFrame(\n",
    "    {\n",
    "        \"label\": y_train.flatten(),\n",
    "        \"super_label\": y_train_superclass.flatten(),\n",
    "    }\n",
    ")"
   ]
  },
  {
   "cell_type": "code",
   "execution_count": 127,
   "metadata": {
    "ExecuteTime": {
     "end_time": "2020-03-17T17:14:53.582064Z",
     "start_time": "2020-03-17T17:14:53.576707Z"
    }
   },
   "outputs": [],
   "source": [
    "y_train_df = pd.DataFrame(y_train[:10], columns=[\"labels\"])\n",
    "y_train_df[\"labels_description\"] = y_train_df[\"labels\"].map(fine_labels_dict)\n",
    "y_train_df[\"super_labels\"] = y_train_df[\"labels_description\"].map(superclass_dict)\n",
    "y_train_df[\"super_labels_int\"] = y_train_df[\"super_labels\"].map(superclass_int_dict)"
   ]
  },
  {
   "cell_type": "code",
   "execution_count": 138,
   "metadata": {
    "ExecuteTime": {
     "end_time": "2020-03-17T17:18:28.126156Z",
     "start_time": "2020-03-17T17:18:28.117470Z"
    }
   },
   "outputs": [],
   "source": []
  },
  {
   "cell_type": "code",
   "execution_count": 139,
   "metadata": {
    "ExecuteTime": {
     "end_time": "2020-03-17T17:18:29.883513Z",
     "start_time": "2020-03-17T17:18:29.874531Z"
    }
   },
   "outputs": [
    {
     "data": {
      "text/html": [
       "<div>\n",
       "<style scoped>\n",
       "    .dataframe tbody tr th:only-of-type {\n",
       "        vertical-align: middle;\n",
       "    }\n",
       "\n",
       "    .dataframe tbody tr th {\n",
       "        vertical-align: top;\n",
       "    }\n",
       "\n",
       "    .dataframe thead th {\n",
       "        text-align: right;\n",
       "    }\n",
       "</style>\n",
       "<table border=\"1\" class=\"dataframe\">\n",
       "  <thead>\n",
       "    <tr style=\"text-align: right;\">\n",
       "      <th></th>\n",
       "      <th>labels</th>\n",
       "      <th>labels_description</th>\n",
       "      <th>super_labels</th>\n",
       "      <th>super_labels_int</th>\n",
       "    </tr>\n",
       "  </thead>\n",
       "  <tbody>\n",
       "    <tr>\n",
       "      <th>0</th>\n",
       "      <td>19</td>\n",
       "      <td>cattle</td>\n",
       "      <td>large omnivores and herbivores</td>\n",
       "      <td>11</td>\n",
       "    </tr>\n",
       "    <tr>\n",
       "      <th>1</th>\n",
       "      <td>29</td>\n",
       "      <td>dinosaur</td>\n",
       "      <td>reptiles</td>\n",
       "      <td>15</td>\n",
       "    </tr>\n",
       "    <tr>\n",
       "      <th>2</th>\n",
       "      <td>0</td>\n",
       "      <td>apple</td>\n",
       "      <td>fruit and vegetables</td>\n",
       "      <td>4</td>\n",
       "    </tr>\n",
       "    <tr>\n",
       "      <th>3</th>\n",
       "      <td>11</td>\n",
       "      <td>boy</td>\n",
       "      <td>people</td>\n",
       "      <td>14</td>\n",
       "    </tr>\n",
       "    <tr>\n",
       "      <th>4</th>\n",
       "      <td>1</td>\n",
       "      <td>aquarium_fish</td>\n",
       "      <td>fish</td>\n",
       "      <td>1</td>\n",
       "    </tr>\n",
       "    <tr>\n",
       "      <th>5</th>\n",
       "      <td>86</td>\n",
       "      <td>telephone</td>\n",
       "      <td>household electrical device</td>\n",
       "      <td>5</td>\n",
       "    </tr>\n",
       "    <tr>\n",
       "      <th>6</th>\n",
       "      <td>90</td>\n",
       "      <td>train</td>\n",
       "      <td>vehicles 1</td>\n",
       "      <td>18</td>\n",
       "    </tr>\n",
       "    <tr>\n",
       "      <th>7</th>\n",
       "      <td>28</td>\n",
       "      <td>cup</td>\n",
       "      <td>food containers</td>\n",
       "      <td>3</td>\n",
       "    </tr>\n",
       "    <tr>\n",
       "      <th>8</th>\n",
       "      <td>23</td>\n",
       "      <td>cloud</td>\n",
       "      <td>large natural outdoor scenes</td>\n",
       "      <td>10</td>\n",
       "    </tr>\n",
       "    <tr>\n",
       "      <th>9</th>\n",
       "      <td>31</td>\n",
       "      <td>elephant</td>\n",
       "      <td>large omnivores and herbivores</td>\n",
       "      <td>11</td>\n",
       "    </tr>\n",
       "  </tbody>\n",
       "</table>\n",
       "</div>"
      ],
      "text/plain": [
       "   labels labels_description                    super_labels  super_labels_int\n",
       "0      19             cattle  large omnivores and herbivores                11\n",
       "1      29           dinosaur                        reptiles                15\n",
       "2       0              apple            fruit and vegetables                 4\n",
       "3      11                boy                          people                14\n",
       "4       1      aquarium_fish                            fish                 1\n",
       "5      86          telephone     household electrical device                 5\n",
       "6      90              train                      vehicles 1                18\n",
       "7      28                cup                 food containers                 3\n",
       "8      23              cloud    large natural outdoor scenes                10\n",
       "9      31           elephant  large omnivores and herbivores                11"
      ]
     },
     "execution_count": 139,
     "metadata": {},
     "output_type": "execute_result"
    }
   ],
   "source": [
    "y_train_df"
   ]
  },
  {
   "cell_type": "code",
   "execution_count": 158,
   "metadata": {
    "ExecuteTime": {
     "end_time": "2020-03-17T17:28:58.402143Z",
     "start_time": "2020-03-17T17:28:58.398762Z"
    }
   },
   "outputs": [
    {
     "data": {
      "text/plain": [
       "'/mnt/hdc1/data/git/ai-ml-ops/data/fashion-mnist'"
      ]
     },
     "execution_count": 158,
     "metadata": {},
     "output_type": "execute_result"
    }
   ],
   "source": [
    "os.getcwd()"
   ]
  },
  {
   "cell_type": "code",
   "execution_count": 165,
   "metadata": {
    "ExecuteTime": {
     "end_time": "2020-03-17T17:35:42.465161Z",
     "start_time": "2020-03-17T17:35:42.462257Z"
    }
   },
   "outputs": [],
   "source": [
    "base_dir = os.path.join(\n",
    "    os.getcwd(),\n",
    "    \"cifar100\",\n",
    "    \"raw-images\",\n",
    ")"
   ]
  },
  {
   "cell_type": "code",
   "execution_count": 167,
   "metadata": {
    "ExecuteTime": {
     "end_time": "2020-03-17T17:36:07.654005Z",
     "start_time": "2020-03-17T17:36:07.650607Z"
    }
   },
   "outputs": [
    {
     "data": {
      "text/plain": [
       "(50000, 32, 32, 3)"
      ]
     },
     "execution_count": 167,
     "metadata": {},
     "output_type": "execute_result"
    }
   ],
   "source": [
    " x_train.shape"
   ]
  },
  {
   "cell_type": "code",
   "execution_count": 171,
   "metadata": {
    "ExecuteTime": {
     "end_time": "2020-03-17T17:39:16.468203Z",
     "start_time": "2020-03-17T17:39:16.464550Z"
    }
   },
   "outputs": [
    {
     "data": {
      "text/plain": [
       "dtype('uint8')"
      ]
     },
     "execution_count": 171,
     "metadata": {},
     "output_type": "execute_result"
    }
   ],
   "source": [
    "img.dtype"
   ]
  },
  {
   "cell_type": "code",
   "execution_count": 173,
   "metadata": {
    "ExecuteTime": {
     "end_time": "2020-03-17T17:39:27.292071Z",
     "start_time": "2020-03-17T17:39:27.288520Z"
    },
    "scrolled": true
   },
   "outputs": [
    {
     "data": {
      "text/plain": [
       "(32, 32, 3)"
      ]
     },
     "execution_count": 173,
     "metadata": {},
     "output_type": "execute_result"
    }
   ],
   "source": [
    "img.shape"
   ]
  },
  {
   "cell_type": "code",
   "execution_count": null,
   "metadata": {},
   "outputs": [],
   "source": []
  },
  {
   "cell_type": "code",
   "execution_count": 186,
   "metadata": {
    "ExecuteTime": {
     "end_time": "2020-03-17T17:50:32.773822Z",
     "start_time": "2020-03-17T17:50:05.823435Z"
    }
   },
   "outputs": [],
   "source": [
    "_, rows, cols, channels = x_train.shape\n",
    "\n",
    "\n",
    "filepath = os.path.join(base_dir, \"train-images\")\n",
    "os.makedirs(filepath, exist_ok=True)\n",
    "for i, img in enumerate(x_train):\n",
    "    filename = os.path.join(\n",
    "        filepath,\n",
    "        str(i).zfill(8) + \".png\",\n",
    "    )\n",
    " \n",
    "    plt.imsave(filename, img)"
   ]
  },
  {
   "cell_type": "code",
   "execution_count": 187,
   "metadata": {
    "ExecuteTime": {
     "end_time": "2020-03-17T17:50:52.936215Z",
     "start_time": "2020-03-17T17:50:47.519635Z"
    }
   },
   "outputs": [],
   "source": [
    "_, rows, cols, channels = x_test.shape\n",
    "\n",
    "\n",
    "filepath = os.path.join(base_dir, \"test-images\")\n",
    "os.makedirs(filepath, exist_ok=True)\n",
    "for i, img in enumerate(x_test):\n",
    "    filename = os.path.join(\n",
    "        filepath,\n",
    "        str(i).zfill(8) + \".png\",\n",
    "    )\n",
    "    plt.imsave(filename, img)"
   ]
  },
  {
   "cell_type": "code",
   "execution_count": 164,
   "metadata": {
    "ExecuteTime": {
     "end_time": "2020-03-17T17:34:24.700549Z",
     "start_time": "2020-03-17T17:34:24.388702Z"
    }
   },
   "outputs": [],
   "source": [
    "y_data_list = [[y_train, y_train_superclass], [y_test, y_test_superclass]]\n",
    "y_train_path = os.path.join(base_dir, \"train-labels\")\n",
    "y_test_path = os.path.join(base_dir, \"test-labels\")\n",
    "y_path_list = [y_train_path, y_test_path]\n",
    "\n",
    "for y_data, filepath in zip(y_data_list, y_path_list):\n",
    "    y_df = pd.DataFrame(y_train, columns=[\"label\"])\n",
    "    y_data_label, y_data_superclass = y_data\n",
    "    y_df = pd.DataFrame(\n",
    "        {\n",
    "            \"label\": y_data_label.flatten(),\n",
    "            \"super_label\": y_data_superclass.flatten(),\n",
    "        }\n",
    "    )\n",
    "    y_df.index.rename(\"img_num\", inplace=True)\n",
    "    y_df.reset_index(inplace=True)\n",
    "    # y_df_described = pd.merge(y_df, y_dict_df, on=\"label\", how=\"left\")\n",
    "    y_df[\"label_desc\"] = y_df[\"label\"].map(fine_labels_dict)\n",
    "    y_df[\"super_label_desc\"] = y_df[\"super_label\"].map(superclass_int_dict)\n",
    "    #y_train_df[\"super_label_desc\"] = y_train_df[\"label_desc\"].map(superclass_dict)\n",
    "    #y_train_df[\"super_label_int\"] = y_train_df[\"super_label_desc\"].map(superclass_int_dict)\n",
    "\n",
    "    y_df_described = y_df\n",
    "\n",
    "    os.makedirs(filepath, exist_ok=True)\n",
    "    filename = os.path.join(\n",
    "        filepath,\n",
    "        os.path.basename(filepath) + \".csv\",\n",
    "    )\n",
    "    y_df_described.to_csv(filename, index=False, header=True)"
   ]
  },
  {
   "cell_type": "code",
   "execution_count": null,
   "metadata": {},
   "outputs": [],
   "source": []
  },
  {
   "cell_type": "code",
   "execution_count": 109,
   "metadata": {
    "ExecuteTime": {
     "end_time": "2020-03-17T17:07:27.426679Z",
     "start_time": "2020-03-17T17:07:27.420281Z"
    }
   },
   "outputs": [
    {
     "data": {
      "text/plain": [
       "0    20\n",
       "dtype: int64"
      ]
     },
     "execution_count": 109,
     "metadata": {},
     "output_type": "execute_result"
    }
   ],
   "source": [
    "pd.DataFrame(y_train).nunique()"
   ]
  },
  {
   "cell_type": "code",
   "execution_count": 102,
   "metadata": {
    "ExecuteTime": {
     "end_time": "2020-03-17T17:00:52.262232Z",
     "start_time": "2020-03-17T17:00:52.255331Z"
    }
   },
   "outputs": [
    {
     "data": {
      "text/plain": [
       "(50000, 1)"
      ]
     },
     "execution_count": 102,
     "metadata": {},
     "output_type": "execute_result"
    }
   ],
   "source": [
    "y_train.shape"
   ]
  },
  {
   "cell_type": "code",
   "execution_count": 100,
   "metadata": {
    "ExecuteTime": {
     "end_time": "2020-03-17T17:00:40.170326Z",
     "start_time": "2020-03-17T17:00:40.165515Z"
    }
   },
   "outputs": [
    {
     "data": {
      "text/plain": [
       "array([[19],\n",
       "       [29],\n",
       "       [ 0],\n",
       "       [11],\n",
       "       [ 1],\n",
       "       [86],\n",
       "       [90],\n",
       "       [28],\n",
       "       [23],\n",
       "       [31]])"
      ]
     },
     "execution_count": 100,
     "metadata": {},
     "output_type": "execute_result"
    }
   ],
   "source": [
    "y_train[:10]"
   ]
  },
  {
   "cell_type": "code",
   "execution_count": 103,
   "metadata": {
    "ExecuteTime": {
     "end_time": "2020-03-17T17:00:54.818053Z",
     "start_time": "2020-03-17T17:00:54.813496Z"
    }
   },
   "outputs": [
    {
     "data": {
      "text/plain": [
       "array([[11],\n",
       "       [15],\n",
       "       [ 4],\n",
       "       [14],\n",
       "       [ 1],\n",
       "       [ 5],\n",
       "       [18],\n",
       "       [ 3],\n",
       "       [10],\n",
       "       [11]])"
      ]
     },
     "execution_count": 103,
     "metadata": {},
     "output_type": "execute_result"
    }
   ],
   "source": [
    "y_train[:10]"
   ]
  },
  {
   "cell_type": "code",
   "execution_count": 92,
   "metadata": {
    "ExecuteTime": {
     "end_time": "2020-03-17T16:54:42.549300Z",
     "start_time": "2020-03-17T16:54:42.546798Z"
    }
   },
   "outputs": [
    {
     "data": {
      "text/plain": [
       "(50000, 1)"
      ]
     },
     "execution_count": 92,
     "metadata": {},
     "output_type": "execute_result"
    }
   ],
   "source": [
    "y_train.shape"
   ]
  },
  {
   "cell_type": "code",
   "execution_count": 93,
   "metadata": {
    "ExecuteTime": {
     "end_time": "2020-03-17T16:54:50.450418Z",
     "start_time": "2020-03-17T16:54:50.441819Z"
    }
   },
   "outputs": [
    {
     "data": {
      "text/plain": [
       "(50000, 32, 32, 3)"
      ]
     },
     "execution_count": 93,
     "metadata": {},
     "output_type": "execute_result"
    }
   ],
   "source": [
    "x_train.shape"
   ]
  },
  {
   "cell_type": "code",
   "execution_count": 94,
   "metadata": {
    "ExecuteTime": {
     "end_time": "2020-03-17T16:55:09.627847Z",
     "start_time": "2020-03-17T16:55:09.624994Z"
    }
   },
   "outputs": [
    {
     "data": {
      "text/plain": [
       "array([[19],\n",
       "       [29],\n",
       "       [ 0],\n",
       "       [11],\n",
       "       [ 1],\n",
       "       [86],\n",
       "       [90],\n",
       "       [28],\n",
       "       [23],\n",
       "       [31]])"
      ]
     },
     "execution_count": 94,
     "metadata": {},
     "output_type": "execute_result"
    }
   ],
   "source": [
    "y_train[:10]"
   ]
  },
  {
   "cell_type": "code",
   "execution_count": null,
   "metadata": {},
   "outputs": [],
   "source": []
  }
 ],
 "metadata": {
  "kernelspec": {
   "display_name": "Py37-Tensorflow2 (conda env)",
   "language": "python",
   "name": "tf2-py37"
  },
  "language_info": {
   "codemirror_mode": {
    "name": "ipython",
    "version": 3
   },
   "file_extension": ".py",
   "mimetype": "text/x-python",
   "name": "python",
   "nbconvert_exporter": "python",
   "pygments_lexer": "ipython3",
   "version": "3.7.3"
  },
  "toc": {
   "base_numbering": 1,
   "nav_menu": {},
   "number_sections": true,
   "sideBar": true,
   "skip_h1_title": false,
   "title_cell": "Table of Contents",
   "title_sidebar": "Contents",
   "toc_cell": false,
   "toc_position": {},
   "toc_section_display": true,
   "toc_window_display": false
  },
  "varInspector": {
   "cols": {
    "lenName": 16,
    "lenType": 16,
    "lenVar": 40
   },
   "kernels_config": {
    "python": {
     "delete_cmd_postfix": "",
     "delete_cmd_prefix": "del ",
     "library": "var_list.py",
     "varRefreshCmd": "print(var_dic_list())"
    },
    "r": {
     "delete_cmd_postfix": ") ",
     "delete_cmd_prefix": "rm(",
     "library": "var_list.r",
     "varRefreshCmd": "cat(var_dic_list()) "
    }
   },
   "types_to_exclude": [
    "module",
    "function",
    "builtin_function_or_method",
    "instance",
    "_Feature"
   ],
   "window_display": false
  }
 },
 "nbformat": 4,
 "nbformat_minor": 2
}
