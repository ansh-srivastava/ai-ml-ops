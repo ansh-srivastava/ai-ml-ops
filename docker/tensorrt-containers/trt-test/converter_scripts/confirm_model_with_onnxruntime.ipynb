{
 "cells": [
  {
   "cell_type": "markdown",
   "metadata": {},
   "source": [
    "## Inference with ONNX Runtime\n",
    "\n",
    "Use this notebook to test your converted ONNX model with [ONNX Runtime](http://aka.ms/onnxruntime), a cross-platform, high performance, open source scoring engine for ML models.\n",
    "\n",
    "If you have a model from a different framework (i.e. CoreML, TensorFlow, Keras, etc.) please use the [converter notebooks](converter_scripts) to convert your model to ONNX before using this notebook."
   ]
  },
  {
   "cell_type": "code",
   "execution_count": null,
   "metadata": {},
   "outputs": [],
   "source": [
    "import onnxruntime\n",
    "import onnx\n",
    "import numpy as np"
   ]
  },
  {
   "cell_type": "code",
   "execution_count": null,
   "metadata": {},
   "outputs": [],
   "source": [
    "# Update the name and path of your ONNX model\n",
    "\n",
    "input_onnx_model = 'model.onnx'"
   ]
  },
  {
   "cell_type": "code",
   "execution_count": null,
   "metadata": {},
   "outputs": [],
   "source": [
    "# Check if your ONNX model is valid\n",
    "\n",
    "model = onnx.load(input_onnx_model)\n",
    "onnx.checker.check_model(model)\n",
    "\n",
    "print('The ONNX model is checked!')"
   ]
  },
  {
   "cell_type": "code",
   "execution_count": null,
   "metadata": {},
   "outputs": [],
   "source": [
    "# Start an ONNX Runtime inference session\n",
    "\n",
    "sess = onnxruntime.InferenceSession(input_onnx_model)"
   ]
  },
  {
   "cell_type": "markdown",
   "metadata": {},
   "source": [
    "### Identify Inputs and Outputs"
   ]
  },
  {
   "cell_type": "code",
   "execution_count": null,
   "metadata": {},
   "outputs": [],
   "source": [
    "input_name = sess.get_inputs()[0].name\n",
    "print(\"Input name  :\", input_name)\n",
    "input_shape = sess.get_inputs()[0].shape\n",
    "print(\"Input shape :\", input_shape)\n",
    "input_type = sess.get_inputs()[0].type\n",
    "print(\"Input type  :\", input_type)"
   ]
  },
  {
   "cell_type": "code",
   "execution_count": null,
   "metadata": {},
   "outputs": [],
   "source": [
    "output_name = sess.get_outputs()[0].name\n",
    "print(\"Output name  :\", output_name)  \n",
    "output_shape = sess.get_outputs()[0].shape\n",
    "print(\"Output shape :\", output_shape)\n",
    "output_type = sess.get_outputs()[0].type\n",
    "print(\"Output type  :\", output_type)"
   ]
  },
  {
   "cell_type": "markdown",
   "metadata": {},
   "source": [
    "### Test predictions with ONNX Runtime"
   ]
  },
  {
   "cell_type": "code",
   "execution_count": null,
   "metadata": {},
   "outputs": [],
   "source": [
    "# replace the values of X with test input for your model\n",
    "\n",
    "X = np.random.random(input_shape)"
   ]
  },
  {
   "cell_type": "code",
   "execution_count": null,
   "metadata": {},
   "outputs": [],
   "source": [
    "%%time\n",
    "pred_onnx = sess.run(None, {input_name: X})"
   ]
  },
  {
   "cell_type": "code",
   "execution_count": null,
   "metadata": {},
   "outputs": [],
   "source": [
    "pred_onnx"
   ]
  }
 ],
 "metadata": {
  "kernelspec": {
   "display_name": "Python 3",
   "language": "python",
   "name": "python3"
  },
  "language_info": {
   "codemirror_mode": {
    "name": "ipython",
    "version": 3
   },
   "file_extension": ".py",
   "mimetype": "text/x-python",
   "name": "python",
   "nbconvert_exporter": "python",
   "pygments_lexer": "ipython3",
   "version": "3.6.5"
  }
 },
 "nbformat": 4,
 "nbformat_minor": 2
}
