{
 "cells": [
  {
   "cell_type": "markdown",
   "metadata": {},
   "source": [
    "# Converting Pre-trained Models from Tensorflow to ONNX\n",
    "\n",
    "[**MODEL ZOO**](https://modelzoo.co/)\n",
    "\n",
    "Tensorflow has a large selection of pre-trained ssd models in its [object detection model zoo](https://github.com/tensorflow/models/blob/master/research/object_detection/g3doc/detection_model_zoo.md).\n",
    "\n",
    "ONNX has its [own model zoo](https://github.com/winnerineast/models-onnx)\n",
    "\n",
    "This tutorial shows how to convert them to ONNX and run them under [onnxruntime](https://github.com/microsoft/onnxruntime).\n",
    "\n",
    "\n",
    "We use [ssd_mobilenet_v1_coco](http://download.tensorflow.org/models/object_detection/ssd_mobilenet_v1_coco_2018_01_28.tar.gz) as example in this tutorial. Other models should work as well.\n",
    "\n",
    "ONNX has support for various ops needed for SSD models since opset-10 so you'll need to use onnx-1.5 or better and a runtime that supports opset-10."
   ]
  },
  {
   "cell_type": "code",
   "execution_count": 1,
   "metadata": {
    "ExecuteTime": {
     "end_time": "2020-04-28T02:04:55.415708Z",
     "start_time": "2020-04-28T02:04:53.770584Z"
    }
   },
   "outputs": [
    {
     "name": "stdout",
     "output_type": "stream",
     "text": [
      "Note: you may need to restart the kernel to use updated packages.\n",
      "Python 3.7.7\n"
     ]
    }
   ],
   "source": [
    "%pip install --upgrade ipymagic -q\n",
    "#import ipymagic\n",
    "%load_ext ipymagic\n",
    "\n",
    "%python --version"
   ]
  },
  {
   "cell_type": "code",
   "execution_count": 2,
   "metadata": {
    "ExecuteTime": {
     "end_time": "2020-04-28T02:04:56.489951Z",
     "start_time": "2020-04-28T02:04:55.422653Z"
    }
   },
   "outputs": [],
   "source": [
    "import os\n",
    "import sys\n",
    "import time\n",
    "from glob import glob\n",
    "\n",
    "import numpy as np\n",
    "import tensorflow as tf\n",
    "import onnx\n",
    "import tf2onnx\n",
    "import onnxmltools\n",
    "import onnxruntime"
   ]
  },
  {
   "cell_type": "markdown",
   "metadata": {},
   "source": [
    "## Base Environment\n",
    "Before we start, lets setup some variables where to find things."
   ]
  },
  {
   "cell_type": "code",
   "execution_count": 3,
   "metadata": {
    "ExecuteTime": {
     "end_time": "2020-04-28T02:04:56.494631Z",
     "start_time": "2020-04-28T02:04:56.491637Z"
    }
   },
   "outputs": [
    {
     "name": "stdout",
     "output_type": "stream",
     "text": [
      "\n",
      "For this tutorial use used the following versions:\n",
      "\n",
      "python      : 3.7.7\n",
      "numpy       : 1.16.0\n",
      "tensorflow  : 1.15.2\n",
      "onnx        : 1.6.0\n",
      "tf2onnx     : 1.5.6\n",
      "onnxmltools : 1.6.1\n",
      "onnxruntime : 1.1.1\n",
      "\n"
     ]
    }
   ],
   "source": [
    "print(f\"\"\"\n",
    "For this tutorial use used the following versions:\n",
    "\n",
    "python      : {sys.version.split(' ')[0]}\n",
    "numpy       : {np.__version__}\n",
    "tensorflow  : {tf.__version__}\n",
    "onnx        : {onnx.__version__}\n",
    "tf2onnx     : {tf2onnx.__version__}\n",
    "onnxmltools : {onnxmltools.__version__}\n",
    "onnxruntime : {onnxruntime.__version__}\n",
    "\"\"\")"
   ]
  },
  {
   "cell_type": "code",
   "execution_count": 4,
   "metadata": {
    "ExecuteTime": {
     "end_time": "2020-04-28T02:04:56.906348Z",
     "start_time": "2020-04-28T02:04:56.495824Z"
    }
   },
   "outputs": [
    {
     "name": "stdout",
     "output_type": "stream",
     "text": [
      "cmake version 3.14.0\r\n",
      "\r\n",
      "CMake suite maintained and supported by Kitware (kitware.com/cmake).\r\n"
     ]
    }
   ],
   "source": [
    "# For onnx build\n",
    "!cmake --version"
   ]
  },
  {
   "cell_type": "code",
   "execution_count": 5,
   "metadata": {
    "ExecuteTime": {
     "end_time": "2020-04-28T02:04:56.923628Z",
     "start_time": "2020-04-28T02:04:56.912503Z"
    }
   },
   "outputs": [
    {
     "data": {
      "text/plain": [
       "environ{'PATH': '/opt/conda/envs/onnx-tf1-15/bin:/opt/conda/bin:/opt/conda/bin:/opt/conda/sbin:/opt/conda/condabin:/usr/local/sbin:/usr/local/bin:/usr/sbin:/usr/bin:/sbin:/bin',\n",
       "        'HOSTNAME': '953a4ce29285',\n",
       "        'TERM': 'xterm-color',\n",
       "        'CONDA_PATH': '/opt/conda',\n",
       "        'JUPYTER_CONFIG_DIR': '/opt/conda/etc/jupyter',\n",
       "        'JUPYTER_DATA_DIR': '/opt/conda/share/jupyter',\n",
       "        'JAVA_HOME': '/usr/lib/jvm/default-java',\n",
       "        'WORKDIR': '/workspace',\n",
       "        'HOME': '/root',\n",
       "        'LC_CTYPE': 'C.UTF-8',\n",
       "        'KERNEL_LAUNCH_TIMEOUT': '40',\n",
       "        'PYTHONPATH': '/opt/conda/envs/onnx-tf1-15/bin/python',\n",
       "        'JPY_PARENT_PID': '1',\n",
       "        'CLICOLOR': '1',\n",
       "        'PAGER': 'cat',\n",
       "        'GIT_PAGER': 'cat',\n",
       "        'MPLBACKEND': 'module://ipykernel.pylab.backend_inline'}"
      ]
     },
     "execution_count": 5,
     "metadata": {},
     "output_type": "execute_result"
    }
   ],
   "source": [
    "os.environ"
   ]
  },
  {
   "cell_type": "code",
   "execution_count": 6,
   "metadata": {
    "ExecuteTime": {
     "end_time": "2020-04-28T02:04:56.972127Z",
     "start_time": "2020-04-28T02:04:56.924664Z"
    }
   },
   "outputs": [],
   "source": [
    "ROOT = os.environ['WORKDIR']  # '/workspace'\n",
    "WORK = os.path.join(ROOT, \"trained_models\")\n",
    "os.environ['WORK'] = WORK\n",
    "\n",
    "os.makedirs(WORK, exist_ok=True)\n",
    "\n",
    "# Enforce `tf2onnx` to CPU\n",
    "os.environ['CUDA_VISIBLE_DEVICES'] = \"0\""
   ]
  },
  {
   "cell_type": "markdown",
   "metadata": {},
   "source": [
    "---\n",
    "# Benchmark: `tf`, `tf2onnx`"
   ]
  },
  {
   "cell_type": "code",
   "execution_count": 7,
   "metadata": {
    "ExecuteTime": {
     "end_time": "2020-04-28T02:04:57.025383Z",
     "start_time": "2020-04-28T02:04:56.974012Z"
    }
   },
   "outputs": [],
   "source": [
    "MODEL = \"resnet50\"\n",
    "\n",
    "os.environ['MODEL'] = MODEL\n",
    "MODEL_PATH = os.path.join(WORK, MODEL)\n",
    "os.environ['MODEL_PATH'] = MODEL_PATH\n",
    "os.environ['MODEL_PATH_TF'] = MODEL_PATH_TF = os.path.join(MODEL_PATH, 'tf', MODEL)\n",
    "os.environ['MODEL_PATH_H5'] = MODEL_PATH_H5 = os.path.join(MODEL_PATH, 'h5', MODEL)"
   ]
  },
  {
   "cell_type": "code",
   "execution_count": 14,
   "metadata": {
    "ExecuteTime": {
     "end_time": "2020-04-28T04:32:30.652713Z",
     "start_time": "2020-04-28T04:31:44.212985Z"
    }
   },
   "outputs": [
    {
     "name": "stdout",
     "output_type": "stream",
     "text": [
      "keras2onnx: 1.6.1\n",
      "INFO:tensorflow:Assets written to: /workspace/trained_models/resnet50/tf/resnet50/assets\n"
     ]
    }
   ],
   "source": [
    "os.environ['TF_KERAS'] = '1'\n",
    "import keras2onnx\n",
    "\n",
    "\n",
    "print(f'keras2onnx: {keras2onnx.__version__}')\n",
    "\n",
    "resnet50v2 = tf.keras.applications.ResNet50V2()\n",
    "\n",
    "for _typ in ['tf', 'h5']:\n",
    "    dirname = os.path.join(MODEL_PATH, _typ)\n",
    "    os.makedirs(dirname, exist_ok=True)\n",
    "    filename = os.path.join(dirname, MODEL)\n",
    "    resnet50v2.save(\n",
    "        filepath=filename if _typ == 'tf' else f'{filename}.h5',\n",
    "        overwrite=True,\n",
    "        include_optimizer=True,\n",
    "        save_format=_typ,  # {'tf', 'h5'}\n",
    "        signatures=None,\n",
    "    )\n",
    "\n",
    "onnx_model = keras2onnx.convert_keras(resnet50v2)\n",
    "\n",
    "os.makedirs(f'{MODEL_PATH_TF}/onnx_model/', exist_ok=True)\n",
    "onnx.save_model(onnx_model, f'{MODEL_PATH_TF}/onnx_model/from_frozen_with_keras2onnx.onnx')"
   ]
  },
  {
   "cell_type": "code",
   "execution_count": 17,
   "metadata": {
    "ExecuteTime": {
     "end_time": "2020-04-28T04:34:16.115278Z",
     "start_time": "2020-04-28T04:34:15.753537Z"
    }
   },
   "outputs": [
    {
     "name": "stdout",
     "output_type": "stream",
     "text": [
      "/workspace/trained_models/resnet50\r\n",
      "├── h5\r\n",
      "│   └── resnet50.h5\r\n",
      "└── tf\r\n",
      "    └── resnet50\r\n",
      "        ├── assets\r\n",
      "        ├── onnx_model\r\n",
      "        │   └── from_frozen_with_keras2onnx.onnx\r\n",
      "        ├── saved_model.pb\r\n",
      "        └── variables\r\n",
      "            ├── variables.data-00000-of-00002\r\n",
      "            ├── variables.data-00001-of-00002\r\n",
      "            └── variables.index\r\n",
      "\r\n",
      "6 directories, 6 files\r\n"
     ]
    }
   ],
   "source": [
    "!tree $MODEL_PATH"
   ]
  },
  {
   "cell_type": "code",
   "execution_count": 18,
   "metadata": {
    "ExecuteTime": {
     "end_time": "2020-04-28T04:34:40.822208Z",
     "start_time": "2020-04-28T04:34:16.122361Z"
    }
   },
   "outputs": [],
   "source": [
    "!curl -fsSL http://www.vision.caltech.edu/Image_Datasets/Caltech101/101_ObjectCategories.tar.gz | tar zxf -"
   ]
  },
  {
   "cell_type": "code",
   "execution_count": 19,
   "metadata": {
    "ExecuteTime": {
     "end_time": "2020-04-28T04:34:40.898470Z",
     "start_time": "2020-04-28T04:34:40.830978Z"
    }
   },
   "outputs": [
    {
     "name": "stdout",
     "output_type": "stream",
     "text": [
      "7285\n"
     ]
    },
    {
     "data": {
      "text/plain": [
       "['101_ObjectCategories/revolver/image_0077.jpg',\n",
       " '101_ObjectCategories/revolver/image_0053.jpg',\n",
       " '101_ObjectCategories/revolver/image_0030.jpg',\n",
       " '101_ObjectCategories/revolver/image_0027.jpg',\n",
       " '101_ObjectCategories/revolver/image_0070.jpg']"
      ]
     },
     "execution_count": 19,
     "metadata": {},
     "output_type": "execute_result"
    }
   ],
   "source": [
    "data_paths = glob(\"101_ObjectCategories/*[!BACKGROUND_Google]/*.jpg\")\n",
    "print(len(data_paths))\n",
    "data_paths[:5]"
   ]
  },
  {
   "cell_type": "markdown",
   "metadata": {},
   "source": [
    "## RUN `tf_model`"
   ]
  },
  {
   "cell_type": "code",
   "execution_count": 20,
   "metadata": {
    "ExecuteTime": {
     "end_time": "2020-04-28T04:34:40.928806Z",
     "start_time": "2020-04-28T04:34:40.900190Z"
    }
   },
   "outputs": [],
   "source": [
    "os.environ['TF_MODEL_PATH'] = TF_MODEL_PATH = os.path.join(\n",
    "    os.environ['MODEL_PATH_TF'],\n",
    "    'saved_model.pb',\n",
    ")"
   ]
  },
  {
   "cell_type": "code",
   "execution_count": 21,
   "metadata": {
    "ExecuteTime": {
     "end_time": "2020-04-28T04:34:47.827735Z",
     "start_time": "2020-04-28T04:34:40.929906Z"
    }
   },
   "outputs": [],
   "source": [
    "tf_model = tf.keras.models.load_model(os.environ['MODEL_PATH_TF'])"
   ]
  },
  {
   "cell_type": "raw",
   "metadata": {},
   "source": [
    "!saved_model_cli show \\\n",
    "  --dir $MODEL_PATH_TF \\\n",
    "  --tag_set serve  \\\n",
    "  --signature_def serving_default"
   ]
  },
  {
   "cell_type": "raw",
   "metadata": {},
   "source": [
    "saved_model_cli run [-h] --dir DIR --tag_set TAG_SET --signature_def\n",
    "                           SIGNATURE_DEF_KEY [--inputs INPUTS]\n",
    "                           [--input_exprs INPUT_EXPRS]\n",
    "                           [--input_examples INPUT_EXAMPLES] [--outdir OUTDIR]\n",
    "                           [--overwrite] [--tf_debug] [--worker WORKER]\n",
    "                           [--init_tpu]"
   ]
  },
  {
   "cell_type": "raw",
   "metadata": {},
   "source": [
    "image_generator = tf.keras.preprocessing.image.ImageDataGenerator(rescale=1./255)\n",
    "train_data_gen = image_generator.flow_from_directory(directory=str(data_dir),\n",
    "                                                     batch_size=BATCH_SIZE,\n",
    "                                                     shuffle=True,\n",
    "                                                     target_size=(IMG_HEIGHT, IMG_WIDTH),\n",
    "                                                     classes = list(CLASS_NAMES))"
   ]
  },
  {
   "cell_type": "raw",
   "metadata": {},
   "source": [
    "builder = tfds.builder(\n",
    "    'test_dataset',\n",
    "    data_dir='101_ObjectCategories',\n",
    ")\n",
    "dataset = builder.as_dataset(\n",
    ")"
   ]
  },
  {
   "cell_type": "code",
   "execution_count": 22,
   "metadata": {
    "ExecuteTime": {
     "end_time": "2020-04-28T04:37:51.478537Z",
     "start_time": "2020-04-28T04:37:51.430717Z"
    }
   },
   "outputs": [],
   "source": [
    "import numpy as np\n",
    "from PIL import Image, ImageDraw, ImageColor\n",
    "import math\n",
    "from tensorflow.keras.applications.resnet_v2 import preprocess_input, decode_predictions"
   ]
  },
  {
   "cell_type": "code",
   "execution_count": 23,
   "metadata": {
    "ExecuteTime": {
     "end_time": "2020-04-28T04:37:51.588403Z",
     "start_time": "2020-04-28T04:37:51.479804Z"
    }
   },
   "outputs": [
    {
     "name": "stdout",
     "output_type": "stream",
     "text": [
      "7285\n"
     ]
    },
    {
     "data": {
      "text/plain": [
       "['101_ObjectCategories/revolver/image_0077.jpg',\n",
       " '101_ObjectCategories/revolver/image_0053.jpg',\n",
       " '101_ObjectCategories/revolver/image_0030.jpg',\n",
       " '101_ObjectCategories/revolver/image_0027.jpg',\n",
       " '101_ObjectCategories/revolver/image_0070.jpg']"
      ]
     },
     "execution_count": 23,
     "metadata": {},
     "output_type": "execute_result"
    }
   ],
   "source": [
    "raw_data_paths = glob(\"101_ObjectCategories/*[!BACKGROUND_Google]/*.jpg\")\n",
    "print(len(raw_data_paths))\n",
    "raw_data_paths[:5]"
   ]
  },
  {
   "cell_type": "raw",
   "metadata": {
    "ExecuteTime": {
     "end_time": "2020-04-24T16:09:25.017802Z",
     "start_time": "2020-04-24T16:09:18.697276Z"
    }
   },
   "source": [
    "raw_data_list = [get_proper_image_path(p) for p in raw_data_paths]\n",
    "for _, __ in enumerate(raw_data_list[:10]):\n",
    "    print(f'{_}\\t{__.shape}')"
   ]
  },
  {
   "cell_type": "code",
   "execution_count": 24,
   "metadata": {
    "ExecuteTime": {
     "end_time": "2020-04-28T04:37:51.592491Z",
     "start_time": "2020-04-28T04:37:51.589752Z"
    }
   },
   "outputs": [],
   "source": [
    "def get_proper_image_path(img_path):\n",
    "    x = Image.open(img_path)\n",
    "    x = np.asarray(x)\n",
    "    return img_path if x.ndim > 2 else None"
   ]
  },
  {
   "cell_type": "code",
   "execution_count": 25,
   "metadata": {
    "ExecuteTime": {
     "end_time": "2020-04-28T04:37:57.892557Z",
     "start_time": "2020-04-28T04:37:51.593527Z"
    }
   },
   "outputs": [
    {
     "name": "stdout",
     "output_type": "stream",
     "text": [
      "7077\n"
     ]
    }
   ],
   "source": [
    "data_paths = list(filter(None, (get_proper_image_path(p) for p in raw_data_paths)))\n",
    "print(len(data_paths))"
   ]
  },
  {
   "cell_type": "code",
   "execution_count": 26,
   "metadata": {
    "ExecuteTime": {
     "end_time": "2020-04-28T04:37:57.895925Z",
     "start_time": "2020-04-28T04:37:57.893556Z"
    }
   },
   "outputs": [],
   "source": [
    "def get_image(img_path):\n",
    "    x = Image.open(img_path)\n",
    "    x = np.asarray(x)\n",
    "    # x = preprocess_input(x)\n",
    "    return x"
   ]
  },
  {
   "cell_type": "raw",
   "metadata": {
    "ExecuteTime": {
     "end_time": "2020-04-24T19:25:19.745221Z",
     "start_time": "2020-04-24T19:25:19.739088Z"
    }
   },
   "source": [
    "def get_prep_image(img_path):\n",
    "    # x = Image.open(img_path)\n",
    "    x = tf.keras.preprocessing.image.load_img(\n",
    "        img_path,\n",
    "        grayscale=False,\n",
    "        color_mode='rgb',\n",
    "        target_size=(224, 224),\n",
    "        interpolation='nearest',\n",
    "    )\n",
    "    x = np.asarray(x)\n",
    "    x = preprocess_input(x)\n",
    "    x = np.expand_dims(x, axis=0)\n",
    "    return x"
   ]
  },
  {
   "cell_type": "code",
   "execution_count": 27,
   "metadata": {
    "ExecuteTime": {
     "end_time": "2020-04-28T04:42:18.895812Z",
     "start_time": "2020-04-28T04:41:01.567255Z"
    },
    "scrolled": true
   },
   "outputs": [
    {
     "name": "stdout",
     "output_type": "stream",
     "text": [
      "Collecting unipy\n",
      "  Downloading unipy-0.1.27-py3-none-any.whl (9.5 MB)\n",
      "\u001b[K     |████████████████████████████████| 9.5 MB 1.5 MB/s eta 0:00:01\n",
      "\u001b[?25hRequirement already satisfied, skipping upgrade: scipy>=0.19.1 in /opt/conda/envs/onnx-tf1-15/lib/python3.7/site-packages (from unipy) (1.3.0)\n",
      "Collecting paramiko>=2.1.2\n",
      "  Downloading paramiko-2.7.1-py2.py3-none-any.whl (206 kB)\n",
      "\u001b[K     |████████████████████████████████| 206 kB 2.0 MB/s eta 0:00:01\n",
      "\u001b[?25hCollecting pyasn1-modules>=0.2.1\n",
      "  Using cached pyasn1_modules-0.2.8-py2.py3-none-any.whl (155 kB)\n",
      "Requirement already satisfied, skipping upgrade: numpy>=1.13.1 in /opt/conda/envs/onnx-tf1-15/lib/python3.7/site-packages (from unipy) (1.16.0)\n",
      "Collecting google-auth-oauthlib>=0.2.0\n",
      "  Using cached google_auth_oauthlib-0.4.1-py2.py3-none-any.whl (18 kB)\n",
      "Collecting scikit-image>=0.13.0\n",
      "  Downloading scikit_image-0.16.2-cp37-cp37m-manylinux1_x86_64.whl (26.5 MB)\n",
      "\u001b[K     |████████████████████████████████| 26.5 MB 1.0 MB/s eta 0:00:01\n",
      "\u001b[?25hRequirement already satisfied, skipping upgrade: scikit-learn>=0.18.0 in /opt/conda/envs/onnx-tf1-15/lib/python3.7/site-packages (from unipy) (0.20.0)\n",
      "Collecting seaborn>=0.8\n",
      "  Downloading seaborn-0.10.1-py3-none-any.whl (215 kB)\n",
      "\u001b[K     |████████████████████████████████| 215 kB 2.0 MB/s eta 0:00:01\n",
      "\u001b[?25hRequirement already satisfied, skipping upgrade: matplotlib>=2.0.2 in /opt/conda/envs/onnx-tf1-15/lib/python3.7/site-packages (from unipy) (3.2.1)\n",
      "Collecting mglearn>=0.1.6\n",
      "  Downloading mglearn-0.1.7.tar.gz (540 kB)\n",
      "\u001b[K     |████████████████████████████████| 540 kB 1.9 MB/s eta 0:00:01\n",
      "\u001b[?25hCollecting statsmodels>=0.8.0\n",
      "  Downloading statsmodels-0.11.1-cp37-cp37m-manylinux1_x86_64.whl (8.7 MB)\n",
      "\u001b[K     |████████████████████████████████| 8.7 MB 2.4 MB/s eta 0:00:01\n",
      "\u001b[?25hRequirement already satisfied, skipping upgrade: pandas>=0.20.2 in /opt/conda/envs/onnx-tf1-15/lib/python3.7/site-packages (from unipy) (0.24.0)\n",
      "Collecting oauth2client>=4.1.2\n",
      "  Downloading oauth2client-4.1.3-py2.py3-none-any.whl (98 kB)\n",
      "\u001b[K     |████████████████████████████████| 98 kB 1.5 MB/s  eta 0:00:01\n",
      "\u001b[?25hCollecting PyDrive>=1.2.1\n",
      "  Downloading PyDrive-1.3.1.tar.gz (987 kB)\n",
      "\u001b[K     |████████████████████████████████| 987 kB 61.1 MB/s eta 0:00:01\n",
      "\u001b[?25hCollecting numpydoc>=0.7.0\n",
      "  Downloading numpydoc-0.9.2.tar.gz (27 kB)\n",
      "Collecting pyasn1>=0.4.3\n",
      "  Using cached pyasn1-0.4.8-py2.py3-none-any.whl (77 kB)\n",
      "Collecting pandasql>=0.7.3\n",
      "  Downloading pandasql-0.7.3.tar.gz (26 kB)\n",
      "Collecting bcrypt>=3.1.3\n",
      "  Downloading bcrypt-3.1.7-cp34-abi3-manylinux1_x86_64.whl (56 kB)\n",
      "\u001b[K     |████████████████████████████████| 56 kB 477 kB/s  eta 0:00:01\n",
      "\u001b[?25hCollecting pynacl>=1.0.1\n",
      "  Downloading PyNaCl-1.3.0-cp34-abi3-manylinux1_x86_64.whl (759 kB)\n",
      "\u001b[K     |████████████████████████████████| 759 kB 65.4 MB/s eta 0:00:01\n",
      "\u001b[?25hCollecting cryptography>=2.5\n",
      "  Downloading cryptography-2.9.2-cp35-abi3-manylinux2010_x86_64.whl (2.7 MB)\n",
      "\u001b[K     |████████████████████████████████| 2.7 MB 45.7 MB/s eta 0:00:01\n",
      "\u001b[?25hCollecting google-auth\n",
      "  Using cached google_auth-1.14.1-py2.py3-none-any.whl (89 kB)\n",
      "Collecting requests-oauthlib>=0.7.0\n",
      "  Using cached requests_oauthlib-1.3.0-py2.py3-none-any.whl (23 kB)\n",
      "Requirement already satisfied, skipping upgrade: pillow>=4.3.0 in /opt/conda/envs/onnx-tf1-15/lib/python3.7/site-packages (from scikit-image>=0.13.0->unipy) (7.0.0)\n",
      "Collecting networkx>=2.0\n",
      "  Downloading networkx-2.4-py3-none-any.whl (1.6 MB)\n",
      "\u001b[K     |████████████████████████████████| 1.6 MB 63.0 MB/s eta 0:00:01\n",
      "\u001b[?25hCollecting PyWavelets>=0.4.0\n",
      "  Downloading PyWavelets-1.1.1-cp37-cp37m-manylinux1_x86_64.whl (4.4 MB)\n",
      "\u001b[K     |████████████████████████████████| 4.4 MB 2.2 MB/s eta 0:00:011\n",
      "\u001b[?25hCollecting imageio>=2.3.0\n",
      "  Downloading imageio-2.8.0-py3-none-any.whl (3.3 MB)\n",
      "\u001b[K     |████████████████████████████████| 3.3 MB 44.7 MB/s eta 0:00:01\n",
      "\u001b[?25hRequirement already satisfied, skipping upgrade: pyparsing!=2.0.4,!=2.1.2,!=2.1.6,>=2.0.1 in /opt/conda/envs/onnx-tf1-15/lib/python3.7/site-packages (from matplotlib>=2.0.2->unipy) (2.4.7)\n",
      "Requirement already satisfied, skipping upgrade: kiwisolver>=1.0.1 in /opt/conda/envs/onnx-tf1-15/lib/python3.7/site-packages (from matplotlib>=2.0.2->unipy) (1.2.0)\n",
      "Requirement already satisfied, skipping upgrade: python-dateutil>=2.1 in /opt/conda/envs/onnx-tf1-15/lib/python3.7/site-packages (from matplotlib>=2.0.2->unipy) (2.8.1)\n",
      "Requirement already satisfied, skipping upgrade: cycler>=0.10 in /opt/conda/envs/onnx-tf1-15/lib/python3.7/site-packages (from matplotlib>=2.0.2->unipy) (0.10.0)\n",
      "Collecting patsy>=0.5\n",
      "  Downloading patsy-0.5.1-py2.py3-none-any.whl (231 kB)\n",
      "\u001b[K     |████████████████████████████████| 231 kB 68.2 MB/s eta 0:00:01\n",
      "\u001b[?25hRequirement already satisfied, skipping upgrade: pytz>=2011k in /opt/conda/envs/onnx-tf1-15/lib/python3.7/site-packages (from pandas>=0.20.2->unipy) (2019.3)\n",
      "Requirement already satisfied, skipping upgrade: six>=1.6.1 in /opt/conda/envs/onnx-tf1-15/lib/python3.7/site-packages (from oauth2client>=4.1.2->unipy) (1.14.0)\n",
      "Collecting rsa>=3.1.4\n",
      "  Using cached rsa-4.0-py2.py3-none-any.whl (38 kB)\n",
      "Collecting httplib2>=0.9.1\n",
      "  Downloading httplib2-0.17.3-py3-none-any.whl (95 kB)\n",
      "\u001b[K     |████████████████████████████████| 95 kB 331 kB/s eta 0:00:01\n",
      "\u001b[?25hCollecting google-api-python-client>=1.2\n",
      "  Downloading google_api_python_client-1.8.2-py3-none-any.whl (58 kB)\n",
      "\u001b[K     |████████████████████████████████| 58 kB 653 kB/s eta 0:00:011\n",
      "\u001b[?25hRequirement already satisfied, skipping upgrade: PyYAML>=3.0 in /opt/conda/envs/onnx-tf1-15/lib/python3.7/site-packages (from PyDrive>=1.2.1->unipy) (5.3.1)\n",
      "Collecting sphinx>=1.6.5\n",
      "  Downloading Sphinx-3.0.3-py3-none-any.whl (2.8 MB)\n",
      "\u001b[K     |████████████████████████████████| 2.8 MB 997 kB/s eta 0:00:01\n",
      "\u001b[?25hCollecting Jinja2>=2.3\n",
      "  Downloading Jinja2-2.11.2-py2.py3-none-any.whl (125 kB)\n",
      "\u001b[K     |████████████████████████████████| 125 kB 58.1 MB/s eta 0:00:01\n",
      "\u001b[?25hCollecting sqlalchemy\n",
      "  Downloading SQLAlchemy-1.3.16-cp37-cp37m-manylinux2010_x86_64.whl (1.2 MB)\n",
      "\u001b[K     |████████████████████████████████| 1.2 MB 58.2 MB/s eta 0:00:01\n",
      "\u001b[?25hCollecting cffi>=1.1\n",
      "  Downloading cffi-1.14.0-cp37-cp37m-manylinux1_x86_64.whl (400 kB)\n",
      "\u001b[K     |████████████████████████████████| 400 kB 65.4 MB/s eta 0:00:01\n",
      "\u001b[?25hRequirement already satisfied, skipping upgrade: setuptools>=40.3.0 in /opt/conda/envs/onnx-tf1-15/lib/python3.7/site-packages (from google-auth->google-auth-oauthlib>=0.2.0->unipy) (46.1.3.post20200330)\n",
      "Collecting cachetools<5.0,>=2.0.0\n",
      "  Using cached cachetools-4.1.0-py3-none-any.whl (10 kB)\n",
      "Collecting oauthlib>=3.0.0\n",
      "  Using cached oauthlib-3.1.0-py2.py3-none-any.whl (147 kB)\n",
      "Requirement already satisfied, skipping upgrade: requests>=2.0.0 in /opt/conda/envs/onnx-tf1-15/lib/python3.7/site-packages (from requests-oauthlib>=0.7.0->google-auth-oauthlib>=0.2.0->unipy) (2.21.0)\n",
      "Requirement already satisfied, skipping upgrade: decorator>=4.3.0 in /opt/conda/envs/onnx-tf1-15/lib/python3.7/site-packages (from networkx>=2.0->scikit-image>=0.13.0->unipy) (4.4.2)\n",
      "Collecting google-auth-httplib2>=0.0.3\n",
      "  Downloading google_auth_httplib2-0.0.3-py2.py3-none-any.whl (6.3 kB)\n",
      "Collecting google-api-core<2dev,>=1.13.0\n",
      "  Downloading google_api_core-1.17.0-py2.py3-none-any.whl (70 kB)\n",
      "\u001b[K     |████████████████████████████████| 70 kB 1.4 MB/s  eta 0:00:01\n",
      "\u001b[?25hCollecting uritemplate<4dev,>=3.0.0\n",
      "  Downloading uritemplate-3.0.1-py2.py3-none-any.whl (15 kB)\n",
      "Collecting alabaster<0.8,>=0.7\n",
      "  Downloading alabaster-0.7.12-py2.py3-none-any.whl (14 kB)\n",
      "Collecting sphinxcontrib-applehelp\n",
      "  Downloading sphinxcontrib_applehelp-1.0.2-py2.py3-none-any.whl (121 kB)\n",
      "\u001b[K     |████████████████████████████████| 121 kB 2.5 MB/s eta 0:00:01\n",
      "\u001b[?25hCollecting sphinxcontrib-jsmath\n",
      "  Downloading sphinxcontrib_jsmath-1.0.1-py2.py3-none-any.whl (5.1 kB)\n",
      "Collecting docutils>=0.12\n",
      "  Downloading docutils-0.16-py2.py3-none-any.whl (548 kB)\n",
      "\u001b[K     |████████████████████████████████| 548 kB 2.0 MB/s eta 0:00:01\n",
      "\u001b[?25hCollecting snowballstemmer>=1.1\n",
      "  Downloading snowballstemmer-2.0.0-py2.py3-none-any.whl (97 kB)\n",
      "\u001b[K     |████████████████████████████████| 97 kB 1.4 MB/s  eta 0:00:01\n",
      "\u001b[?25hCollecting sphinxcontrib-qthelp\n",
      "  Downloading sphinxcontrib_qthelp-1.0.3-py2.py3-none-any.whl (90 kB)\n",
      "\u001b[K     |████████████████████████████████| 90 kB 1.2 MB/s  eta 0:00:01\n",
      "\u001b[?25hCollecting imagesize\n",
      "  Downloading imagesize-1.2.0-py2.py3-none-any.whl (4.8 kB)\n",
      "Collecting sphinxcontrib-devhelp\n",
      "  Downloading sphinxcontrib_devhelp-1.0.2-py2.py3-none-any.whl (84 kB)\n",
      "\u001b[K     |████████████████████████████████| 84 kB 339 kB/s  eta 0:00:01\n",
      "\u001b[?25hCollecting sphinxcontrib-serializinghtml\n",
      "  Downloading sphinxcontrib_serializinghtml-1.1.4-py2.py3-none-any.whl (89 kB)\n",
      "\u001b[K     |████████████████████████████████| 89 kB 901 kB/s  eta 0:00:01\n",
      "\u001b[?25hCollecting babel>=1.3\n",
      "  Downloading Babel-2.8.0-py2.py3-none-any.whl (8.6 MB)\n",
      "\u001b[K     |████████████████████████████████| 8.6 MB 2.1 MB/s eta 0:00:01\n",
      "\u001b[?25hRequirement already satisfied, skipping upgrade: Pygments>=2.0 in /opt/conda/envs/onnx-tf1-15/lib/python3.7/site-packages (from sphinx>=1.6.5->numpydoc>=0.7.0->unipy) (2.6.1)\n",
      "Collecting sphinxcontrib-htmlhelp\n",
      "  Downloading sphinxcontrib_htmlhelp-1.0.3-py2.py3-none-any.whl (96 kB)\n",
      "\u001b[K     |████████████████████████████████| 96 kB 1.3 MB/s  eta 0:00:01\n",
      "\u001b[?25hCollecting packaging\n",
      "  Downloading packaging-20.3-py2.py3-none-any.whl (37 kB)\n",
      "Collecting MarkupSafe>=0.23\n",
      "  Downloading MarkupSafe-1.1.1-cp37-cp37m-manylinux1_x86_64.whl (27 kB)\n",
      "Collecting pycparser\n",
      "  Downloading pycparser-2.20-py2.py3-none-any.whl (112 kB)\n",
      "\u001b[K     |████████████████████████████████| 112 kB 2.1 MB/s eta 0:00:01\n",
      "\u001b[?25hRequirement already satisfied, skipping upgrade: idna<2.9,>=2.5 in /opt/conda/envs/onnx-tf1-15/lib/python3.7/site-packages (from requests>=2.0.0->requests-oauthlib>=0.7.0->google-auth-oauthlib>=0.2.0->unipy) (2.8)\n",
      "Requirement already satisfied, skipping upgrade: chardet<3.1.0,>=3.0.2 in /opt/conda/envs/onnx-tf1-15/lib/python3.7/site-packages (from requests>=2.0.0->requests-oauthlib>=0.7.0->google-auth-oauthlib>=0.2.0->unipy) (3.0.4)\n",
      "Requirement already satisfied, skipping upgrade: certifi>=2017.4.17 in /opt/conda/envs/onnx-tf1-15/lib/python3.7/site-packages (from requests>=2.0.0->requests-oauthlib>=0.7.0->google-auth-oauthlib>=0.2.0->unipy) (2020.4.5.1)\n",
      "Requirement already satisfied, skipping upgrade: urllib3<1.25,>=1.21.1 in /opt/conda/envs/onnx-tf1-15/lib/python3.7/site-packages (from requests>=2.0.0->requests-oauthlib>=0.7.0->google-auth-oauthlib>=0.2.0->unipy) (1.24.3)\n",
      "Collecting googleapis-common-protos<2.0dev,>=1.6.0\n",
      "  Downloading googleapis-common-protos-1.51.0.tar.gz (35 kB)\n",
      "Requirement already satisfied, skipping upgrade: protobuf>=3.4.0 in /opt/conda/envs/onnx-tf1-15/lib/python3.7/site-packages (from google-api-core<2dev,>=1.13.0->google-api-python-client>=1.2->PyDrive>=1.2.1->unipy) (3.11.4)\n",
      "Building wheels for collected packages: mglearn, PyDrive, numpydoc, pandasql, googleapis-common-protos\n",
      "  Building wheel for mglearn (setup.py) ... \u001b[?25ldone\n",
      "\u001b[?25h  Created wheel for mglearn: filename=mglearn-0.1.7-py2.py3-none-any.whl size=582705 sha256=9d7ed47d079bd575f95c4289263e95b44a0045da151c9236dcd5cb7375d6dd72\n",
      "  Stored in directory: /root/.cache/pip/wheels/58/01/29/2ff749b641757ff133833c59a56c88ef6a5f966050db2d31fe\n",
      "  Building wheel for PyDrive (setup.py) ... \u001b[?25ldone\n",
      "\u001b[?25h  Created wheel for PyDrive: filename=PyDrive-1.3.1-py3-none-any.whl size=27435 sha256=74e34255ae97cc29248a13c872ef38e7a3e563b1e6760488cd50c6746e4fbebf\n",
      "  Stored in directory: /root/.cache/pip/wheels/57/cc/07/6aac75f5395a224650905accd38c868c2276782a56f1046b7b\n",
      "  Building wheel for numpydoc (setup.py) ... \u001b[?25ldone\n",
      "\u001b[?25h  Created wheel for numpydoc: filename=numpydoc-0.9.2-py3-none-any.whl size=31893 sha256=de2999e7e25d60f9d162b8dc9e12e02b08253a19d4f5c12fc01057784c3f8fc8\n",
      "  Stored in directory: /root/.cache/pip/wheels/e9/c6/13/2c19884012fbeeccc07743d20b25557f1b48465381b34f0dae\n",
      "  Building wheel for pandasql (setup.py) ... \u001b[?25ldone\n",
      "\u001b[?25h  Created wheel for pandasql: filename=pandasql-0.7.3-py3-none-any.whl size=26817 sha256=ba5473b4ae7e0a6c83a0c2527c86ccf24960d8ff1be85f6c63eb69965b3546df\n",
      "  Stored in directory: /root/.cache/pip/wheels/5c/4b/ec/41f4e116c8053c3654e2c2a47c62b4fca34cc67ef7b55deb7f\n",
      "  Building wheel for googleapis-common-protos (setup.py) ... \u001b[?25ldone\n",
      "\u001b[?25h  Created wheel for googleapis-common-protos: filename=googleapis_common_protos-1.51.0-py3-none-any.whl size=77592 sha256=3b50e41efb8bd7a11fa04be90f0c0b89c209a8de32b50c25800f350e14c66722\n",
      "  Stored in directory: /root/.cache/pip/wheels/4c/a1/71/5e427276ceeff277fd76878d1b19fbf4587a2845015d86864b\n",
      "Successfully built mglearn PyDrive numpydoc pandasql googleapis-common-protos\n",
      "Installing collected packages: pycparser, cffi, bcrypt, pynacl, cryptography, paramiko, pyasn1, pyasn1-modules, rsa, cachetools, google-auth, oauthlib, requests-oauthlib, google-auth-oauthlib, networkx, PyWavelets, imageio, scikit-image, seaborn, mglearn, patsy, statsmodels, httplib2, oauth2client, google-auth-httplib2, googleapis-common-protos, google-api-core, uritemplate, google-api-python-client, PyDrive, alabaster, sphinxcontrib-applehelp, sphinxcontrib-jsmath, MarkupSafe, Jinja2, docutils, snowballstemmer, sphinxcontrib-qthelp, imagesize, sphinxcontrib-devhelp, sphinxcontrib-serializinghtml, babel, sphinxcontrib-htmlhelp, packaging, sphinx, numpydoc, sqlalchemy, pandasql, unipy\n",
      "Successfully installed Jinja2-2.11.2 MarkupSafe-1.1.1 PyDrive-1.3.1 PyWavelets-1.1.1 alabaster-0.7.12 babel-2.8.0 bcrypt-3.1.7 cachetools-4.1.0 cffi-1.14.0 cryptography-2.9.2 docutils-0.16 google-api-core-1.17.0 google-api-python-client-1.8.2 google-auth-1.14.1 google-auth-httplib2-0.0.3 google-auth-oauthlib-0.4.1 googleapis-common-protos-1.51.0 httplib2-0.17.3 imageio-2.8.0 imagesize-1.2.0 mglearn-0.1.7 networkx-2.4 numpydoc-0.9.2 oauth2client-4.1.3 oauthlib-3.1.0 packaging-20.3 pandasql-0.7.3 paramiko-2.7.1 patsy-0.5.1 pyasn1-0.4.8 pyasn1-modules-0.2.8 pycparser-2.20 pynacl-1.3.0 requests-oauthlib-1.3.0 rsa-4.0 scikit-image-0.16.2 seaborn-0.10.1 snowballstemmer-2.0.0 sphinx-3.0.3 sphinxcontrib-applehelp-1.0.2 sphinxcontrib-devhelp-1.0.2 sphinxcontrib-htmlhelp-1.0.3 sphinxcontrib-jsmath-1.0.1 sphinxcontrib-qthelp-1.0.3 sphinxcontrib-serializinghtml-1.1.4 sqlalchemy-1.3.16 statsmodels-0.11.1 unipy-0.1.27 uritemplate-3.0.1\n",
      "Note: you may need to restart the kernel to use updated packages.\n"
     ]
    }
   ],
   "source": [
    "%pip install --upgrade unipy"
   ]
  },
  {
   "cell_type": "code",
   "execution_count": 34,
   "metadata": {
    "ExecuteTime": {
     "end_time": "2020-04-28T05:09:02.324764Z",
     "start_time": "2020-04-28T05:08:55.062348Z"
    }
   },
   "outputs": [],
   "source": [
    "from unipy.utils.generator import ReusableGenerator, re_generator"
   ]
  },
  {
   "cell_type": "code",
   "execution_count": 28,
   "metadata": {
    "ExecuteTime": {
     "end_time": "2020-04-28T04:54:40.530711Z",
     "start_time": "2020-04-28T04:54:40.518578Z"
    }
   },
   "outputs": [],
   "source": [
    "def get_prep_image(img_path, target_size=None):\n",
    "    x = tf.keras.preprocessing.image.load_img(\n",
    "        img_path,\n",
    "        grayscale=False,\n",
    "        color_mode='rgb',  # Image\n",
    "        target_size=target_size,\n",
    "        interpolation='nearest',\n",
    "    )\n",
    "    x = np.asarray(x)\n",
    "    x = preprocess_input(x)  # mode: One of \"caffe\", \"tf\", \"torch\"\n",
    "    x = np.expand_dims(x, axis=0)\n",
    "    return x\n",
    "\n",
    "# mode: One of \"caffe\", \"tf\" or \"torch\".\n",
    "#     - caffe: will convert the images from RGB to BGR,\n",
    "#         then will zero-center each color channel with\n",
    "#         respect to the ImageNet dataset,\n",
    "#         without scaling.\n",
    "#     - tf: will scale pixels between -1 and 1,\n",
    "#         sample-wise.\n",
    "#     - torch: will scale pixels between 0 and 1 and then\n",
    "#         will normalize each channel with respect to the\n",
    "#         ImageNet dataset."
   ]
  },
  {
   "cell_type": "code",
   "execution_count": 29,
   "metadata": {
    "ExecuteTime": {
     "end_time": "2020-04-28T04:54:49.387788Z",
     "start_time": "2020-04-28T04:54:40.534278Z"
    }
   },
   "outputs": [],
   "source": [
    "data_array_gen = (get_image(f) for f in data_paths)\n",
    "data_prep_gen = (get_prep_image(f) for f in data_paths)"
   ]
  },
  {
   "cell_type": "code",
   "execution_count": 30,
   "metadata": {
    "ExecuteTime": {
     "end_time": "2020-04-28T05:01:40.654305Z",
     "start_time": "2020-04-28T04:54:49.389239Z"
    },
    "scrolled": false
   },
   "outputs": [
    {
     "name": "stdout",
     "output_type": "stream",
     "text": [
      "7077/7077 [==============================] - 408s 58ms/step\n",
      "408.36599537099937\n"
     ]
    }
   ],
   "source": [
    "#%%timeit\n",
    "import time\n",
    "\n",
    "\n",
    "t = time.perf_counter()\n",
    "\n",
    "pred = tf_model.predict(\n",
    "    data_prep_gen,\n",
    "    steps=len(data_paths),\n",
    "    workers=1,\n",
    "    max_queue_size=128,  # Used for generator or keras.utils.Sequence input only. Maximum size for the generator queue. \n",
    "    use_multiprocessing=False,  # Used for generator or keras.utils.Sequence input only.\n",
    "    verbose=1,\n",
    ")\n",
    "print(time.perf_counter() - t)"
   ]
  },
  {
   "cell_type": "markdown",
   "metadata": {},
   "source": [
    "```sh\n",
    "CONTAINER ID        NAME                CPU %               MEM USAGE / LIMIT     MEM %               NET I/O             BLOCK I/O           PIDS\n",
    "bdf1a647146f        admiring_wu         579.78%             28.77GiB / 62.85GiB   45.77%              2.2GB / 717MB       840MB / 2.26GB      227\n",
    "```"
   ]
  },
  {
   "cell_type": "code",
   "execution_count": 31,
   "metadata": {
    "ExecuteTime": {
     "end_time": "2020-04-28T05:01:41.701292Z",
     "start_time": "2020-04-28T05:01:40.655750Z"
    },
    "scrolled": false
   },
   "outputs": [
    {
     "name": "stdout",
     "output_type": "stream",
     "text": [
      "<class 'numpy.ndarray'>\n",
      "(1000,)\n",
      "Downloading data from https://storage.googleapis.com/download.tensorflow.org/data/imagenet_class_index.json\n",
      "40960/35363 [==================================] - 0s 1us/step\n"
     ]
    },
    {
     "data": {
      "text/plain": [
       "[[('n02437616', 'llama', 0.15925159),\n",
       "  ('n02417914', 'ibex', 0.10049338),\n",
       "  ('n02391049', 'zebra', 0.07378857),\n",
       "  ('n02423022', 'gazelle', 0.041579306),\n",
       "  ('n02125311', 'cougar', 0.02804535)],\n",
       " [('n02389026', 'sorrel', 0.17463423),\n",
       "  ('n02391049', 'zebra', 0.06998125),\n",
       "  ('n02437312', 'Arabian_camel', 0.056545377),\n",
       "  ('n02417914', 'ibex', 0.051300034),\n",
       "  ('n02422106', 'hartebeest', 0.03356029)],\n",
       " [('n02391049', 'zebra', 0.63725334),\n",
       "  ('n02389026', 'sorrel', 0.15998408),\n",
       "  ('n02423022', 'gazelle', 0.0069316197),\n",
       "  ('n03967562', 'plow', 0.0067086597),\n",
       "  ('n03538406', 'horse_cart', 0.004334446)]]"
      ]
     },
     "execution_count": 31,
     "metadata": {},
     "output_type": "execute_result"
    }
   ],
   "source": [
    "print(type(pred))\n",
    "print(pred[0].shape)\n",
    "\n",
    "pred_decoded_tf = decode_predictions(pred)\n",
    "pred_decoded_tf[-3:]"
   ]
  },
  {
   "cell_type": "markdown",
   "metadata": {},
   "source": [
    "## RUN `onnx_model`"
   ]
  },
  {
   "cell_type": "code",
   "execution_count": 32,
   "metadata": {
    "ExecuteTime": {
     "end_time": "2020-04-28T05:06:26.082755Z",
     "start_time": "2020-04-28T05:06:26.078565Z"
    }
   },
   "outputs": [],
   "source": [
    "import onnx.onnx_cpp2py_export.optimizer as C\n",
    "\n",
    "os.environ['ONNX_MODEL_PATH'] = ONNX_MODEL_PATH = os.path.join(\n",
    "    MODEL_PATH_TF,\n",
    "    'onnx_model',\n",
    "    'from_frozen_with_keras2onnx.onnx',\n",
    ")\n",
    "\n",
    "# onnx_model = onnx.load(ONNX_MODEL_PATH)\n",
    "# onnx_model_str = onnx_model.SerializeToString()\n",
    "# optimized_model_str = C.optimize(onnx_model_str, passes=None)\n",
    "# onnx_model_optimized = onnx.load_from_string(optimized_model_str)\n",
    "# onnx_model_optimized = onnx.optimizer.optimize(onnx_model)"
   ]
  },
  {
   "cell_type": "code",
   "execution_count": 35,
   "metadata": {
    "ExecuteTime": {
     "end_time": "2020-04-28T05:17:58.217934Z",
     "start_time": "2020-04-28T05:17:58.214973Z"
    }
   },
   "outputs": [],
   "source": [
    "#data_array_gen = (get_image(f) for f in data_paths)\n",
    "data_prep_gen = ReusableGenerator(get_prep_image(f) for f in data_paths)"
   ]
  },
  {
   "cell_type": "code",
   "execution_count": 36,
   "metadata": {
    "ExecuteTime": {
     "end_time": "2020-04-28T05:18:35.146120Z",
     "start_time": "2020-04-28T05:18:35.138055Z"
    }
   },
   "outputs": [],
   "source": [
    "import onnx\n",
    "import onnxruntime as rt\n",
    "import onnx.onnx_cpp2py_export.optimizer as C\n",
    "\n",
    "\n",
    "class ONNXInference(object):\n",
    "    def __init__(self, model_path, optimize=False):\n",
    "        self.model = onnx.load(model_path)\n",
    "        if optimize:\n",
    "            onnx_model_str = self.model.SerializeToString()\n",
    "            optimized_model_str = C.optimize(onnx_model_str, passes=None)\n",
    "            self.model = onnx.load_from_string(optimized_model_str)\n",
    "\n",
    "        self._prepare_runtime(model_path)\n",
    "    \n",
    "    def _prepare_runtime(self, model_path):\n",
    "        self.sess = rt.InferenceSession(os.path.join(model_path))\n",
    "        self.onnx_inputs = [i.name for i in self.sess.get_inputs()]\n",
    "        self.onnx_outputs = [o.name for o in self.sess.get_outputs()]\n",
    "        \n",
    "        print(f'inputs : {self.onnx_inputs}')\n",
    "        print(f'outputs: {self.onnx_outputs}')\n",
    "        #self.onnx_model = onnx.load(model_path)\n",
    "        \n",
    "    def predict(self, x):\n",
    "        if len(x) == len(self.onnx_inputs):\n",
    "            input_dict = {i: x_i for i, x_i in zip(self.onnx_inputs, x)}\n",
    "            return self.sess.run(self.onnx_outputs, input_dict)\n",
    "        else:\n",
    "            raise Exception(f\"The given input number '{len(x)}' and onnx model input number should be the same.\")"
   ]
  },
  {
   "cell_type": "code",
   "execution_count": 37,
   "metadata": {
    "ExecuteTime": {
     "end_time": "2020-04-28T05:18:35.671508Z",
     "start_time": "2020-04-28T05:18:35.147329Z"
    }
   },
   "outputs": [
    {
     "name": "stdout",
     "output_type": "stream",
     "text": [
      "inputs : ['input_2']\n",
      "outputs: ['probs']\n"
     ]
    }
   ],
   "source": [
    "onnx_infe_model = ONNXInference(ONNX_MODEL_PATH)"
   ]
  },
  {
   "cell_type": "markdown",
   "metadata": {},
   "source": [
    "* Error: `INVALID_ARGUMENT: Invalid rank for input`: expand a rank"
   ]
  },
  {
   "cell_type": "code",
   "execution_count": 38,
   "metadata": {
    "ExecuteTime": {
     "end_time": "2020-04-28T05:18:35.809596Z",
     "start_time": "2020-04-28T05:18:35.672617Z"
    }
   },
   "outputs": [
    {
     "ename": "InvalidArgument",
     "evalue": "[ONNXRuntimeError] : 2 : INVALID_ARGUMENT : Invalid rank for input: input_2 Got: 3 Expected: 4 Please fix either the inputs or the model.",
     "output_type": "error",
     "traceback": [
      "\u001b[0;31m---------------------------------------------------------------------------\u001b[0m",
      "\u001b[0;31mInvalidArgument\u001b[0m                           Traceback (most recent call last)",
      "\u001b[0;32m<ipython-input-38-c6f70162b55c>\u001b[0m in \u001b[0;36m<module>\u001b[0;34m\u001b[0m\n\u001b[1;32m      1\u001b[0m \u001b[0mdata_prep_gen\u001b[0m \u001b[0;34m=\u001b[0m \u001b[0mReusableGenerator\u001b[0m\u001b[0;34m(\u001b[0m\u001b[0mget_prep_image\u001b[0m\u001b[0;34m(\u001b[0m\u001b[0mf\u001b[0m\u001b[0;34m)\u001b[0m \u001b[0;32mfor\u001b[0m \u001b[0mf\u001b[0m \u001b[0;32min\u001b[0m \u001b[0mdata_paths\u001b[0m\u001b[0;34m)\u001b[0m\u001b[0;34m\u001b[0m\u001b[0;34m\u001b[0m\u001b[0m\n\u001b[1;32m      2\u001b[0m \u001b[0;34m\u001b[0m\u001b[0m\n\u001b[0;32m----> 3\u001b[0;31m \u001b[0mpred\u001b[0m \u001b[0;34m=\u001b[0m \u001b[0;34m[\u001b[0m\u001b[0monnx_infe_model\u001b[0m\u001b[0;34m.\u001b[0m\u001b[0mpredict\u001b[0m\u001b[0;34m(\u001b[0m\u001b[0mimg\u001b[0m\u001b[0;34m)\u001b[0m \u001b[0;32mfor\u001b[0m \u001b[0mimg\u001b[0m \u001b[0;32min\u001b[0m \u001b[0mdata_prep_gen\u001b[0m\u001b[0;34m]\u001b[0m\u001b[0;34m\u001b[0m\u001b[0;34m\u001b[0m\u001b[0m\n\u001b[0m",
      "\u001b[0;32m<ipython-input-38-c6f70162b55c>\u001b[0m in \u001b[0;36m<listcomp>\u001b[0;34m(.0)\u001b[0m\n\u001b[1;32m      1\u001b[0m \u001b[0mdata_prep_gen\u001b[0m \u001b[0;34m=\u001b[0m \u001b[0mReusableGenerator\u001b[0m\u001b[0;34m(\u001b[0m\u001b[0mget_prep_image\u001b[0m\u001b[0;34m(\u001b[0m\u001b[0mf\u001b[0m\u001b[0;34m)\u001b[0m \u001b[0;32mfor\u001b[0m \u001b[0mf\u001b[0m \u001b[0;32min\u001b[0m \u001b[0mdata_paths\u001b[0m\u001b[0;34m)\u001b[0m\u001b[0;34m\u001b[0m\u001b[0;34m\u001b[0m\u001b[0m\n\u001b[1;32m      2\u001b[0m \u001b[0;34m\u001b[0m\u001b[0m\n\u001b[0;32m----> 3\u001b[0;31m \u001b[0mpred\u001b[0m \u001b[0;34m=\u001b[0m \u001b[0;34m[\u001b[0m\u001b[0monnx_infe_model\u001b[0m\u001b[0;34m.\u001b[0m\u001b[0mpredict\u001b[0m\u001b[0;34m(\u001b[0m\u001b[0mimg\u001b[0m\u001b[0;34m)\u001b[0m \u001b[0;32mfor\u001b[0m \u001b[0mimg\u001b[0m \u001b[0;32min\u001b[0m \u001b[0mdata_prep_gen\u001b[0m\u001b[0;34m]\u001b[0m\u001b[0;34m\u001b[0m\u001b[0;34m\u001b[0m\u001b[0m\n\u001b[0m",
      "\u001b[0;32m<ipython-input-36-8a5b0484dd1b>\u001b[0m in \u001b[0;36mpredict\u001b[0;34m(self, x)\u001b[0m\n\u001b[1;32m     26\u001b[0m         \u001b[0;32mif\u001b[0m \u001b[0mlen\u001b[0m\u001b[0;34m(\u001b[0m\u001b[0mx\u001b[0m\u001b[0;34m)\u001b[0m \u001b[0;34m==\u001b[0m \u001b[0mlen\u001b[0m\u001b[0;34m(\u001b[0m\u001b[0mself\u001b[0m\u001b[0;34m.\u001b[0m\u001b[0monnx_inputs\u001b[0m\u001b[0;34m)\u001b[0m\u001b[0;34m:\u001b[0m\u001b[0;34m\u001b[0m\u001b[0;34m\u001b[0m\u001b[0m\n\u001b[1;32m     27\u001b[0m             \u001b[0minput_dict\u001b[0m \u001b[0;34m=\u001b[0m \u001b[0;34m{\u001b[0m\u001b[0mi\u001b[0m\u001b[0;34m:\u001b[0m \u001b[0mx_i\u001b[0m \u001b[0;32mfor\u001b[0m \u001b[0mi\u001b[0m\u001b[0;34m,\u001b[0m \u001b[0mx_i\u001b[0m \u001b[0;32min\u001b[0m \u001b[0mzip\u001b[0m\u001b[0;34m(\u001b[0m\u001b[0mself\u001b[0m\u001b[0;34m.\u001b[0m\u001b[0monnx_inputs\u001b[0m\u001b[0;34m,\u001b[0m \u001b[0mx\u001b[0m\u001b[0;34m)\u001b[0m\u001b[0;34m}\u001b[0m\u001b[0;34m\u001b[0m\u001b[0;34m\u001b[0m\u001b[0m\n\u001b[0;32m---> 28\u001b[0;31m             \u001b[0;32mreturn\u001b[0m \u001b[0mself\u001b[0m\u001b[0;34m.\u001b[0m\u001b[0msess\u001b[0m\u001b[0;34m.\u001b[0m\u001b[0mrun\u001b[0m\u001b[0;34m(\u001b[0m\u001b[0mself\u001b[0m\u001b[0;34m.\u001b[0m\u001b[0monnx_outputs\u001b[0m\u001b[0;34m,\u001b[0m \u001b[0minput_dict\u001b[0m\u001b[0;34m)\u001b[0m\u001b[0;34m\u001b[0m\u001b[0;34m\u001b[0m\u001b[0m\n\u001b[0m\u001b[1;32m     29\u001b[0m         \u001b[0;32melse\u001b[0m\u001b[0;34m:\u001b[0m\u001b[0;34m\u001b[0m\u001b[0;34m\u001b[0m\u001b[0m\n\u001b[1;32m     30\u001b[0m             \u001b[0;32mraise\u001b[0m \u001b[0mException\u001b[0m\u001b[0;34m(\u001b[0m\u001b[0;34mf\"The given input number '{len(x)}' and onnx model input number should be the same.\"\u001b[0m\u001b[0;34m)\u001b[0m\u001b[0;34m\u001b[0m\u001b[0;34m\u001b[0m\u001b[0m\n",
      "\u001b[0;32m/opt/conda/envs/onnx-tf1-15/lib/python3.7/site-packages/onnxruntime/capi/session.py\u001b[0m in \u001b[0;36mrun\u001b[0;34m(self, output_names, input_feed, run_options)\u001b[0m\n\u001b[1;32m    140\u001b[0m             \u001b[0moutput_names\u001b[0m \u001b[0;34m=\u001b[0m \u001b[0;34m[\u001b[0m\u001b[0moutput\u001b[0m\u001b[0;34m.\u001b[0m\u001b[0mname\u001b[0m \u001b[0;32mfor\u001b[0m \u001b[0moutput\u001b[0m \u001b[0;32min\u001b[0m \u001b[0mself\u001b[0m\u001b[0;34m.\u001b[0m\u001b[0m_outputs_meta\u001b[0m\u001b[0;34m]\u001b[0m\u001b[0;34m\u001b[0m\u001b[0;34m\u001b[0m\u001b[0m\n\u001b[1;32m    141\u001b[0m         \u001b[0;32mtry\u001b[0m\u001b[0;34m:\u001b[0m\u001b[0;34m\u001b[0m\u001b[0;34m\u001b[0m\u001b[0m\n\u001b[0;32m--> 142\u001b[0;31m             \u001b[0;32mreturn\u001b[0m \u001b[0mself\u001b[0m\u001b[0;34m.\u001b[0m\u001b[0m_sess\u001b[0m\u001b[0;34m.\u001b[0m\u001b[0mrun\u001b[0m\u001b[0;34m(\u001b[0m\u001b[0moutput_names\u001b[0m\u001b[0;34m,\u001b[0m \u001b[0minput_feed\u001b[0m\u001b[0;34m,\u001b[0m \u001b[0mrun_options\u001b[0m\u001b[0;34m)\u001b[0m\u001b[0;34m\u001b[0m\u001b[0;34m\u001b[0m\u001b[0m\n\u001b[0m\u001b[1;32m    143\u001b[0m         \u001b[0;32mexcept\u001b[0m \u001b[0mC\u001b[0m\u001b[0;34m.\u001b[0m\u001b[0mEPFail\u001b[0m \u001b[0;32mas\u001b[0m \u001b[0merr\u001b[0m\u001b[0;34m:\u001b[0m\u001b[0;34m\u001b[0m\u001b[0;34m\u001b[0m\u001b[0m\n\u001b[1;32m    144\u001b[0m             \u001b[0;32mif\u001b[0m \u001b[0mself\u001b[0m\u001b[0;34m.\u001b[0m\u001b[0m_enable_fallback\u001b[0m\u001b[0;34m:\u001b[0m\u001b[0;34m\u001b[0m\u001b[0;34m\u001b[0m\u001b[0m\n",
      "\u001b[0;31mInvalidArgument\u001b[0m: [ONNXRuntimeError] : 2 : INVALID_ARGUMENT : Invalid rank for input: input_2 Got: 3 Expected: 4 Please fix either the inputs or the model."
     ]
    }
   ],
   "source": [
    "data_prep_gen = ReusableGenerator(get_prep_image(f) for f in data_paths)\n",
    "\n",
    "pred = [onnx_infe_model.predict(img) for img in data_prep_gen]"
   ]
  },
  {
   "cell_type": "markdown",
   "metadata": {},
   "source": [
    "<div class=\"alert alert-block alert-danger\">\n",
    "<b>Error</b> <br>\n",
    "    \n",
    "```sh\n",
    "inputs : ['input_11']\n",
    "outputs: ['probs']\n",
    "(1, 224, 224, 3)\n",
    "---------------------------------------------------------------------------\n",
    "InvalidArgument                           Traceback (most recent call last)\n",
    "<ipython-input-496-55e97e795691> in <module>\n",
    "      1 data_prep_gen = ((get_prep_image(f) for f in data_paths))\n",
    "----> 2 pred = [onnx_infe_model.predict(img) for img in data_prep_gen]\n",
    "\n",
    "<ipython-input-496-55e97e795691> in <listcomp>(.0)\n",
    "      1 data_prep_gen = ((get_prep_image(f) for f in data_paths))\n",
    "----> 2 pred = [onnx_infe_model.predict(img) for img in data_prep_gen]\n",
    "\n",
    "<ipython-input-494-8a5b0484dd1b> in predict(self, x)\n",
    "     26         if len(x) == len(self.onnx_inputs):\n",
    "     27             input_dict = {i: x_i for i, x_i in zip(self.onnx_inputs, x)}\n",
    "---> 28             return self.sess.run(self.onnx_outputs, input_dict)\n",
    "     29         else:\n",
    "     30             raise Exception(f\"The given input number '{len(x)}' and onnx model input number should be the same.\")\n",
    "\n",
    "/opt/conda/envs/onnx-tf1-15/lib/python3.7/site-packages/onnxruntime/capi/session.py in run(self, output_names, input_feed, run_options)\n",
    "    140             output_names = [output.name for output in self._outputs_meta]\n",
    "    141         try:\n",
    "--> 142             return self._sess.run(output_names, input_feed, run_options)\n",
    "    143         except C.EPFail as err:\n",
    "    144             if self._enable_fallback:\n",
    "\n",
    "InvalidArgument: [ONNXRuntimeError] : 2 : INVALID_ARGUMENT : Invalid rank for input: input_11 Got: 3 Expected: 4 Please fix either the inputs or the model.\n",
    "```\n",
    "\n",
    "</div>\n",
    "\n",
    ": ONNX loaded model requires an expanded axis.  "
   ]
  },
  {
   "cell_type": "markdown",
   "metadata": {},
   "source": [
    "* Error: `INVALID_ARGUMENT: Got invalid dimensions for Input`: ONNX need fixed size"
   ]
  },
  {
   "cell_type": "code",
   "execution_count": 39,
   "metadata": {
    "ExecuteTime": {
     "end_time": "2020-04-28T05:26:18.747346Z",
     "start_time": "2020-04-28T05:26:18.711659Z"
    }
   },
   "outputs": [
    {
     "ename": "InvalidArgument",
     "evalue": "[ONNXRuntimeError] : 2 : INVALID_ARGUMENT : Got invalid dimensions for input: input_2 for the following indices\n index: 1 Got: 197 Expected: 224\n index: 2 Got: 300 Expected: 224\n Please fix either the inputs or the model.",
     "output_type": "error",
     "traceback": [
      "\u001b[0;31m---------------------------------------------------------------------------\u001b[0m",
      "\u001b[0;31mInvalidArgument\u001b[0m                           Traceback (most recent call last)",
      "\u001b[0;32m<ipython-input-39-2a97f8204bbf>\u001b[0m in \u001b[0;36m<module>\u001b[0;34m\u001b[0m\n\u001b[1;32m      1\u001b[0m \u001b[0mdata_prep_gen\u001b[0m \u001b[0;34m=\u001b[0m \u001b[0mReusableGenerator\u001b[0m\u001b[0;34m(\u001b[0m\u001b[0mnp\u001b[0m\u001b[0;34m.\u001b[0m\u001b[0mexpand_dims\u001b[0m\u001b[0;34m(\u001b[0m\u001b[0mget_prep_image\u001b[0m\u001b[0;34m(\u001b[0m\u001b[0mf\u001b[0m\u001b[0;34m)\u001b[0m\u001b[0;34m,\u001b[0m \u001b[0maxis\u001b[0m\u001b[0;34m=\u001b[0m\u001b[0;36m0\u001b[0m\u001b[0;34m)\u001b[0m \u001b[0;32mfor\u001b[0m \u001b[0mf\u001b[0m \u001b[0;32min\u001b[0m \u001b[0mdata_paths\u001b[0m\u001b[0;34m)\u001b[0m\u001b[0;34m\u001b[0m\u001b[0;34m\u001b[0m\u001b[0m\n\u001b[1;32m      2\u001b[0m \u001b[0;34m\u001b[0m\u001b[0m\n\u001b[0;32m----> 3\u001b[0;31m \u001b[0mpred\u001b[0m \u001b[0;34m=\u001b[0m \u001b[0;34m[\u001b[0m\u001b[0monnx_infe_model\u001b[0m\u001b[0;34m.\u001b[0m\u001b[0mpredict\u001b[0m\u001b[0;34m(\u001b[0m\u001b[0mimg\u001b[0m\u001b[0;34m)\u001b[0m \u001b[0;32mfor\u001b[0m \u001b[0mimg\u001b[0m \u001b[0;32min\u001b[0m \u001b[0mdata_prep_gen\u001b[0m\u001b[0;34m]\u001b[0m\u001b[0;34m\u001b[0m\u001b[0;34m\u001b[0m\u001b[0m\n\u001b[0m",
      "\u001b[0;32m<ipython-input-39-2a97f8204bbf>\u001b[0m in \u001b[0;36m<listcomp>\u001b[0;34m(.0)\u001b[0m\n\u001b[1;32m      1\u001b[0m \u001b[0mdata_prep_gen\u001b[0m \u001b[0;34m=\u001b[0m \u001b[0mReusableGenerator\u001b[0m\u001b[0;34m(\u001b[0m\u001b[0mnp\u001b[0m\u001b[0;34m.\u001b[0m\u001b[0mexpand_dims\u001b[0m\u001b[0;34m(\u001b[0m\u001b[0mget_prep_image\u001b[0m\u001b[0;34m(\u001b[0m\u001b[0mf\u001b[0m\u001b[0;34m)\u001b[0m\u001b[0;34m,\u001b[0m \u001b[0maxis\u001b[0m\u001b[0;34m=\u001b[0m\u001b[0;36m0\u001b[0m\u001b[0;34m)\u001b[0m \u001b[0;32mfor\u001b[0m \u001b[0mf\u001b[0m \u001b[0;32min\u001b[0m \u001b[0mdata_paths\u001b[0m\u001b[0;34m)\u001b[0m\u001b[0;34m\u001b[0m\u001b[0;34m\u001b[0m\u001b[0m\n\u001b[1;32m      2\u001b[0m \u001b[0;34m\u001b[0m\u001b[0m\n\u001b[0;32m----> 3\u001b[0;31m \u001b[0mpred\u001b[0m \u001b[0;34m=\u001b[0m \u001b[0;34m[\u001b[0m\u001b[0monnx_infe_model\u001b[0m\u001b[0;34m.\u001b[0m\u001b[0mpredict\u001b[0m\u001b[0;34m(\u001b[0m\u001b[0mimg\u001b[0m\u001b[0;34m)\u001b[0m \u001b[0;32mfor\u001b[0m \u001b[0mimg\u001b[0m \u001b[0;32min\u001b[0m \u001b[0mdata_prep_gen\u001b[0m\u001b[0;34m]\u001b[0m\u001b[0;34m\u001b[0m\u001b[0;34m\u001b[0m\u001b[0m\n\u001b[0m",
      "\u001b[0;32m<ipython-input-36-8a5b0484dd1b>\u001b[0m in \u001b[0;36mpredict\u001b[0;34m(self, x)\u001b[0m\n\u001b[1;32m     26\u001b[0m         \u001b[0;32mif\u001b[0m \u001b[0mlen\u001b[0m\u001b[0;34m(\u001b[0m\u001b[0mx\u001b[0m\u001b[0;34m)\u001b[0m \u001b[0;34m==\u001b[0m \u001b[0mlen\u001b[0m\u001b[0;34m(\u001b[0m\u001b[0mself\u001b[0m\u001b[0;34m.\u001b[0m\u001b[0monnx_inputs\u001b[0m\u001b[0;34m)\u001b[0m\u001b[0;34m:\u001b[0m\u001b[0;34m\u001b[0m\u001b[0;34m\u001b[0m\u001b[0m\n\u001b[1;32m     27\u001b[0m             \u001b[0minput_dict\u001b[0m \u001b[0;34m=\u001b[0m \u001b[0;34m{\u001b[0m\u001b[0mi\u001b[0m\u001b[0;34m:\u001b[0m \u001b[0mx_i\u001b[0m \u001b[0;32mfor\u001b[0m \u001b[0mi\u001b[0m\u001b[0;34m,\u001b[0m \u001b[0mx_i\u001b[0m \u001b[0;32min\u001b[0m \u001b[0mzip\u001b[0m\u001b[0;34m(\u001b[0m\u001b[0mself\u001b[0m\u001b[0;34m.\u001b[0m\u001b[0monnx_inputs\u001b[0m\u001b[0;34m,\u001b[0m \u001b[0mx\u001b[0m\u001b[0;34m)\u001b[0m\u001b[0;34m}\u001b[0m\u001b[0;34m\u001b[0m\u001b[0;34m\u001b[0m\u001b[0m\n\u001b[0;32m---> 28\u001b[0;31m             \u001b[0;32mreturn\u001b[0m \u001b[0mself\u001b[0m\u001b[0;34m.\u001b[0m\u001b[0msess\u001b[0m\u001b[0;34m.\u001b[0m\u001b[0mrun\u001b[0m\u001b[0;34m(\u001b[0m\u001b[0mself\u001b[0m\u001b[0;34m.\u001b[0m\u001b[0monnx_outputs\u001b[0m\u001b[0;34m,\u001b[0m \u001b[0minput_dict\u001b[0m\u001b[0;34m)\u001b[0m\u001b[0;34m\u001b[0m\u001b[0;34m\u001b[0m\u001b[0m\n\u001b[0m\u001b[1;32m     29\u001b[0m         \u001b[0;32melse\u001b[0m\u001b[0;34m:\u001b[0m\u001b[0;34m\u001b[0m\u001b[0;34m\u001b[0m\u001b[0m\n\u001b[1;32m     30\u001b[0m             \u001b[0;32mraise\u001b[0m \u001b[0mException\u001b[0m\u001b[0;34m(\u001b[0m\u001b[0;34mf\"The given input number '{len(x)}' and onnx model input number should be the same.\"\u001b[0m\u001b[0;34m)\u001b[0m\u001b[0;34m\u001b[0m\u001b[0;34m\u001b[0m\u001b[0m\n",
      "\u001b[0;32m/opt/conda/envs/onnx-tf1-15/lib/python3.7/site-packages/onnxruntime/capi/session.py\u001b[0m in \u001b[0;36mrun\u001b[0;34m(self, output_names, input_feed, run_options)\u001b[0m\n\u001b[1;32m    140\u001b[0m             \u001b[0moutput_names\u001b[0m \u001b[0;34m=\u001b[0m \u001b[0;34m[\u001b[0m\u001b[0moutput\u001b[0m\u001b[0;34m.\u001b[0m\u001b[0mname\u001b[0m \u001b[0;32mfor\u001b[0m \u001b[0moutput\u001b[0m \u001b[0;32min\u001b[0m \u001b[0mself\u001b[0m\u001b[0;34m.\u001b[0m\u001b[0m_outputs_meta\u001b[0m\u001b[0;34m]\u001b[0m\u001b[0;34m\u001b[0m\u001b[0;34m\u001b[0m\u001b[0m\n\u001b[1;32m    141\u001b[0m         \u001b[0;32mtry\u001b[0m\u001b[0;34m:\u001b[0m\u001b[0;34m\u001b[0m\u001b[0;34m\u001b[0m\u001b[0m\n\u001b[0;32m--> 142\u001b[0;31m             \u001b[0;32mreturn\u001b[0m \u001b[0mself\u001b[0m\u001b[0;34m.\u001b[0m\u001b[0m_sess\u001b[0m\u001b[0;34m.\u001b[0m\u001b[0mrun\u001b[0m\u001b[0;34m(\u001b[0m\u001b[0moutput_names\u001b[0m\u001b[0;34m,\u001b[0m \u001b[0minput_feed\u001b[0m\u001b[0;34m,\u001b[0m \u001b[0mrun_options\u001b[0m\u001b[0;34m)\u001b[0m\u001b[0;34m\u001b[0m\u001b[0;34m\u001b[0m\u001b[0m\n\u001b[0m\u001b[1;32m    143\u001b[0m         \u001b[0;32mexcept\u001b[0m \u001b[0mC\u001b[0m\u001b[0;34m.\u001b[0m\u001b[0mEPFail\u001b[0m \u001b[0;32mas\u001b[0m \u001b[0merr\u001b[0m\u001b[0;34m:\u001b[0m\u001b[0;34m\u001b[0m\u001b[0;34m\u001b[0m\u001b[0m\n\u001b[1;32m    144\u001b[0m             \u001b[0;32mif\u001b[0m \u001b[0mself\u001b[0m\u001b[0;34m.\u001b[0m\u001b[0m_enable_fallback\u001b[0m\u001b[0;34m:\u001b[0m\u001b[0;34m\u001b[0m\u001b[0;34m\u001b[0m\u001b[0m\n",
      "\u001b[0;31mInvalidArgument\u001b[0m: [ONNXRuntimeError] : 2 : INVALID_ARGUMENT : Got invalid dimensions for input: input_2 for the following indices\n index: 1 Got: 197 Expected: 224\n index: 2 Got: 300 Expected: 224\n Please fix either the inputs or the model."
     ]
    }
   ],
   "source": [
    "data_prep_gen = ReusableGenerator(np.expand_dims(get_prep_image(f), axis=0) for f in data_paths)\n",
    "\n",
    "pred = [onnx_infe_model.predict(img) for img in data_prep_gen]"
   ]
  },
  {
   "cell_type": "markdown",
   "metadata": {},
   "source": [
    "<div class=\"alert alert-block alert-danger\">\n",
    "<b>Error</b> <br>\n",
    "    \n",
    "```sh\n",
    "inputs : ['input_11']\n",
    "outputs: ['probs']\n",
    "(1, 1, 197, 300, 3)\n",
    "---------------------------------------------------------------------------\n",
    "InvalidArgument                           Traceback (most recent call last)\n",
    "<ipython-input-499-92ec9554f4cf> in <module>\n",
    "      1 data_prep_gen = (np.expand_dims(get_prep_image(f), axis=0) for f in data_paths)\n",
    "      2 \n",
    "----> 3 pred = [onnx_infe_model.predict(img) for img in data_prep_gen]\n",
    "\n",
    "<ipython-input-499-92ec9554f4cf> in <listcomp>(.0)\n",
    "      1 data_prep_gen = (np.expand_dims(get_prep_image(f), axis=0) for f in data_paths)\n",
    "      2 \n",
    "----> 3 pred = [onnx_infe_model.predict(img) for img in data_prep_gen]\n",
    "\n",
    "<ipython-input-494-8a5b0484dd1b> in predict(self, x)\n",
    "     26         if len(x) == len(self.onnx_inputs):\n",
    "     27             input_dict = {i: x_i for i, x_i in zip(self.onnx_inputs, x)}\n",
    "---> 28             return self.sess.run(self.onnx_outputs, input_dict)\n",
    "     29         else:\n",
    "     30             raise Exception(f\"The given input number '{len(x)}' and onnx model input number should be the same.\")\n",
    "\n",
    "/opt/conda/envs/onnx-tf1-15/lib/python3.7/site-packages/onnxruntime/capi/session.py in run(self, output_names, input_feed, run_options)\n",
    "    140             output_names = [output.name for output in self._outputs_meta]\n",
    "    141         try:\n",
    "--> 142             return self._sess.run(output_names, input_feed, run_options)\n",
    "    143         except C.EPFail as err:\n",
    "    144             if self._enable_fallback:\n",
    "\n",
    "InvalidArgument: [ONNXRuntimeError] : 2 : INVALID_ARGUMENT : Got invalid dimensions for input: input_11 for the following indices\n",
    " index: 1 Got: 197 Expected: 224\n",
    " index: 2 Got: 300 Expected: 224\n",
    " Please fix either the inputs or the model.\n",
    "```\n",
    "\n",
    "</div>\n",
    "\n",
    ": ONNX loaded model requires a fixed size input.  \n",
    "\n",
    "[ref1: Common errors with `onnxruntime`](http://www.xavierdupre.fr/app/onnxruntime/helpsphinx/auto_examples/plot_common_errors.html)"
   ]
  },
  {
   "cell_type": "code",
   "execution_count": 40,
   "metadata": {
    "ExecuteTime": {
     "end_time": "2020-04-28T05:26:55.980888Z",
     "start_time": "2020-04-28T05:26:55.977253Z"
    }
   },
   "outputs": [],
   "source": [
    "def get_prep_image(img_path, target_size=None):\n",
    "    x = tf.keras.preprocessing.image.load_img(\n",
    "        img_path,\n",
    "        grayscale=False,\n",
    "        color_mode='rgb',\n",
    "        target_size=target_size,\n",
    "        interpolation='nearest',\n",
    "    )\n",
    "    x = np.asarray(x)\n",
    "    x = preprocess_input(x)\n",
    "    x = np.expand_dims(x, axis=0)\n",
    "    return x"
   ]
  },
  {
   "cell_type": "code",
   "execution_count": 41,
   "metadata": {
    "ExecuteTime": {
     "end_time": "2020-04-28T05:26:56.089832Z",
     "start_time": "2020-04-28T05:26:55.982104Z"
    }
   },
   "outputs": [],
   "source": [
    "data_prep_fixed_size_gen = ReusableGenerator(get_prep_image(f, target_size=(224, 224)) for f in data_paths)\n",
    "data_prep_for_onnx_gen = ReusableGenerator(np.expand_dims(l, axis=0) for l in data_prep_fixed_size_gen)"
   ]
  },
  {
   "cell_type": "code",
   "execution_count": 42,
   "metadata": {
    "ExecuteTime": {
     "end_time": "2020-04-28T05:31:37.262616Z",
     "start_time": "2020-04-28T05:26:56.095228Z"
    }
   },
   "outputs": [
    {
     "name": "stdout",
     "output_type": "stream",
     "text": [
      "281.09434347800016\n"
     ]
    }
   ],
   "source": [
    "#%%timeit\n",
    "t = time.perf_counter()\n",
    "\n",
    "pred = [onnx_infe_model.predict(img)[0] for img in data_prep_for_onnx_gen]\n",
    "print(time.perf_counter() - t)"
   ]
  },
  {
   "cell_type": "markdown",
   "metadata": {},
   "source": [
    "```sh\n",
    "CONTAINER ID        NAME                CPU %               MEM USAGE / LIMIT     MEM %               NET I/O             BLOCK I/O           PIDS\n",
    "bdf1a647146f        admiring_wu         312.80%             28.86GiB / 62.85GiB   45.92%              2.22GB / 726MB      841MB / 2.29GB      232\n",
    "```"
   ]
  },
  {
   "cell_type": "code",
   "execution_count": 43,
   "metadata": {
    "ExecuteTime": {
     "end_time": "2020-04-28T05:31:37.649613Z",
     "start_time": "2020-04-28T05:31:37.263701Z"
    }
   },
   "outputs": [
    {
     "name": "stdout",
     "output_type": "stream",
     "text": [
      "<class 'numpy.ndarray'>\n",
      "(1000,)\n"
     ]
    },
    {
     "data": {
      "text/plain": [
       "[[('n02437616', 'llama', 0.43486962),\n",
       "  ('n01873310', 'platypus', 0.19912402),\n",
       "  ('n02417914', 'ibex', 0.18232316),\n",
       "  ('n02326432', 'hare', 0.027106483),\n",
       "  ('n01877812', 'wallaby', 0.018452054)],\n",
       " [('n02389026', 'sorrel', 0.39518663),\n",
       "  ('n02417914', 'ibex', 0.24218312),\n",
       "  ('n02422106', 'hartebeest', 0.20695865),\n",
       "  ('n02437312', 'Arabian_camel', 0.035300635),\n",
       "  ('n02423022', 'gazelle', 0.027825477)],\n",
       " [('n02391049', 'zebra', 0.8434858),\n",
       "  ('n02389026', 'sorrel', 0.089342676),\n",
       "  ('n02116738', 'African_hunting_dog', 0.0052763782),\n",
       "  ('n02091244', 'Ibizan_hound', 0.0048087235),\n",
       "  ('n02509815', 'lesser_panda', 0.002450595)]]"
      ]
     },
     "execution_count": 43,
     "metadata": {},
     "output_type": "execute_result"
    }
   ],
   "source": [
    "pred_array = np.concatenate(pred)\n",
    "\n",
    "print(type(pred_array))\n",
    "print(pred_array[0].shape)\n",
    "\n",
    "pred_decoded_onnx = decode_predictions(pred_array)\n",
    "pred_decoded_onnx[-3:]"
   ]
  },
  {
   "cell_type": "raw",
   "metadata": {},
   "source": [
    "[[('n02437616', 'llama', 0.15925159),\n",
    "  ('n02417914', 'ibex', 0.10049338),\n",
    "  ('n02391049', 'zebra', 0.07378857),\n",
    "  ('n02423022', 'gazelle', 0.041579306),\n",
    "  ('n02125311', 'cougar', 0.02804535)],\n",
    " [('n02389026', 'sorrel', 0.17463423),\n",
    "  ('n02391049', 'zebra', 0.06998125),\n",
    "  ('n02437312', 'Arabian_camel', 0.056545377),\n",
    "  ('n02417914', 'ibex', 0.051300034),\n",
    "  ('n02422106', 'hartebeest', 0.03356029)],\n",
    " [('n02391049', 'zebra', 0.63725334),\n",
    "  ('n02389026', 'sorrel', 0.15998408),\n",
    "  ('n02423022', 'gazelle', 0.0069316197),\n",
    "  ('n03967562', 'plow', 0.0067086597),\n",
    "  ('n03538406', 'horse_cart', 0.004334446)]]"
   ]
  },
  {
   "cell_type": "raw",
   "metadata": {},
   "source": [
    "[[('n02437616', 'llama', 0.43486962),\n",
    "  ('n01873310', 'platypus', 0.19912402),\n",
    "  ('n02417914', 'ibex', 0.18232316),\n",
    "  ('n02326432', 'hare', 0.027106483),\n",
    "  ('n01877812', 'wallaby', 0.018452054)],\n",
    " [('n02389026', 'sorrel', 0.39518663),\n",
    "  ('n02417914', 'ibex', 0.24218312),\n",
    "  ('n02422106', 'hartebeest', 0.20695865),\n",
    "  ('n02437312', 'Arabian_camel', 0.035300635),\n",
    "  ('n02423022', 'gazelle', 0.027825477)],\n",
    " [('n02391049', 'zebra', 0.8434858),\n",
    "  ('n02389026', 'sorrel', 0.089342676),\n",
    "  ('n02116738', 'African_hunting_dog', 0.0052763782),\n",
    "  ('n02091244', 'Ibizan_hound', 0.0048087235),\n",
    "  ('n02509815', 'lesser_panda', 0.002450595)]]"
   ]
  },
  {
   "cell_type": "code",
   "execution_count": 44,
   "metadata": {
    "ExecuteTime": {
     "end_time": "2020-04-28T05:41:57.290366Z",
     "start_time": "2020-04-28T05:41:57.287655Z"
    }
   },
   "outputs": [
    {
     "data": {
      "text/plain": [
       "'1.6.1'"
      ]
     },
     "execution_count": 44,
     "metadata": {},
     "output_type": "execute_result"
    }
   ],
   "source": [
    "onnx_infe_model.model.producer_version"
   ]
  },
  {
   "cell_type": "code",
   "execution_count": 45,
   "metadata": {
    "ExecuteTime": {
     "end_time": "2020-04-28T05:41:57.384187Z",
     "start_time": "2020-04-28T05:41:57.291641Z"
    }
   },
   "outputs": [
    {
     "data": {
      "text/plain": [
       "<google.protobuf.pyext._message.MessageDescriptor at 0x7fa9eac50f90>"
      ]
     },
     "execution_count": 45,
     "metadata": {},
     "output_type": "execute_result"
    }
   ],
   "source": [
    "onnx_infe_model.model.DESCRIPTOR"
   ]
  },
  {
   "cell_type": "code",
   "execution_count": 46,
   "metadata": {
    "ExecuteTime": {
     "end_time": "2020-04-28T05:41:57.786410Z",
     "start_time": "2020-04-28T05:41:57.388281Z"
    },
    "scrolled": true
   },
   "outputs": [
    {
     "name": "stdout",
     "output_type": "stream",
     "text": [
      "After shape inference, the shape info of Y is:\n",
      "[name: \"input_2:01_permuted\"\n",
      "type {\n",
      "  tensor_type {\n",
      "    elem_type: 1\n",
      "    shape {\n",
      "      dim {\n",
      "        dim_param: \"N\"\n",
      "      }\n",
      "      dim {\n",
      "        dim_value: 3\n",
      "      }\n",
      "      dim {\n",
      "        dim_value: 224\n",
      "      }\n",
      "      dim {\n",
      "        dim_value: 224\n",
      "      }\n",
      "    }\n",
      "  }\n",
      "}\n",
      ", name: \"input_2:01_permuted_padded\"\n",
      "type {\n",
      "  tensor_type {\n",
      "    elem_type: 1\n",
      "    shape {\n",
      "      dim {\n",
      "        dim_param: \"N\"\n",
      "      }\n",
      "      dim {\n",
      "        dim_value: 3\n",
      "      }\n",
      "      dim {\n",
      "        dim_value: 230\n",
      "      }\n",
      "      dim {\n",
      "        dim_value: 230\n",
      "      }\n",
      "    }\n",
      "  }\n",
      "}\n",
      ", name: \"convolution_output50\"\n",
      "type {\n",
      "  tensor_type {\n",
      "    elem_type: 1\n",
      "  }\n",
      "}\n",
      ", name: \"conv1_conv_1/BiasAdd:0_permuted_padded\"\n",
      "type {\n",
      "  tensor_type {\n",
      "    elem_type: 1\n",
      "  }\n",
      "}\n",
      ", name: \"pool1_pad_1/Pad:0_pooling0\"\n",
      "type {\n",
      "  tensor_type {\n",
      "    elem_type: 1\n",
      "  }\n",
      "}\n",
      ", name: \"batch_norm_output_buffer42\"\n",
      "type {\n",
      "  tensor_type {\n",
      "    elem_type: 1\n",
      "  }\n",
      "}\n",
      ", name: \"conv2_block1_preact_relu_1/Relu:0\"\n",
      "type {\n",
      "  tensor_type {\n",
      "    elem_type: 1\n",
      "  }\n",
      "}\n",
      ", name: \"convolution_output52\"\n",
      "type {\n",
      "  tensor_type {\n",
      "    elem_type: 1\n",
      "  }\n",
      "}\n",
      ", name: \"batch_norm_output_buffer46\"\n",
      "type {\n",
      "  tensor_type {\n",
      "    elem_type: 1\n",
      "  }\n",
      "}\n",
      ", name: \"conv2_block1_1_relu_1/Relu:0\"\n",
      "type {\n",
      "  tensor_type {\n",
      "    elem_type: 1\n",
      "  }\n",
      "}\n",
      ", name: \"conv2_block1_1_relu_1/Relu:0_permuted_padded\"\n",
      "type {\n",
      "  tensor_type {\n",
      "    elem_type: 1\n",
      "  }\n",
      "}\n",
      ", name: \"convolution_output48\"\n",
      "type {\n",
      "  tensor_type {\n",
      "    elem_type: 1\n",
      "  }\n",
      "}\n",
      ", name: \"batch_norm_output_buffer43\"\n",
      "type {\n",
      "  tensor_type {\n",
      "    elem_type: 1\n",
      "  }\n",
      "}\n",
      ", name: \"conv2_block1_2_relu_1/Relu:0\"\n",
      "type {\n",
      "  tensor_type {\n",
      "    elem_type: 1\n",
      "  }\n",
      "}\n",
      ", name: \"convolution_output44\"\n",
      "type {\n",
      "  tensor_type {\n",
      "    elem_type: 1\n",
      "  }\n",
      "}\n",
      ", name: \"convolution_output43\"\n",
      "type {\n",
      "  tensor_type {\n",
      "    elem_type: 1\n",
      "  }\n",
      "}\n",
      ", name: \"conv2_block1_out_1/add:0\"\n",
      "type {\n",
      "  tensor_type {\n",
      "    elem_type: 1\n",
      "  }\n",
      "}\n",
      ", name: \"batch_norm_output_buffer48\"\n",
      "type {\n",
      "  tensor_type {\n",
      "    elem_type: 1\n",
      "  }\n",
      "}\n",
      ", name: \"conv2_block2_preact_relu_1/Relu:0\"\n",
      "type {\n",
      "  tensor_type {\n",
      "    elem_type: 1\n",
      "  }\n",
      "}\n",
      ", name: \"convolution_output51\"\n",
      "type {\n",
      "  tensor_type {\n",
      "    elem_type: 1\n",
      "  }\n",
      "}\n",
      ", name: \"batch_norm_output_buffer45\"\n",
      "type {\n",
      "  tensor_type {\n",
      "    elem_type: 1\n",
      "  }\n",
      "}\n",
      ", name: \"conv2_block2_1_relu_1/Relu:0\"\n",
      "type {\n",
      "  tensor_type {\n",
      "    elem_type: 1\n",
      "  }\n",
      "}\n",
      ", name: \"conv2_block2_1_relu_1/Relu:0_permuted_padded\"\n",
      "type {\n",
      "  tensor_type {\n",
      "    elem_type: 1\n",
      "  }\n",
      "}\n",
      ", name: \"convolution_output47\"\n",
      "type {\n",
      "  tensor_type {\n",
      "    elem_type: 1\n",
      "  }\n",
      "}\n",
      ", name: \"batch_norm_output_buffer40\"\n",
      "type {\n",
      "  tensor_type {\n",
      "    elem_type: 1\n",
      "  }\n",
      "}\n",
      ", name: \"conv2_block2_2_relu_1/Relu:0\"\n",
      "type {\n",
      "  tensor_type {\n",
      "    elem_type: 1\n",
      "  }\n",
      "}\n",
      ", name: \"convolution_output41\"\n",
      "type {\n",
      "  tensor_type {\n",
      "    elem_type: 1\n",
      "  }\n",
      "}\n",
      ", name: \"conv2_block2_out_1/add:0\"\n",
      "type {\n",
      "  tensor_type {\n",
      "    elem_type: 1\n",
      "  }\n",
      "}\n",
      ", name: \"batch_norm_output_buffer47\"\n",
      "type {\n",
      "  tensor_type {\n",
      "    elem_type: 1\n",
      "  }\n",
      "}\n",
      ", name: \"conv2_block3_preact_relu_1/Relu:0\"\n",
      "type {\n",
      "  tensor_type {\n",
      "    elem_type: 1\n",
      "  }\n",
      "}\n",
      ", name: \"convolution_output49\"\n",
      "type {\n",
      "  tensor_type {\n",
      "    elem_type: 1\n",
      "  }\n",
      "}\n",
      ", name: \"batch_norm_output_buffer44\"\n",
      "type {\n",
      "  tensor_type {\n",
      "    elem_type: 1\n",
      "  }\n",
      "}\n",
      ", name: \"conv2_block3_1_relu_1/Relu:0\"\n",
      "type {\n",
      "  tensor_type {\n",
      "    elem_type: 1\n",
      "  }\n",
      "}\n",
      ", name: \"conv2_block3_1_relu_1/Relu:0_permuted_padded\"\n",
      "type {\n",
      "  tensor_type {\n",
      "    elem_type: 1\n",
      "  }\n",
      "}\n",
      ", name: \"convolution_output45\"\n",
      "type {\n",
      "  tensor_type {\n",
      "    elem_type: 1\n",
      "  }\n",
      "}\n",
      ", name: \"batch_norm_output_buffer37\"\n",
      "type {\n",
      "  tensor_type {\n",
      "    elem_type: 1\n",
      "  }\n",
      "}\n",
      ", name: \"conv2_block3_2_relu_1/Relu:0\"\n",
      "type {\n",
      "  tensor_type {\n",
      "    elem_type: 1\n",
      "  }\n",
      "}\n",
      ", name: \"convolution_output39\"\n",
      "type {\n",
      "  tensor_type {\n",
      "    elem_type: 1\n",
      "  }\n",
      "}\n",
      ", name: \"conv2_block2_out_1/add:0_pooling0\"\n",
      "type {\n",
      "  tensor_type {\n",
      "    elem_type: 1\n",
      "  }\n",
      "}\n",
      ", name: \"conv2_block3_out_1/add:0\"\n",
      "type {\n",
      "  tensor_type {\n",
      "    elem_type: 1\n",
      "  }\n",
      "}\n",
      ", name: \"batch_norm_output_buffer31\"\n",
      "type {\n",
      "  tensor_type {\n",
      "    elem_type: 1\n",
      "  }\n",
      "}\n",
      ", name: \"conv3_block1_preact_relu_1/Relu:0\"\n",
      "type {\n",
      "  tensor_type {\n",
      "    elem_type: 1\n",
      "  }\n",
      "}\n",
      ", name: \"convolution_output46\"\n",
      "type {\n",
      "  tensor_type {\n",
      "    elem_type: 1\n",
      "  }\n",
      "}\n",
      ", name: \"batch_norm_output_buffer38\"\n",
      "type {\n",
      "  tensor_type {\n",
      "    elem_type: 1\n",
      "  }\n",
      "}\n",
      ", name: \"conv3_block1_1_relu_1/Relu:0\"\n",
      "type {\n",
      "  tensor_type {\n",
      "    elem_type: 1\n",
      "  }\n",
      "}\n",
      ", name: \"conv3_block1_1_relu_1/Relu:0_permuted_padded\"\n",
      "type {\n",
      "  tensor_type {\n",
      "    elem_type: 1\n",
      "  }\n",
      "}\n",
      ", name: \"convolution_output37\"\n",
      "type {\n",
      "  tensor_type {\n",
      "    elem_type: 1\n",
      "  }\n",
      "}\n",
      ", name: \"batch_norm_output_buffer32\"\n",
      "type {\n",
      "  tensor_type {\n",
      "    elem_type: 1\n",
      "  }\n",
      "}\n",
      ", name: \"conv3_block1_2_relu_1/Relu:0\"\n",
      "type {\n",
      "  tensor_type {\n",
      "    elem_type: 1\n",
      "  }\n",
      "}\n",
      ", name: \"convolution_output34\"\n",
      "type {\n",
      "  tensor_type {\n",
      "    elem_type: 1\n",
      "  }\n",
      "}\n",
      ", name: \"convolution_output33\"\n",
      "type {\n",
      "  tensor_type {\n",
      "    elem_type: 1\n",
      "  }\n",
      "}\n",
      ", name: \"conv3_block1_out_1/add:0\"\n",
      "type {\n",
      "  tensor_type {\n",
      "    elem_type: 1\n",
      "  }\n",
      "}\n",
      ", name: \"batch_norm_output_buffer41\"\n",
      "type {\n",
      "  tensor_type {\n",
      "    elem_type: 1\n",
      "  }\n",
      "}\n",
      ", name: \"conv3_block2_preact_relu_1/Relu:0\"\n",
      "type {\n",
      "  tensor_type {\n",
      "    elem_type: 1\n",
      "  }\n",
      "}\n",
      ", name: \"convolution_output42\"\n",
      "type {\n",
      "  tensor_type {\n",
      "    elem_type: 1\n",
      "  }\n",
      "}\n",
      ", name: \"batch_norm_output_buffer35\"\n",
      "type {\n",
      "  tensor_type {\n",
      "    elem_type: 1\n",
      "  }\n",
      "}\n",
      ", name: \"conv3_block2_1_relu_1/Relu:0\"\n",
      "type {\n",
      "  tensor_type {\n",
      "    elem_type: 1\n",
      "  }\n",
      "}\n",
      ", name: \"conv3_block2_1_relu_1/Relu:0_permuted_padded\"\n",
      "type {\n",
      "  tensor_type {\n",
      "    elem_type: 1\n",
      "  }\n",
      "}\n",
      ", name: \"convolution_output36\"\n",
      "type {\n",
      "  tensor_type {\n",
      "    elem_type: 1\n",
      "  }\n",
      "}\n",
      ", name: \"batch_norm_output_buffer30\"\n",
      "type {\n",
      "  tensor_type {\n",
      "    elem_type: 1\n",
      "  }\n",
      "}\n",
      ", name: \"conv3_block2_2_relu_1/Relu:0\"\n",
      "type {\n",
      "  tensor_type {\n",
      "    elem_type: 1\n",
      "  }\n",
      "}\n",
      ", name: \"convolution_output30\"\n",
      "type {\n",
      "  tensor_type {\n",
      "    elem_type: 1\n",
      "  }\n",
      "}\n",
      ", name: \"conv3_block2_out_1/add:0\"\n",
      "type {\n",
      "  tensor_type {\n",
      "    elem_type: 1\n",
      "  }\n",
      "}\n",
      ", name: \"batch_norm_output_buffer39\"\n",
      "type {\n",
      "  tensor_type {\n",
      "    elem_type: 1\n",
      "  }\n",
      "}\n",
      ", name: \"conv3_block3_preact_relu_1/Relu:0\"\n",
      "type {\n",
      "  tensor_type {\n",
      "    elem_type: 1\n",
      "  }\n",
      "}\n",
      ", name: \"convolution_output40\"\n",
      "type {\n",
      "  tensor_type {\n",
      "    elem_type: 1\n",
      "  }\n",
      "}\n",
      ", name: \"batch_norm_output_buffer34\"\n",
      "type {\n",
      "  tensor_type {\n",
      "    elem_type: 1\n",
      "  }\n",
      "}\n",
      ", name: \"conv3_block3_1_relu_1/Relu:0\"\n",
      "type {\n",
      "  tensor_type {\n",
      "    elem_type: 1\n",
      "  }\n",
      "}\n",
      ", name: \"conv3_block3_1_relu_1/Relu:0_permuted_padded\"\n",
      "type {\n",
      "  tensor_type {\n",
      "    elem_type: 1\n",
      "  }\n",
      "}\n",
      ", name: \"convolution_output35\"\n",
      "type {\n",
      "  tensor_type {\n",
      "    elem_type: 1\n",
      "  }\n",
      "}\n",
      ", name: \"batch_norm_output_buffer28\"\n",
      "type {\n",
      "  tensor_type {\n",
      "    elem_type: 1\n",
      "  }\n",
      "}\n",
      ", name: \"conv3_block3_2_relu_1/Relu:0\"\n",
      "type {\n",
      "  tensor_type {\n",
      "    elem_type: 1\n",
      "  }\n",
      "}\n",
      ", name: \"convolution_output28\"\n",
      "type {\n",
      "  tensor_type {\n",
      "    elem_type: 1\n",
      "  }\n",
      "}\n",
      ", name: \"conv3_block3_out_1/add:0\"\n",
      "type {\n",
      "  tensor_type {\n",
      "    elem_type: 1\n",
      "  }\n",
      "}\n",
      ", name: \"batch_norm_output_buffer36\"\n",
      "type {\n",
      "  tensor_type {\n",
      "    elem_type: 1\n",
      "  }\n",
      "}\n",
      ", name: \"conv3_block4_preact_relu_1/Relu:0\"\n",
      "type {\n",
      "  tensor_type {\n",
      "    elem_type: 1\n",
      "  }\n",
      "}\n",
      ", name: \"convolution_output38\"\n",
      "type {\n",
      "  tensor_type {\n",
      "    elem_type: 1\n",
      "  }\n",
      "}\n",
      ", name: \"batch_norm_output_buffer33\"\n",
      "type {\n",
      "  tensor_type {\n",
      "    elem_type: 1\n",
      "  }\n",
      "}\n",
      ", name: \"conv3_block4_1_relu_1/Relu:0\"\n",
      "type {\n",
      "  tensor_type {\n",
      "    elem_type: 1\n",
      "  }\n",
      "}\n",
      ", name: \"conv3_block4_1_relu_1/Relu:0_permuted_padded\"\n",
      "type {\n",
      "  tensor_type {\n",
      "    elem_type: 1\n",
      "  }\n",
      "}\n",
      ", name: \"convolution_output31\"\n",
      "type {\n",
      "  tensor_type {\n",
      "    elem_type: 1\n",
      "  }\n",
      "}\n",
      ", name: \"batch_norm_output_buffer24\"\n",
      "type {\n",
      "  tensor_type {\n",
      "    elem_type: 1\n",
      "  }\n",
      "}\n",
      ", name: \"conv3_block4_2_relu_1/Relu:0\"\n",
      "type {\n",
      "  tensor_type {\n",
      "    elem_type: 1\n",
      "  }\n",
      "}\n",
      ", name: \"convolution_output25\"\n",
      "type {\n",
      "  tensor_type {\n",
      "    elem_type: 1\n",
      "  }\n",
      "}\n",
      ", name: \"conv3_block3_out_1/add:0_pooling0\"\n",
      "type {\n",
      "  tensor_type {\n",
      "    elem_type: 1\n",
      "  }\n",
      "}\n",
      ", name: \"conv3_block4_out_1/add:0\"\n",
      "type {\n",
      "  tensor_type {\n",
      "    elem_type: 1\n",
      "  }\n",
      "}\n",
      ", name: \"batch_norm_output_buffer16\"\n",
      "type {\n",
      "  tensor_type {\n",
      "    elem_type: 1\n",
      "  }\n",
      "}\n",
      ", name: \"conv4_block1_preact_relu_1/Relu:0\"\n",
      "type {\n",
      "  tensor_type {\n",
      "    elem_type: 1\n",
      "  }\n",
      "}\n",
      ", name: \"convolution_output32\"\n",
      "type {\n",
      "  tensor_type {\n",
      "    elem_type: 1\n",
      "  }\n",
      "}\n",
      ", name: \"batch_norm_output_buffer25\"\n",
      "type {\n",
      "  tensor_type {\n",
      "    elem_type: 1\n",
      "  }\n",
      "}\n",
      ", name: \"conv4_block1_1_relu_1/Relu:0\"\n",
      "type {\n",
      "  tensor_type {\n",
      "    elem_type: 1\n",
      "  }\n",
      "}\n",
      ", name: \"conv4_block1_1_relu_1/Relu:0_permuted_padded\"\n",
      "type {\n",
      "  tensor_type {\n",
      "    elem_type: 1\n",
      "  }\n",
      "}\n",
      ", name: \"convolution_output23\"\n",
      "type {\n",
      "  tensor_type {\n",
      "    elem_type: 1\n",
      "  }\n",
      "}\n",
      ", name: \"batch_norm_output_buffer17\"\n",
      "type {\n",
      "  tensor_type {\n",
      "    elem_type: 1\n",
      "  }\n",
      "}\n",
      ", name: \"conv4_block1_2_relu_1/Relu:0\"\n",
      "type {\n",
      "  tensor_type {\n",
      "    elem_type: 1\n",
      "  }\n",
      "}\n",
      ", name: \"convolution_output18\"\n",
      "type {\n",
      "  tensor_type {\n",
      "    elem_type: 1\n",
      "  }\n",
      "}\n",
      ", name: \"convolution_output17\"\n",
      "type {\n",
      "  tensor_type {\n",
      "    elem_type: 1\n",
      "  }\n",
      "}\n",
      ", name: \"conv4_block1_out_1/add:0\"\n",
      "type {\n",
      "  tensor_type {\n",
      "    elem_type: 1\n",
      "  }\n",
      "}\n",
      ", name: \"batch_norm_output_buffer29\"\n",
      "type {\n",
      "  tensor_type {\n",
      "    elem_type: 1\n",
      "  }\n",
      "}\n",
      ", name: \"conv4_block2_preact_relu_1/Relu:0\"\n",
      "type {\n",
      "  tensor_type {\n",
      "    elem_type: 1\n",
      "  }\n",
      "}\n",
      ", name: \"convolution_output29\"\n",
      "type {\n",
      "  tensor_type {\n",
      "    elem_type: 1\n",
      "  }\n",
      "}\n",
      ", name: \"batch_norm_output_buffer22\"\n",
      "type {\n",
      "  tensor_type {\n",
      "    elem_type: 1\n",
      "  }\n",
      "}\n",
      ", name: \"conv4_block2_1_relu_1/Relu:0\"\n",
      "type {\n",
      "  tensor_type {\n",
      "    elem_type: 1\n",
      "  }\n",
      "}\n",
      ", name: \"conv4_block2_1_relu_1/Relu:0_permuted_padded\"\n",
      "type {\n",
      "  tensor_type {\n",
      "    elem_type: 1\n",
      "  }\n",
      "}\n",
      ", name: \"convolution_output22\"\n",
      "type {\n",
      "  tensor_type {\n",
      "    elem_type: 1\n",
      "  }\n",
      "}\n",
      ", name: \"batch_norm_output_buffer15\"\n",
      "type {\n",
      "  tensor_type {\n",
      "    elem_type: 1\n",
      "  }\n",
      "}\n",
      ", name: \"conv4_block2_2_relu_1/Relu:0\"\n",
      "type {\n",
      "  tensor_type {\n",
      "    elem_type: 1\n",
      "  }\n",
      "}\n",
      ", name: \"convolution_output15\"\n",
      "type {\n",
      "  tensor_type {\n",
      "    elem_type: 1\n",
      "  }\n",
      "}\n",
      ", name: \"conv4_block2_out_1/add:0\"\n",
      "type {\n",
      "  tensor_type {\n",
      "    elem_type: 1\n",
      "  }\n",
      "}\n",
      ", name: \"batch_norm_output_buffer27\"\n",
      "type {\n",
      "  tensor_type {\n",
      "    elem_type: 1\n",
      "  }\n",
      "}\n",
      ", name: \"conv4_block3_preact_relu_1/Relu:0\"\n",
      "type {\n",
      "  tensor_type {\n",
      "    elem_type: 1\n",
      "  }\n",
      "}\n",
      ", name: \"convolution_output27\"\n",
      "type {\n",
      "  tensor_type {\n",
      "    elem_type: 1\n",
      "  }\n",
      "}\n",
      ", name: \"batch_norm_output_buffer21\"\n",
      "type {\n",
      "  tensor_type {\n",
      "    elem_type: 1\n",
      "  }\n",
      "}\n",
      ", name: \"conv4_block3_1_relu_1/Relu:0\"\n",
      "type {\n",
      "  tensor_type {\n",
      "    elem_type: 1\n",
      "  }\n",
      "}\n",
      ", name: \"conv4_block3_1_relu_1/Relu:0_permuted_padded\"\n",
      "type {\n",
      "  tensor_type {\n",
      "    elem_type: 1\n",
      "  }\n",
      "}\n",
      ", name: \"convolution_output20\"\n",
      "type {\n",
      "  tensor_type {\n",
      "    elem_type: 1\n",
      "  }\n",
      "}\n",
      ", name: \"batch_norm_output_buffer13\"\n",
      "type {\n",
      "  tensor_type {\n",
      "    elem_type: 1\n",
      "  }\n",
      "}\n",
      ", name: \"conv4_block3_2_relu_1/Relu:0\"\n",
      "type {\n",
      "  tensor_type {\n",
      "    elem_type: 1\n",
      "  }\n",
      "}\n",
      ", name: \"convolution_output14\"\n",
      "type {\n",
      "  tensor_type {\n",
      "    elem_type: 1\n",
      "  }\n",
      "}\n",
      ", name: \"conv4_block3_out_1/add:0\"\n",
      "type {\n",
      "  tensor_type {\n",
      "    elem_type: 1\n",
      "  }\n",
      "}\n",
      ", name: \"batch_norm_output_buffer26\"\n",
      "type {\n",
      "  tensor_type {\n",
      "    elem_type: 1\n",
      "  }\n",
      "}\n",
      ", name: \"conv4_block4_preact_relu_1/Relu:0\"\n",
      "type {\n",
      "  tensor_type {\n",
      "    elem_type: 1\n",
      "  }\n",
      "}\n",
      ", name: \"convolution_output26\"\n",
      "type {\n",
      "  tensor_type {\n",
      "    elem_type: 1\n",
      "  }\n",
      "}\n",
      ", name: \"batch_norm_output_buffer19\"\n",
      "type {\n",
      "  tensor_type {\n",
      "    elem_type: 1\n",
      "  }\n",
      "}\n",
      ", name: \"conv4_block4_1_relu_1/Relu:0\"\n",
      "type {\n",
      "  tensor_type {\n",
      "    elem_type: 1\n",
      "  }\n",
      "}\n",
      ", name: \"conv4_block4_1_relu_1/Relu:0_permuted_padded\"\n",
      "type {\n",
      "  tensor_type {\n",
      "    elem_type: 1\n",
      "  }\n",
      "}\n",
      ", name: \"convolution_output19\"\n",
      "type {\n",
      "  tensor_type {\n",
      "    elem_type: 1\n",
      "  }\n",
      "}\n",
      ", name: \"batch_norm_output_buffer12\"\n",
      "type {\n",
      "  tensor_type {\n",
      "    elem_type: 1\n",
      "  }\n",
      "}\n",
      ", name: \"conv4_block4_2_relu_1/Relu:0\"\n",
      "type {\n",
      "  tensor_type {\n",
      "    elem_type: 1\n",
      "  }\n",
      "}\n",
      ", name: \"convolution_output11\"\n",
      "type {\n",
      "  tensor_type {\n",
      "    elem_type: 1\n",
      "  }\n",
      "}\n",
      ", name: \"conv4_block4_out_1/add:0\"\n",
      "type {\n",
      "  tensor_type {\n",
      "    elem_type: 1\n",
      "  }\n",
      "}\n",
      ", name: \"batch_norm_output_buffer23\"\n",
      "type {\n",
      "  tensor_type {\n",
      "    elem_type: 1\n",
      "  }\n",
      "}\n",
      ", name: \"conv4_block5_preact_relu_1/Relu:0\"\n",
      "type {\n",
      "  tensor_type {\n",
      "    elem_type: 1\n",
      "  }\n",
      "}\n",
      ", name: \"convolution_output24\"\n",
      "type {\n",
      "  tensor_type {\n",
      "    elem_type: 1\n",
      "  }\n",
      "}\n",
      ", name: \"batch_norm_output_buffer18\"\n",
      "type {\n",
      "  tensor_type {\n",
      "    elem_type: 1\n",
      "  }\n",
      "}\n",
      ", name: \"conv4_block5_1_relu_1/Relu:0\"\n",
      "type {\n",
      "  tensor_type {\n",
      "    elem_type: 1\n",
      "  }\n",
      "}\n",
      ", name: \"conv4_block5_1_relu_1/Relu:0_permuted_padded\"\n",
      "type {\n",
      "  tensor_type {\n",
      "    elem_type: 1\n",
      "  }\n",
      "}\n",
      ", name: \"convolution_output16\"\n",
      "type {\n",
      "  tensor_type {\n",
      "    elem_type: 1\n",
      "  }\n",
      "}\n",
      ", name: \"batch_norm_output_buffer10\"\n",
      "type {\n",
      "  tensor_type {\n",
      "    elem_type: 1\n",
      "  }\n",
      "}\n",
      ", name: \"conv4_block5_2_relu_1/Relu:0\"\n",
      "type {\n",
      "  tensor_type {\n",
      "    elem_type: 1\n",
      "  }\n",
      "}\n",
      ", name: \"convolution_output9\"\n",
      "type {\n",
      "  tensor_type {\n",
      "    elem_type: 1\n",
      "  }\n",
      "}\n",
      ", name: \"conv4_block5_out_1/add:0\"\n",
      "type {\n",
      "  tensor_type {\n",
      "    elem_type: 1\n",
      "  }\n",
      "}\n",
      ", name: \"batch_norm_output_buffer20\"\n",
      "type {\n",
      "  tensor_type {\n",
      "    elem_type: 1\n",
      "  }\n",
      "}\n",
      ", name: \"conv4_block6_preact_relu_1/Relu:0\"\n",
      "type {\n",
      "  tensor_type {\n",
      "    elem_type: 1\n",
      "  }\n",
      "}\n",
      ", name: \"convolution_output21\"\n",
      "type {\n",
      "  tensor_type {\n",
      "    elem_type: 1\n",
      "  }\n",
      "}\n",
      ", name: \"batch_norm_output_buffer14\"\n",
      "type {\n",
      "  tensor_type {\n",
      "    elem_type: 1\n",
      "  }\n",
      "}\n",
      ", name: \"conv4_block6_1_relu_1/Relu:0\"\n",
      "type {\n",
      "  tensor_type {\n",
      "    elem_type: 1\n",
      "  }\n",
      "}\n",
      ", name: \"conv4_block6_1_relu_1/Relu:0_permuted_padded\"\n",
      "type {\n",
      "  tensor_type {\n",
      "    elem_type: 1\n",
      "  }\n",
      "}\n",
      ", name: \"convolution_output12\"\n",
      "type {\n",
      "  tensor_type {\n",
      "    elem_type: 1\n",
      "  }\n",
      "}\n",
      ", name: \"batch_norm_output_buffer7\"\n",
      "type {\n",
      "  tensor_type {\n",
      "    elem_type: 1\n",
      "  }\n",
      "}\n",
      ", name: \"conv4_block6_2_relu_1/Relu:0\"\n",
      "type {\n",
      "  tensor_type {\n",
      "    elem_type: 1\n",
      "  }\n",
      "}\n",
      ", name: \"convolution_output7\"\n",
      "type {\n",
      "  tensor_type {\n",
      "    elem_type: 1\n",
      "  }\n",
      "}\n",
      ", name: \"conv4_block5_out_1/add:0_pooling0\"\n",
      "type {\n",
      "  tensor_type {\n",
      "    elem_type: 1\n",
      "  }\n",
      "}\n",
      ", name: \"conv4_block6_out_1/add:0\"\n",
      "type {\n",
      "  tensor_type {\n",
      "    elem_type: 1\n",
      "  }\n",
      "}\n",
      ", name: \"batch_norm_output_buffer3\"\n",
      "type {\n",
      "  tensor_type {\n",
      "    elem_type: 1\n",
      "  }\n",
      "}\n",
      ", name: \"conv5_block1_preact_relu_1/Relu:0\"\n",
      "type {\n",
      "  tensor_type {\n",
      "    elem_type: 1\n",
      "  }\n",
      "}\n",
      ", name: \"convolution_output13\"\n",
      "type {\n",
      "  tensor_type {\n",
      "    elem_type: 1\n",
      "  }\n",
      "}\n",
      ", name: \"batch_norm_output_buffer8\"\n",
      "type {\n",
      "  tensor_type {\n",
      "    elem_type: 1\n",
      "  }\n",
      "}\n",
      ", name: \"conv5_block1_1_relu_1/Relu:0\"\n",
      "type {\n",
      "  tensor_type {\n",
      "    elem_type: 1\n",
      "  }\n",
      "}\n",
      ", name: \"conv5_block1_1_relu_1/Relu:0_permuted_padded\"\n",
      "type {\n",
      "  tensor_type {\n",
      "    elem_type: 1\n",
      "  }\n",
      "}\n",
      ", name: \"convolution_output6\"\n",
      "type {\n",
      "  tensor_type {\n",
      "    elem_type: 1\n",
      "  }\n",
      "}\n",
      ", name: \"batch_norm_output_buffer4\"\n",
      "type {\n",
      "  tensor_type {\n",
      "    elem_type: 1\n",
      "  }\n",
      "}\n",
      ", name: \"conv5_block1_2_relu_1/Relu:0\"\n",
      "type {\n",
      "  tensor_type {\n",
      "    elem_type: 1\n",
      "  }\n",
      "}\n",
      ", name: \"convolution_output3\"\n",
      "type {\n",
      "  tensor_type {\n",
      "    elem_type: 1\n",
      "  }\n",
      "}\n",
      ", name: \"convolution_output2\"\n",
      "type {\n",
      "  tensor_type {\n",
      "    elem_type: 1\n",
      "  }\n",
      "}\n",
      ", name: \"conv5_block1_out_1/add:0\"\n",
      "type {\n",
      "  tensor_type {\n",
      "    elem_type: 1\n",
      "  }\n",
      "}\n",
      ", name: \"batch_norm_output_buffer11\"\n",
      "type {\n",
      "  tensor_type {\n",
      "    elem_type: 1\n",
      "  }\n",
      "}\n",
      ", name: \"conv5_block2_preact_relu_1/Relu:0\"\n",
      "type {\n",
      "  tensor_type {\n",
      "    elem_type: 1\n",
      "  }\n",
      "}\n",
      ", name: \"convolution_output10\"\n",
      "type {\n",
      "  tensor_type {\n",
      "    elem_type: 1\n",
      "  }\n",
      "}\n",
      ", name: \"batch_norm_output_buffer6\"\n",
      "type {\n",
      "  tensor_type {\n",
      "    elem_type: 1\n",
      "  }\n",
      "}\n",
      ", name: \"conv5_block2_1_relu_1/Relu:0\"\n",
      "type {\n",
      "  tensor_type {\n",
      "    elem_type: 1\n",
      "  }\n",
      "}\n",
      ", name: \"conv5_block2_1_relu_1/Relu:0_permuted_padded\"\n",
      "type {\n",
      "  tensor_type {\n",
      "    elem_type: 1\n",
      "  }\n",
      "}\n",
      ", name: \"convolution_output5\"\n",
      "type {\n",
      "  tensor_type {\n",
      "    elem_type: 1\n",
      "  }\n",
      "}\n",
      ", name: \"batch_norm_output_buffer2\"\n",
      "type {\n",
      "  tensor_type {\n",
      "    elem_type: 1\n",
      "  }\n",
      "}\n",
      ", name: \"conv5_block2_2_relu_1/Relu:0\"\n",
      "type {\n",
      "  tensor_type {\n",
      "    elem_type: 1\n",
      "  }\n",
      "}\n",
      ", name: \"convolution_output1\"\n",
      "type {\n",
      "  tensor_type {\n",
      "    elem_type: 1\n",
      "  }\n",
      "}\n",
      ", name: \"conv5_block2_out_1/add:0\"\n",
      "type {\n",
      "  tensor_type {\n",
      "    elem_type: 1\n",
      "  }\n",
      "}\n",
      ", name: \"batch_norm_output_buffer9\"\n",
      "type {\n",
      "  tensor_type {\n",
      "    elem_type: 1\n",
      "  }\n",
      "}\n",
      ", name: \"conv5_block3_preact_relu_1/Relu:0\"\n",
      "type {\n",
      "  tensor_type {\n",
      "    elem_type: 1\n",
      "  }\n",
      "}\n",
      ", name: \"convolution_output8\"\n",
      "type {\n",
      "  tensor_type {\n",
      "    elem_type: 1\n",
      "  }\n",
      "}\n",
      ", name: \"batch_norm_output_buffer5\"\n",
      "type {\n",
      "  tensor_type {\n",
      "    elem_type: 1\n",
      "  }\n",
      "}\n",
      ", name: \"conv5_block3_1_relu_1/Relu:0\"\n",
      "type {\n",
      "  tensor_type {\n",
      "    elem_type: 1\n",
      "  }\n",
      "}\n",
      ", name: \"conv5_block3_1_relu_1/Relu:0_permuted_padded\"\n",
      "type {\n",
      "  tensor_type {\n",
      "    elem_type: 1\n",
      "  }\n",
      "}\n",
      ", name: \"convolution_output4\"\n",
      "type {\n",
      "  tensor_type {\n",
      "    elem_type: 1\n",
      "  }\n",
      "}\n",
      ", name: \"batch_norm_output_buffer1\"\n",
      "type {\n",
      "  tensor_type {\n",
      "    elem_type: 1\n",
      "  }\n",
      "}\n",
      ", name: \"conv5_block3_2_relu_1/Relu:0\"\n",
      "type {\n",
      "  tensor_type {\n",
      "    elem_type: 1\n",
      "  }\n",
      "}\n",
      ", name: \"convolution_output\"\n",
      "type {\n",
      "  tensor_type {\n",
      "    elem_type: 1\n",
      "  }\n",
      "}\n",
      ", name: \"conv5_block3_out_1/add:0\"\n",
      "type {\n",
      "  tensor_type {\n",
      "    elem_type: 1\n",
      "  }\n",
      "}\n",
      ", name: \"batch_norm_output_buffer\"\n",
      "type {\n",
      "  tensor_type {\n",
      "    elem_type: 1\n",
      "  }\n",
      "}\n",
      ", name: \"post_relu_1/Relu:0\"\n",
      "type {\n",
      "  tensor_type {\n",
      "    elem_type: 1\n",
      "  }\n",
      "}\n",
      ", name: \"post_relu_1/Relu:0_pooling0\"\n",
      "type {\n",
      "  tensor_type {\n",
      "    elem_type: 1\n",
      "  }\n",
      "}\n",
      ", name: \"post_relu_1/Relu:0_transpose0\"\n",
      "type {\n",
      "  tensor_type {\n",
      "    elem_type: 1\n",
      "  }\n",
      "}\n",
      ", name: \"post_relu_1/Relu:0_reshape0\"\n",
      "type {\n",
      "  tensor_type {\n",
      "    elem_type: 1\n",
      "    shape {\n",
      "      dim {\n",
      "      }\n",
      "      dim {\n",
      "      }\n",
      "    }\n",
      "  }\n",
      "}\n",
      ", name: \"transformed_tensor\"\n",
      "type {\n",
      "  tensor_type {\n",
      "    elem_type: 1\n",
      "  }\n",
      "}\n",
      ", name: \"biased_tensor_name\"\n",
      "type {\n",
      "  tensor_type {\n",
      "    elem_type: 1\n",
      "  }\n",
      "}\n",
      ", name: \"probs_1/Softmax:01\"\n",
      "type {\n",
      "  tensor_type {\n",
      "    elem_type: 1\n",
      "  }\n",
      "}\n",
      "]\n"
     ]
    },
    {
     "ename": "AttributeError",
     "evalue": "module 'onnx' has no attribute 'utils'",
     "output_type": "error",
     "traceback": [
      "\u001b[0;31m---------------------------------------------------------------------------\u001b[0m",
      "\u001b[0;31mAttributeError\u001b[0m                            Traceback (most recent call last)",
      "\u001b[0;32m<ipython-input-46-29f2927f5516>\u001b[0m in \u001b[0;36m<module>\u001b[0;34m\u001b[0m\n\u001b[1;32m     11\u001b[0m \u001b[0;31m# Function polish_model runs model checker, optimizer, shape inference engine on the model,\u001b[0m\u001b[0;34m\u001b[0m\u001b[0;34m\u001b[0m\u001b[0;34m\u001b[0m\u001b[0m\n\u001b[1;32m     12\u001b[0m \u001b[0;31m# and also strips the doc_string for you.\u001b[0m\u001b[0;34m\u001b[0m\u001b[0;34m\u001b[0m\u001b[0;34m\u001b[0m\u001b[0m\n\u001b[0;32m---> 13\u001b[0;31m \u001b[0mpolished_model\u001b[0m \u001b[0;34m=\u001b[0m \u001b[0monnx\u001b[0m\u001b[0;34m.\u001b[0m\u001b[0mutils\u001b[0m\u001b[0;34m.\u001b[0m\u001b[0mpolish_model\u001b[0m\u001b[0;34m(\u001b[0m\u001b[0mmodel\u001b[0m\u001b[0;34m)\u001b[0m\u001b[0;34m\u001b[0m\u001b[0;34m\u001b[0m\u001b[0m\n\u001b[0m",
      "\u001b[0;31mAttributeError\u001b[0m: module 'onnx' has no attribute 'utils'"
     ]
    }
   ],
   "source": [
    "from onnx import helper, shape_inference\n",
    "\n",
    "\n",
    "# Apply shape inference on the model\n",
    "inferred_model = shape_inference.infer_shapes(onnx_model)\n",
    "\n",
    "# Check the model and print Y's shape information\n",
    "onnx.checker.check_model(inferred_model)\n",
    "print('After shape inference, the shape info of Y is:\\n{}'.format(inferred_model.graph.value_info))\n",
    "\n",
    "# Function polish_model runs model checker, optimizer, shape inference engine on the model,\n",
    "# and also strips the doc_string for you.\n",
    "polished_model = onnx.utils.polish_model(model)"
   ]
  },
  {
   "cell_type": "markdown",
   "metadata": {},
   "source": [
    "## ONNX Runtime Server\n",
    "*Public Preview*\n",
    "\n",
    "**Ubuntu 16.04**\n",
    "\n",
    "1. Build the docker image from the Dockerfile in this repository\n",
    "  ```bash\n",
    "  docker build -t {docker_image_name} -f Dockerfile.server .\n",
    "  ```\n",
    "\n",
    "2. Run the ONNXRuntime server with the image created in step 1\n",
    "\n",
    "  ```bash\n",
    "  docker run -v {localModelAbsoluteFolder}:{dockerModelAbsoluteFolder} -p {your_local_port}:8001 {imageName} --model_path {dockerModelAbsolutePath}\n",
    "  ```\n",
    "3. Send HTTP requests to the container running ONNX Runtime Server\n",
    "\n",
    "  Send HTTP requests to the docker container through the binding local port. Here is the full [usage document](https://github.com/Microsoft/onnxruntime/blob/master/docs/ONNX_Runtime_Server_Usage.md).\n",
    "  ```bash\n",
    "  curl  -X POST -d \"@request.json\" -H \"Content-Type: application/json\" http://0.0.0.0:{your_local_port}/v1/models/mymodel/versions/3:predict  \n",
    "  ```"
   ]
  },
  {
   "cell_type": "code",
   "execution_count": 47,
   "metadata": {
    "ExecuteTime": {
     "end_time": "2020-04-28T05:50:05.763579Z",
     "start_time": "2020-04-28T05:50:05.758514Z"
    }
   },
   "outputs": [],
   "source": [
    "os.environ['ONNX_MODEL_DIR'] = ONNX_MODEL_DIR = os.path.dirname(\n",
    "    os.environ['ONNX_MODEL_PATH']\n",
    ")"
   ]
  },
  {
   "cell_type": "code",
   "execution_count": null,
   "metadata": {
    "ExecuteTime": {
     "end_time": "2020-04-28T05:52:20.329343Z",
     "start_time": "2020-04-28T05:50:05.930Z"
    },
    "scrolled": true
   },
   "outputs": [],
   "source": [
    "os.environ['ONNX_MODEL_PATH'] = f'{MODEL_PATH}/onnx_model'"
   ]
  },
  {
   "cell_type": "raw",
   "metadata": {},
   "source": [
    "!gcloud init\n",
    "!gsutil -m cp -r $ONNX_MODEL_DIR gs://yjkim-outputs/onnx/converted/tfkeras/resnet50/"
   ]
  },
  {
   "cell_type": "code",
   "execution_count": 560,
   "metadata": {
    "ExecuteTime": {
     "end_time": "2020-04-25T18:17:26.174278Z",
     "start_time": "2020-04-25T18:17:06.320884Z"
    }
   },
   "outputs": [
    {
     "name": "stdout",
     "output_type": "stream",
     "text": [
      "Copying file:///workspace/trained_models/resnet50/onnx_model/from_frozen_with_keras2onnx.onnx [Content-Type=application/octet-stream]...\n",
      "| [1/1 files][ 97.8 MiB/ 97.8 MiB] 100% Done   7.1 MiB/s ETA 00:00:00           \n",
      "Operation completed over 1 objects/97.8 MiB.                                     \n"
     ]
    }
   ],
   "source": [
    "!gsutil -m cp -r $ONNX_MODEL_DIR gs://yjkim-outputs/onnx/converted/tfkeras/resnet50/"
   ]
  },
  {
   "cell_type": "markdown",
   "metadata": {},
   "source": [
    "```bash\n",
    "docker run \\\n",
    "    -v \"{localModelAbsoluteFolder}:{dockerModelAbsoluteFolder}\" \\\n",
    "    -p \"{your_local_port}:8001\" \\\n",
    "    \"{imageName}\" \\\n",
    "        --model_path \"{dockerModelAbsolutePath}\"\n",
    "```\n",
    "\n",
    "```bash\n",
    "docker run \\\n",
    "    -v \"/mnt/hdc1/data/git/ai-ml-ops/docker/onnx-containers/onnx-tensorflow/onnxruntime_server:/onnxruntime/model\" \\\n",
    "    -p 8001:8001 \\\n",
    "    \"mcr.microsoft.com/onnxruntime/server\" \\\n",
    "        --model_path \"/onnxruntime/model/from_frozen_with_keras2onnx.onnx\"\n",
    "```\n",
    "or\n",
    "\n",
    "```bash\n",
    "docker run \\\n",
    "    -it \\\n",
    "    -v \"/mnt/hdc1/data/git/ai-ml-ops/docker/onnx-containers/onnx-tensorflow/onnxruntime_server:/onnxruntime/model\" \\\n",
    "    -p 9001:8001 \\\n",
    "    -p 50051:50051 \\\n",
    "    --name \"ort\" \\\n",
    "    \"mcr.microsoft.com/onnxruntime/server\" \\\n",
    "        --model_path=\"/onnxruntime/model/from_frozen_with_keras2onnx.onnx\"\n",
    "```\n",
    "\n",
    "* `8001: HTTP`\n",
    "* `50051: gRPC`"
   ]
  },
  {
   "cell_type": "markdown",
   "metadata": {},
   "source": [
    "or"
   ]
  },
  {
   "cell_type": "markdown",
   "metadata": {},
   "source": [
    "## HTTP Endpoint\n",
    "\n",
    "The prediction URL for HTTP endpoint is in this format:\n",
    "\n",
    "```url\n",
    "http://<your_ip_address>:<port>/v1/models/<your-model-name>/versions/<your-version>:predict\n",
    "```\n",
    "\n",
    "**Note**: Since we currently only support one model, the model name and version can be any string length > 0. In the future, model_names and versions will be verified.\n",
    "\n",
    "### Request and Response Payload\n",
    "\n",
    "The request and response need to be a protobuf message. The Protobuf definition can be found [here](../onnxruntime/server/protobuf/predict.proto).\n",
    "\n",
    "A protobuf message could have two formats: binary and JSON. Usually the binary payload has better latency, in the meanwhile the JSON format is easy for human readability. \n",
    "\n",
    "The HTTP request header field `Content-Type` tells the server how to handle the request and thus it is mandatory for all requests. Requests missing `Content-Type` will be rejected as `400 Bad Request`.\n",
    "\n",
    "* For `\"Content-Type: application/json\"`, the payload will be deserialized as JSON string in UTF-8 format\n",
    "* For `\"Content-Type: application/vnd.google.protobuf\"`, `\"Content-Type: application/x-protobuf\"` or `\"Content-Type: application/octet-stream\"`, the payload will be consumed as protobuf message directly.\n",
    "\n",
    "Clients can control the response type by setting the request with an `Accept` header field and the server will serialize in your desired format. The choices currently available are the same as the `Content-Type` header field. If this field is not set in the request, the server will use the same type as your request.\n",
    "\n",
    "### Inferencing\n",
    "\n",
    "To send a request to the server, you can use any tool which supports making HTTP requests. Here is an example using `curl`:\n",
    "\n",
    "```bash\n",
    "curl -X POST -d \"@predict_request_0.json\" -H \"Content-Type: application/json\" http://127.0.0.1:8001/v1/models/mymodel/versions/3:predict\n",
    "```\n",
    "\n",
    "or\n",
    "\n",
    "```bash\n",
    "curl -X POST --data-binary \"@predict_request_0.pb\" -H \"Content-Type: application/octet-stream\" -H \"Foo: 1234\"  http://127.0.0.1:8001/v1/models/mymodel/versions/3:predict\n",
    "```"
   ]
  },
  {
   "cell_type": "markdown",
   "metadata": {},
   "source": [
    "* HTTP Endpoint\n",
    "\n",
    "```url\n",
    "http://<your_ip_address>:<port>/v1/models/<your-model-name>/versions/<your-version>:predict\n",
    "```"
   ]
  },
  {
   "cell_type": "code",
   "execution_count": 48,
   "metadata": {
    "ExecuteTime": {
     "end_time": "2020-04-28T05:52:22.081501Z",
     "start_time": "2020-04-28T05:52:21.964228Z"
    }
   },
   "outputs": [],
   "source": [
    "import requests\n",
    "from assets import onnx_ml_pb2\n",
    "from assets import predict_pb2\n",
    "\n",
    "import google.protobuf.json_format as json_format\n",
    "from google.protobuf.json_format import MessageToJson"
   ]
  },
  {
   "cell_type": "raw",
   "metadata": {},
   "source": [
    "%%bash\n",
    "echo \"model name: $MODEL_NAME\"\n",
    "echo \"service url: $SERVICE_HOSTNAME\"\n",
    "echo \"cluster ip: $CLUSTER_IP\"\n",
    "\n",
    "# model name: style-sample\n",
    "# service url: style-sample.default.example.com\n",
    "# cluster ip: 52.247.193.219"
   ]
  },
  {
   "cell_type": "markdown",
   "metadata": {},
   "source": [
    "* HTTP Endpoint\n",
    "\n",
    "```url\n",
    "http://<your_ip_address>:<port>/v1/models/<your-model-name>/versions/<your-version>:predict\n",
    "```"
   ]
  },
  {
   "cell_type": "code",
   "execution_count": 49,
   "metadata": {
    "ExecuteTime": {
     "end_time": "2020-04-28T05:52:22.196539Z",
     "start_time": "2020-04-28T05:52:22.083472Z"
    }
   },
   "outputs": [],
   "source": [
    "data_prep_fixed_size_gen = ReusableGenerator(get_prep_image(f, target_size=(224, 224)) for f in data_paths)\n",
    "data_prep_for_onnx_gen = ReusableGenerator(np.expand_dims(l, axis=0) for l in data_prep_fixed_size_gen)"
   ]
  },
  {
   "cell_type": "code",
   "execution_count": 50,
   "metadata": {
    "ExecuteTime": {
     "end_time": "2020-04-28T05:52:22.312579Z",
     "start_time": "2020-04-28T05:52:22.199416Z"
    }
   },
   "outputs": [
    {
     "name": "stdout",
     "output_type": "stream",
     "text": [
      "['input_2']\n",
      "['probs']\n"
     ]
    }
   ],
   "source": [
    "print(onnx_infe_model.onnx_inputs)\n",
    "print(onnx_infe_model.onnx_outputs)"
   ]
  },
  {
   "cell_type": "code",
   "execution_count": 51,
   "metadata": {
    "ExecuteTime": {
     "end_time": "2020-04-28T05:52:44.794412Z",
     "start_time": "2020-04-28T05:52:44.789352Z"
    }
   },
   "outputs": [],
   "source": [
    "# Create request message to be sent to the predictor\n",
    "def request_prediction(img):\n",
    "    # img = np.transpose(img, [2, 0, 1])\n",
    "    img = np.expand_dims(img, axis=0)\n",
    "    \n",
    "    input_tensor = onnx_ml_pb2.TensorProto()\n",
    "    input_tensor.dims.extend(img.shape)\n",
    "    input_tensor.data_type = 1\n",
    "    input_tensor.raw_data = img.tobytes()\n",
    "    \n",
    "    request_message = predict_pb2.PredictRequest()\n",
    "    request_message.inputs[\"input_11\"].data_type = input_tensor.data_type\n",
    "    request_message.inputs[\"input_11\"].dims.extend(input_tensor.dims)\n",
    "    request_message.inputs[\"input_11\"].raw_data = input_tensor.raw_data\n",
    "    \n",
    "    # write message data to JSON\n",
    "    return json_format.MessageToJson(request_message)"
   ]
  },
  {
   "cell_type": "code",
   "execution_count": 52,
   "metadata": {
    "ExecuteTime": {
     "end_time": "2020-04-28T05:52:45.223153Z",
     "start_time": "2020-04-28T05:52:44.795560Z"
    },
    "scrolled": false
   },
   "outputs": [
    {
     "name": "stderr",
     "output_type": "stream",
     "text": [
      "Clipping input data to the valid range for imshow with RGB data ([0..1] for floats or [0..255] for integers).\n"
     ]
    },
    {
     "name": "stdout",
     "output_type": "stream",
     "text": [
      "(224, 224, 3)\n"
     ]
    },
    {
     "data": {
      "text/plain": [
       "<matplotlib.image.AxesImage at 0x7fa8eb8cb810>"
      ]
     },
     "execution_count": 52,
     "metadata": {},
     "output_type": "execute_result"
    },
    {
     "data": {
      "image/png": "[encoded data removed]",
      "text/plain": [
       "<Figure size 432x288 with 1 Axes>"
      ]
     },
     "metadata": {
      "needs_background": "light"
     },
     "output_type": "display_data"
    }
   ],
   "source": [
    "import matplotlib.pyplot as plt\n",
    "\n",
    "aa = next(data_prep_fixed_size_gen)\n",
    "#request_msg = request_prediction(aa)\n",
    "\n",
    "bb = next(data_prep_for_onnx_gen)\n",
    "#request_msg = request_prediction(bb)\n",
    "\n",
    "cc = aa[0]\n",
    "print(cc.shape)\n",
    "plt.imshow(cc)"
   ]
  },
  {
   "cell_type": "code",
   "execution_count": null,
   "metadata": {
    "ExecuteTime": {
     "end_time": "2020-04-28T06:09:41.375607Z",
     "start_time": "2020-04-28T06:08:41.827Z"
    },
    "scrolled": false
   },
   "outputs": [],
   "source": [
    "predictor_url = 'http://172.17.0.2:8001/v1/models/default/versions/1:predict'\n",
    "\n",
    "result = []\n",
    "for i, _ in enumerate(data_prep_fixed_size_gen):\n",
    "\n",
    "    img = _[0]\n",
    "    request_msg = request_prediction(img)\n",
    "\n",
    "\n",
    "    # Call predictor\n",
    "    request_headers = {\n",
    "        'Content-Type': 'application/json',\n",
    "        'Accept': 'application/json',\n",
    "        'Host': '7d5af6497531',\n",
    "    }\n",
    "    response = requests.post(\n",
    "        predictor_url,\n",
    "        headers=request_headers,\n",
    "        data=request_msg,\n",
    "    )\n",
    "    response_parsed = json_format.Parse(response.text, predict_pb2.PredictResponse())\n",
    "    response_pred = np.frombuffer(response_parsed.outputs['probs'].raw_data, dtype=np.float32)\n",
    "    response_data = decode_predictions(np.expand_dims(response_pred, axis=0))\n",
    "    result += [response_data]\n",
    "    \n",
    "    if i > 20:\n",
    "        break\n",
    "    \n",
    "\n",
    "result[-3:]"
   ]
  },
  {
   "cell_type": "code",
   "execution_count": 56,
   "metadata": {
    "ExecuteTime": {
     "end_time": "2020-04-27T06:02:21.144841Z",
     "start_time": "2020-04-27T05:56:02.274248Z"
    },
    "scrolled": false
   },
   "outputs": [
    {
     "data": {
      "text/plain": [
       "[[[('n02437616', 'llama', 0.43487042),\n",
       "   ('n01873310', 'platypus', 0.19912325),\n",
       "   ('n02417914', 'ibex', 0.18232298),\n",
       "   ('n02326432', 'hare', 0.027106429),\n",
       "   ('n01877812', 'wallaby', 0.018452052)]],\n",
       " [[('n02389026', 'sorrel', 0.3951849),\n",
       "   ('n02417914', 'ibex', 0.24218436),\n",
       "   ('n02422106', 'hartebeest', 0.20695913),\n",
       "   ('n02437312', 'Arabian_camel', 0.035300612),\n",
       "   ('n02423022', 'gazelle', 0.02782558)]],\n",
       " [[('n02391049', 'zebra', 0.84348476),\n",
       "   ('n02389026', 'sorrel', 0.089343),\n",
       "   ('n02116738', 'African_hunting_dog', 0.005276417),\n",
       "   ('n02091244', 'Ibizan_hound', 0.0048087407),\n",
       "   ('n02509815', 'lesser_panda', 0.0024506175)]]]"
      ]
     },
     "execution_count": 56,
     "metadata": {},
     "output_type": "execute_result"
    }
   ],
   "source": [
    "predictor_url = 'http://172.17.0.2:8001/v1/models/default/versions/1:predict'\n",
    "\n",
    "result = []\n",
    "for _ in data_prep_fixed_size_gen:\n",
    "    \n",
    "    img = _[0]\n",
    "    request_msg = request_prediction(img)\n",
    "    \n",
    "\n",
    "    # Call predictor\n",
    "    request_headers = {\n",
    "        'Content-Type': 'application/json',\n",
    "        'Accept': 'application/json',\n",
    "        'Host': '7d5af6497531',\n",
    "    }\n",
    "    response = requests.post(\n",
    "        predictor_url,\n",
    "        headers=request_headers,\n",
    "        data=request_msg,\n",
    "    )\n",
    "    response_parsed = json_format.Parse(response.text, predict_pb2.PredictResponse())\n",
    "    response_pred = np.frombuffer(response_parsed.outputs['probs'].raw_data, dtype=np.float32)\n",
    "    response_data = decode_predictions(np.expand_dims(response_pred, axis=0))\n",
    "    result += [response_data]\n",
    "\n",
    "result[-3:]"
   ]
  },
  {
   "cell_type": "markdown",
   "metadata": {},
   "source": [
    "```sh\n",
    "CONTAINER ID        NAME                CPU %               MEM USAGE / LIMIT     MEM %               NET I/O             BLOCK I/O           PIDS\n",
    "bdf1a647146f        admiring_wu         13.73%              28.91GiB / 62.85GiB   46.00%              6.95GB / 6.25GB     1.44GB / 16.5GB     231\n",
    "b0b1b76efd26        suspicious_shtern   259.17%             210.5MiB / 62.85GiB   0.33%               5.34GB / 62.1MB     4.1kB / 0B          19\n",
    "```"
   ]
  },
  {
   "cell_type": "markdown",
   "metadata": {},
   "source": [
    "##### Build ONNXRuntime Server (`onnxruntime_server`)\n",
    "\n",
    "```bash\n",
    "git clone \\\n",
    "    -b rel-1.1.1 \\\n",
    "    --single-branch \\\n",
    "    https://github.com/microsoft/onnxruntime $WORKDIR/onnxruntime-git && \\\n",
    "cd $WORKDIR/onnxruntime-git && \\\n",
    "python ./tools/ci_build/build.py \\\n",
    "    --build_dir ./build \\\n",
    "    --config Release \\\n",
    "    --parallel \\\n",
    "    --cmake_extra_defines ONNXRUNTIME_VERSION=$(cat ./VERSION_NUMBER) && \\\n",
    "cd /\"\n",
    "```"
   ]
  },
  {
   "cell_type": "markdown",
   "metadata": {},
   "source": [
    "---\n",
    "\n",
    "# Further Readings"
   ]
  },
  {
   "cell_type": "markdown",
   "metadata": {},
   "source": [
    "---\n",
    "From: [ONNX_Runtime_Server_Usage](https://raw.githubusercontent.com/microsoft/onnxruntime/master/docs/ONNX_Runtime_Server_Usage.md)\n",
    "\n",
    "---\n",
    "## How to Use ONNX Runtime Server for Prediction\n",
    "ONNX Runtime Server provides an easy way to start an inferencing server for prediction with both HTTP and GRPC endpoints.\n",
    "\n",
    "### Build the Server\n",
    "\n",
    "The CLI command to build the server is\n",
    "\n",
    "Default CPU:\n",
    "\n",
    "```bash\n",
    "python3 /onnxruntime/tools/ci_build/build.py --build_dir /onnxruntime/build --config Release --build_server -parallel --cmake_extra_defines ONNXRUNTIME_VERSION=$(cat ./VERSION_NUMBER\n",
    "```\n",
    "\n",
    "### Start the Server\n",
    "\n",
    "The CLI command to start the server is shown below:\n",
    "\n",
    "```bash\n",
    "$ ./onnxruntime_server\n",
    "Version: <Build number>\n",
    "Commit ID: <The latest commit ID>\n",
    "\n",
    "the option '--model_path' is required but missing\n",
    "Allowed options:\n",
    "  -h [ --help ]                Shows a help message and exits\n",
    "  --log_level arg (=info)      Logging level. Allowed options (case sensitive):\n",
    "                               verbose, info, warning, error, fatal\n",
    "  --model_path arg             Path to ONNX model\n",
    "  --address arg (=0.0.0.0)     The base HTTP address\n",
    "  --http_port arg (=8001)      HTTP port to listen to requests\n",
    "  --num_http_threads arg (=<# of your cpu cores>) Number of http threads\n",
    "  --grpc_port arg (=50051)     GRPC port to listen to requests\n",
    "```\n",
    "\n",
    "**Note**: The only mandatory argument for the program here is `model_path`\n",
    "\n",
    "\n",
    "* To host an ONNX model as an inferencing server, simply run:\n",
    "\n",
    "```bash\n",
    "./onnxruntime_server --model_path /<your>/<model>/<path>\n",
    "```\n",
    "\n",
    "### Endpoint\n",
    "\n",
    "#### HTTP Endpoint\n",
    "\n",
    "The prediction URL for HTTP endpoint is in this format:\n",
    "\n",
    "```url\n",
    "http://<your_ip_address>:<port>/v1/models/<your-model-name>/versions/<your-version>:predict\n",
    "```\n",
    "\n",
    "#### GRPC Endpoint\n",
    "\n",
    "If you prefer using the GRPC endpoint, the protobuf could be found [here](../onnxruntime/server/protobuf/prediction_service.proto). You could generate your client and make a GRPC call to it. To learn more about how to generate the client code and call to the server, please refer to [the tutorials of GRPC](https://grpc.io/docs/tutorials/).\n",
    "\n",
    "\n",
    "**Note**: Since we currently only support one model, the model name and version can be any string length > 0. In the future, model_names and versions will be verified.\n",
    "\n",
    "### Request and Response Payload\n",
    "\n",
    "The request and response need to be a protobuf message. The Protobuf definition can be found [here](../onnxruntime/server/protobuf/predict.proto).\n",
    "\n",
    "A protobuf message could have two formats: binary and JSON. Usually the binary payload has better latency, in the meanwhile the JSON format is easy for human readability. \n",
    "\n",
    "The HTTP request header field `Content-Type` tells the server how to handle the request and thus it is mandatory for all requests. Requests missing `Content-Type` will be rejected as `400 Bad Request`.\n",
    "\n",
    "* For `\"Content-Type: application/json\"`, the payload will be deserialized as JSON string in UTF-8 format\n",
    "* For `\"Content-Type: application/vnd.google.protobuf\"`, `\"Content-Type: application/x-protobuf\"` or `\"Content-Type: application/octet-stream\"`, the payload will be consumed as protobuf message directly.\n",
    "\n",
    "Clients can control the response type by setting the request with an `Accept` header field and the server will serialize in your desired format. The choices currently available are the same as the `Content-Type` header field. If this field is not set in the request, the server will use the same type as your request.\n",
    "\n",
    "### Inferencing\n",
    "\n",
    "To send a request to the server, you can use any tool which supports making HTTP requests. Here is an example using `curl`:\n",
    "\n",
    "```bash\n",
    "curl -X POST -d \"@predict_request_0.json\" -H \"Content-Type: application/json\" http://127.0.0.1:8001/v1/models/mymodel/versions/3:predict\n",
    "```\n",
    "\n",
    "or\n",
    "\n",
    "```bash\n",
    "curl -X POST --data-binary \"@predict_request_0.pb\" -H \"Content-Type: application/octet-stream\" -H \"Foo: 1234\"  http://127.0.0.1:8001/v1/models/mymodel/versions/3:predict\n",
    "```\n",
    "\n",
    "### Interactive tutorial notebook\n",
    "\n",
    "A simple Jupyter notebook demonstrating the usage of ONNX Runtime server to host an ONNX model and perform inferencing can be found [here](https://github.com/onnx/tutorials/blob/master/tutorials/OnnxRuntimeServerSSDModel.ipynb).\n"
   ]
  },
  {
   "cell_type": "markdown",
   "metadata": {},
   "source": [
    "[Other Tutorials](https://github.com/onnx/tutorials/tree/master/tutorials)"
   ]
  }
 ],
 "metadata": {
  "kernelspec": {
   "display_name": "onnx-py37-tf1-15",
   "language": "python",
   "name": "onnx-tf1-15"
  },
  "language_info": {
   "codemirror_mode": {
    "name": "ipython",
    "version": 3
   },
   "file_extension": ".py",
   "mimetype": "text/x-python",
   "name": "python",
   "nbconvert_exporter": "python",
   "pygments_lexer": "ipython3",
   "version": "3.7.7"
  },
  "toc": {
   "base_numbering": 1,
   "nav_menu": {},
   "number_sections": true,
   "sideBar": true,
   "skip_h1_title": false,
   "title_cell": "Table of Contents",
   "title_sidebar": "Contents",
   "toc_cell": false,
   "toc_position": {
    "height": "calc(100% - 180px)",
    "left": "10px",
    "top": "150px",
    "width": "255.016px"
   },
   "toc_section_display": true,
   "toc_window_display": true
  },
  "varInspector": {
   "cols": {
    "lenName": 16,
    "lenType": 16,
    "lenVar": 40
   },
   "kernels_config": {
    "python": {
     "delete_cmd_postfix": "",
     "delete_cmd_prefix": "del ",
     "library": "var_list.py",
     "varRefreshCmd": "print(var_dic_list())"
    },
    "r": {
     "delete_cmd_postfix": ") ",
     "delete_cmd_prefix": "rm(",
     "library": "var_list.r",
     "varRefreshCmd": "cat(var_dic_list()) "
    }
   },
   "types_to_exclude": [
    "module",
    "function",
    "builtin_function_or_method",
    "instance",
    "_Feature"
   ],
   "window_display": false
  }
 },
 "nbformat": 4,
 "nbformat_minor": 2
}
