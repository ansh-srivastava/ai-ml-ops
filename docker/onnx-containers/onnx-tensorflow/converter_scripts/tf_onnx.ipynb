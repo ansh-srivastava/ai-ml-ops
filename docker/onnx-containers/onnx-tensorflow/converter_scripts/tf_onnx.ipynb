{
 "cells": [
  {
   "cell_type": "code",
   "execution_count": null,
   "metadata": {},
   "outputs": [],
   "source": [
    "# Tensorflow to ONNX conversion is supported through the tf2onnx converter.\n",
    "import onnxmltools\n",
    "import tensorflow as tf\n",
    "import tf2onnx"
   ]
  },
  {
   "cell_type": "markdown",
   "metadata": {},
   "source": [
    "To convert a TensorFlow model, tf2onnx prefers a frozen TensorFlow graph with specified inputs and outputs for the graph, alongside a source checkpoint file. More details on usage can be found in the [tf2onnx](https://github.com/onnx/tensorflow-onnx#usage) repository.\n",
    "\n",
    "```\n",
    "python3 -m tf2onnx.convert \n",
    "    --input SOURCE_GRAPHDEF_PB\n",
    "    --graphdef SOURCE_GRAPHDEF_PB\n",
    "    --checkpoint SOURCE_CHECKPOINT\n",
    "    --saved-model SOURCE_SAVED_MODEL\n",
    "    [--inputs GRAPH_INPUTS]\n",
    "    [--outputs GRAPH_OUTPUS]\n",
    "    [--inputs-as-nchw inputs_provided_as_nchw]\n",
    "    [--target TARGET]\n",
    "    [--output TARGET_ONNX_GRAPH]\n",
    "    [--target TARGET]\n",
    "    [--continue_on_error]\n",
    "    [--verbose]\n",
    "    [--custom-ops list-of-custom-ops]\n",
    "    [--opset OPSET]\n",
    "    [--fold_const]\n",
    "```"
   ]
  },
  {
   "cell_type": "code",
   "execution_count": null,
   "metadata": {},
   "outputs": [],
   "source": [
    "# savedmodel is the name of the directory from your tf.saved_model output\n",
    "# model.onnx is the name of your desired output model\n",
    "\n",
    "!python3 -m tf2onnx.convert \\\n",
    "        --saved-model savedmodel \\\n",
    "        --output model.onnx \\\n",
    "        --target rs6 \\\n",
    "        --fold_const \\\n",
    "        --verbose"
   ]
  },
  {
   "cell_type": "code",
   "execution_count": null,
   "metadata": {},
   "outputs": [],
   "source": [
    "# model.pb is the name of your checkpoint\n",
    "# graph_inputs are the names of your input nodes\n",
    "# graph_outputs are the names of your output nodes \n",
    "# model.onnx is the name of your desired output model\n",
    "\n",
    "# If you know your graph input / output node names, then you can use the freeze_graph method instead\n",
    "# input and output node names can be discovered through Netron, tensorboard, or the TF summarize_graph tool\n",
    "\n",
    "!python3 -m tf2onnx.convert \\\n",
    "        --input model.pb \\\n",
    "        --inputs GRAPH_INPUTS \\\n",
    "        --outputs GRAPH_OUTPUTS \\\n",
    "        --output model.onnx \\\n",
    "        --fold_const \\\n",
    "        --verbose"
   ]
  },
  {
   "cell_type": "markdown",
   "metadata": {},
   "source": [
    "Alternatively, you could use a model from an active Tensorflow session in Python, freeze the graph, and then convert it, as demonstrated below."
   ]
  },
  {
   "cell_type": "code",
   "execution_count": null,
   "metadata": {},
   "outputs": [],
   "source": [
    "# Replace this with your desired input TF model name\n",
    "input_model_name = \"tf_model\"\n",
    "\n",
    "# Replace this with your desired output ONNX model name\n",
    "output_onnx_model = \"model.onnx\""
   ]
  },
  {
   "cell_type": "code",
   "execution_count": null,
   "metadata": {},
   "outputs": [],
   "source": [
    "with tf.Session() as sess:\n",
    "    # Note: this is a simple example Tensorflow model\n",
    "    x = tf.placeholder(tf.float32, [2, 3], name=\"input\")\n",
    "    x_ = tf.add(x, x)\n",
    "    _ = tf.identity(x_, name=\"output\")\n",
    "    onnx_graph = tf2onnx.tfonnx.process_tf_graph(sess.graph, input_names=[\"input:0\"], output_names=[\"output:0\"])\n",
    "    onnx_model = onnx_graph.make_model(input_model_name)"
   ]
  },
  {
   "cell_type": "code",
   "execution_count": null,
   "metadata": {},
   "outputs": [],
   "source": [
    "# Save as protobuf\n",
    "\n",
    "onnxmltools.utils.save_model(onnx_model, output_onnx_model)"
   ]
  }
 ],
 "metadata": {
  "kernelspec": {
   "display_name": "Python 3",
   "language": "python",
   "name": "python3"
  },
  "language_info": {
   "codemirror_mode": {
    "name": "ipython",
    "version": 3
   },
   "file_extension": ".py",
   "mimetype": "text/x-python",
   "name": "python",
   "nbconvert_exporter": "python",
   "pygments_lexer": "ipython3",
   "version": "3.5.2"
  }
 },
 "nbformat": 4,
 "nbformat_minor": 2
}
