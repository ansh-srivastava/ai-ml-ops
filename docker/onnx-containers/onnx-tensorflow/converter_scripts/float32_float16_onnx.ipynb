{
 "cells": [
  {
   "cell_type": "code",
   "execution_count": null,
   "metadata": {},
   "outputs": [],
   "source": [
    "import onnxmltools\n",
    "\n",
    "# The float16converter tool converts the float32 tensor type to the float16 tensor type \n",
    "# for an input ONNX model. This is especially useful for quantization support.\n",
    "\n",
    "from onnxmltools.utils.float16_converter import convert_float_to_float16"
   ]
  },
  {
   "cell_type": "code",
   "execution_count": null,
   "metadata": {},
   "outputs": [],
   "source": [
    "# Update the input name and path for your ONNX model\n",
    "input_onnx_model = 'model.onnx'\n",
    "\n",
    "# Change this path to the output name and path for your float16 ONNX model\n",
    "output_onnx_model = 'model_f16.onnx'"
   ]
  },
  {
   "cell_type": "code",
   "execution_count": null,
   "metadata": {},
   "outputs": [],
   "source": [
    "# Load your model\n",
    "onnx_model = onnxmltools.utils.load_model(input_onnx_model)\n",
    "\n",
    "# Convert tensor float type from your input ONNX model to tensor float16\n",
    "onnx_model = convert_float_to_float16(onnx_model)\n",
    "\n",
    "# Save as protobuf\n",
    "onnxmltools.utils.save_model(onnx_model, output_onnx_model)"
   ]
  }
 ],
 "metadata": {
  "kernelspec": {
   "display_name": "Python 3",
   "language": "python",
   "name": "python3"
  },
  "language_info": {
   "codemirror_mode": {
    "name": "ipython",
    "version": 3
   },
   "file_extension": ".py",
   "mimetype": "text/x-python",
   "name": "python",
   "nbconvert_exporter": "python",
   "pygments_lexer": "ipython3",
   "version": "3.6.5"
  }
 },
 "nbformat": 4,
 "nbformat_minor": 2
}
