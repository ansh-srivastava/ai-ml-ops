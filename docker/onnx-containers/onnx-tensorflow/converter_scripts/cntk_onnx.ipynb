{
 "cells": [
  {
   "cell_type": "code",
   "execution_count": null,
   "metadata": {},
   "outputs": [],
   "source": [
    "# CNTK exports to ONNX without the need for an external converter\n",
    "import cntk as C"
   ]
  },
  {
   "cell_type": "code",
   "execution_count": null,
   "metadata": {},
   "outputs": [],
   "source": [
    "# Update the input name and path for your CNTK model\n",
    "input_cntk_model = 'model.model'\n",
    "\n",
    "# Change this path to the output name and path for the onnx model\n",
    "output_onnx_model = 'model.onnx'"
   ]
  },
  {
   "cell_type": "code",
   "execution_count": null,
   "metadata": {},
   "outputs": [],
   "source": [
    "# Load your CNTK model\n",
    "cntk_model = C.Function.load(input_cntk_model, device=C.device.cpu())\n",
    "\n",
    "# Convert the CNTK model into ONNX\n",
    "cntk_model.save(output_onnx_model, format=C.ModelFormat.ONNX)"
   ]
  }
 ],
 "metadata": {
  "kernelspec": {
   "display_name": "Python 3",
   "language": "python",
   "name": "python3"
  },
  "language_info": {
   "codemirror_mode": {
    "name": "ipython",
    "version": 3
   },
   "file_extension": ".py",
   "mimetype": "text/x-python",
   "name": "python",
   "nbconvert_exporter": "python",
   "pygments_lexer": "ipython3",
   "version": "3.6.5"
  }
 },
 "nbformat": 4,
 "nbformat_minor": 2
}
