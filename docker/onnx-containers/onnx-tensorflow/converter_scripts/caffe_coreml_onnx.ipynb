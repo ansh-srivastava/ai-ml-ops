{
 "cells": [
  {
   "cell_type": "code",
   "execution_count": null,
   "metadata": {},
   "outputs": [],
   "source": [
    "import coremltools\n",
    "import onnxmltools"
   ]
  },
  {
   "cell_type": "code",
   "execution_count": null,
   "metadata": {},
   "outputs": [],
   "source": [
    "# Update your input name and path for your caffe model\n",
    "proto_file = 'model.prototxt' \n",
    "input_caffe_path = 'model.caffemodel'\n",
    "\n",
    "# Update the output name and path for intermediate coreml model, or leave as is\n",
    "output_coreml_model = 'model.mlmodel'\n",
    "\n",
    "# Change this path to the output name and path for the onnx model\n",
    "output_onnx_model = 'model.onnx'"
   ]
  },
  {
   "cell_type": "code",
   "execution_count": null,
   "metadata": {},
   "outputs": [],
   "source": [
    "# Convert Caffe model to CoreML \n",
    "coreml_model = coremltools.converters.caffe.convert((input_caffe_path, proto_file))\n",
    "\n",
    "# Save CoreML model\n",
    "coreml_model.save(output_coreml_model)\n",
    "\n",
    "# Load a Core ML model\n",
    "coreml_model = coremltools.utils.load_spec(output_coreml_model)\n",
    "\n",
    "# Convert the Core ML model into ONNX\n",
    "onnx_model = onnxmltools.convert_coreml(coreml_model)\n",
    "\n",
    "# Save as protobuf\n",
    "onnxmltools.utils.save_model(onnx_model, output_onnx_model)"
   ]
  }
 ],
 "metadata": {
  "kernelspec": {
   "display_name": "Python 3",
   "language": "python",
   "name": "python3"
  },
  "language_info": {
   "codemirror_mode": {
    "name": "ipython",
    "version": 3
   },
   "file_extension": ".py",
   "mimetype": "text/x-python",
   "name": "python",
   "nbconvert_exporter": "python",
   "pygments_lexer": "ipython3",
   "version": "3.6.5"
  }
 },
 "nbformat": 4,
 "nbformat_minor": 2
}
