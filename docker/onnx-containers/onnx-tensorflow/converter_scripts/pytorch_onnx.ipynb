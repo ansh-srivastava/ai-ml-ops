{
 "cells": [
  {
   "cell_type": "code",
   "execution_count": null,
   "metadata": {},
   "outputs": [],
   "source": [
    "# PyTorch exports to ONNX without the need for an external converter\n",
    "from torch.autograd import Variable\n",
    "import torch.onnx\n",
    "import torchvision"
   ]
  },
  {
   "cell_type": "code",
   "execution_count": null,
   "metadata": {},
   "outputs": [],
   "source": [
    "# Update the input name and path for your PyTorch model\n",
    "input_pytorch_model = 'model.pth'\n",
    "\n",
    "# Create input with the correct dimensions of the input of your model, these are default ImageNet inputs\n",
    "dummy_model_input = Variable(torch.randn(1, 3, 224, 224))\n",
    "\n",
    "# Change this path to the output name and path for the ONNX model\n",
    "output_onnx_model = 'model.onnx'"
   ]
  },
  {
   "cell_type": "code",
   "execution_count": null,
   "metadata": {},
   "outputs": [],
   "source": [
    "# load the PyTorch model\n",
    "model = torch.load(input_pytorch_model)\n",
    "\n",
    "# export the PyTorch model as an ONNX protobuf\n",
    "torch.onnx.export(model, dummy_model_input, output_onnx_model)"
   ]
  }
 ],
 "metadata": {
  "kernelspec": {
   "display_name": "Python 3",
   "language": "python",
   "name": "python3"
  },
  "language_info": {
   "codemirror_mode": {
    "name": "ipython",
    "version": 3
   },
   "file_extension": ".py",
   "mimetype": "text/x-python",
   "name": "python",
   "nbconvert_exporter": "python",
   "pygments_lexer": "ipython3",
   "version": "3.6.5"
  }
 },
 "nbformat": 4,
 "nbformat_minor": 2
}
