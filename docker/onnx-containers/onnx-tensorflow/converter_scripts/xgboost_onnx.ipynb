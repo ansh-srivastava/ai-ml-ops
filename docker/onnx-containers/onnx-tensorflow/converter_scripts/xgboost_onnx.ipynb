{
 "cells": [
  {
   "cell_type": "code",
   "execution_count": null,
   "metadata": {},
   "outputs": [],
   "source": [
    "import xgboost\n",
    "from onnxmltools import convert_xgboost\n",
    "from onnxmltools.common.data_types import *"
   ]
  },
  {
   "cell_type": "code",
   "execution_count": null,
   "metadata": {},
   "outputs": [],
   "source": [
    "# Update the input name and path for your XGBoost model\n",
    "input_xgb_model = 'xgb.model'\n",
    "\n",
    "# input data type for your model as a list of tuples\n",
    "input_data_type = [('float_input', FloatTensorType([1, 4]))]\n",
    "\n",
    "# Update the output name and path for your desired ONNX model\n",
    "output_onnx_model = 'model.onnx'"
   ]
  },
  {
   "cell_type": "code",
   "execution_count": null,
   "metadata": {},
   "outputs": [],
   "source": [
    "# Load your XGBoost model\n",
    "xgb_model = xgb.Booster(input_xgb_model)\n",
    "\n",
    "# Convert the XGBoost model into ONNX\n",
    "onnx_model = onnxmltools.convert_xgboost(xgb_model, initial_types=input_data_type)\n",
    "\n",
    "# Save as protobuf\n",
    "onnxmltools.utils.save_model(onnx_model, output_onnx_model)"
   ]
  }
 ],
 "metadata": {
  "kernelspec": {
   "display_name": "Python 3",
   "language": "python",
   "name": "python3"
  },
  "language_info": {
   "codemirror_mode": {
    "name": "ipython",
    "version": 3
   },
   "file_extension": ".py",
   "mimetype": "text/x-python",
   "name": "python",
   "nbconvert_exporter": "python",
   "pygments_lexer": "ipython3",
   "version": "3.6.5"
  }
 },
 "nbformat": 4,
 "nbformat_minor": 2
}
