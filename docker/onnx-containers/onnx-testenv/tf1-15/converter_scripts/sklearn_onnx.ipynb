{
 "cells": [
  {
   "cell_type": "code",
   "execution_count": null,
   "metadata": {},
   "outputs": [],
   "source": [
    "from sklearn.externals import joblib\n",
    "from skl2onnx import convert_sklearn\n",
    "from skl2onnx.common.data_types import *"
   ]
  },
  {
   "cell_type": "code",
   "execution_count": null,
   "metadata": {},
   "outputs": [],
   "source": [
    "# Update the input name and path for your sklearn model\n",
    "input_skl_model = 'model.pkl'\n",
    "\n",
    "# input data type for your sklearn model\n",
    "input_data_type = [('float_input', FloatTensorType([1, 4]))]\n",
    "\n",
    "# Change this path to the output name and path for the ONNX model\n",
    "output_onnx_model = 'model.onnx'"
   ]
  },
  {
   "cell_type": "code",
   "execution_count": null,
   "metadata": {},
   "outputs": [],
   "source": [
    "# Load your sklearn model\n",
    "skl_model = joblib.load(input_skl_model)\n",
    "\n",
    "# Convert the sklearn model into ONNX\n",
    "onnx_model = onnxmltools.convert_sklearn(skl_model, initial_types=input_data_type)\n",
    "\n",
    "# Save as protobuf\n",
    "onnxmltools.utils.save_model(onnx_model, output_onnx_model)"
   ]
  }
 ],
 "metadata": {
  "kernelspec": {
   "display_name": "Python 3",
   "language": "python",
   "name": "python3"
  },
  "language_info": {
   "codemirror_mode": {
    "name": "ipython",
    "version": 3
   },
   "file_extension": ".py",
   "mimetype": "text/x-python",
   "name": "python",
   "nbconvert_exporter": "python",
   "pygments_lexer": "ipython3",
   "version": "3.6.5"
  }
 },
 "nbformat": 4,
 "nbformat_minor": 2
}
